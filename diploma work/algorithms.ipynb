{
 "cells": [
  {
   "cell_type": "code",
   "execution_count": 1,
   "metadata": {},
   "outputs": [],
   "source": [
    "using LinearAlgebra, FFTW, FunctionOperators, OffsetArrays, IterativeSolvers, ToeplitzMatrices, Printf\n",
    "include(\"helper_functions.jl\")\n",
    "rank_rtol = 1e-4\n",
    "\n",
    "FFTW.set_num_threads(20)"
   ]
  },
  {
   "cell_type": "markdown",
   "metadata": {},
   "source": [
    "# 1. Algorithms\n",
    "## 1.1 Harmonic Mean Iterative Reweighted Least Squares (HM-IRLS)"
   ]
  },
  {
   "cell_type": "code",
   "execution_count": 2,
   "metadata": {},
   "outputs": [
    {
     "data": {
      "text/plain": [
       "update_𝒟⁻¹! (generic function with 1 method)"
      ]
     },
     "execution_count": 2,
     "metadata": {},
     "output_type": "execute_result"
    }
   ],
   "source": [
    "function update_H!(H, σ, ϵᵏ)\n",
    "    for ind in CartesianIndices(H)\n",
    "        i, j = ind[1], ind[2]\n",
    "        H[ind] = 1 / (max(σ[i], ϵᵏ) * max(σ[j], ϵᵏ))\n",
    "    end\n",
    "end\n",
    "\n",
    "function update_dH!(dH, σ, ϵᵏ, r̃)\n",
    "    for j in eachindex(dH)\n",
    "        dH[j] = 1 / (max(σ[r̃+1], ϵᵏ) * max(σ[j], ϵᵏ))\n",
    "    end\n",
    "end\n",
    "\n",
    "    \n",
    "split(γ, r̃, d₁, d₂) = @views begin\n",
    "    γ₁ = reshape(γ[1:r̃^2], r̃, r̃)\n",
    "    γ₂ = reshape(γ[r̃^2+1:r̃*(r̃+d₂)], r̃, d₂)\n",
    "    γ₃ = reshape(γ[r̃*(r̃+d₂)+1:r̃*(r̃+d₁+d₂)], d₁, r̃)\n",
    "    γ₁, γ₂, γ₃\n",
    "end\n",
    "\n",
    "function update_𝒟⁻¹!(𝒟⁻¹, H, dH, r̃, d₁, d₂)\n",
    "    𝒟⁻¹₁, 𝒟⁻¹₂, 𝒟⁻¹₃ = split(𝒟⁻¹, r̃, d₁, d₂)\n",
    "    𝒟⁻¹₁ .= H\n",
    "    for i in 1:d₂\n",
    "        𝒟⁻¹₂[:,i] .= dH\n",
    "    end\n",
    "    for i in 1:d₁\n",
    "        𝒟⁻¹₃[i,:] .= dH\n",
    "    end\n",
    "    𝒟⁻¹ .= 1 ./ 𝒟⁻¹\n",
    "end"
   ]
  },
  {
   "cell_type": "code",
   "execution_count": 3,
   "metadata": {},
   "outputs": [
    {
     "data": {
      "text/plain": [
       "get_P_operator (generic function with 1 method)"
      ]
     },
     "execution_count": 3,
     "metadata": {},
     "output_type": "execute_result"
    }
   ],
   "source": [
    "function get_P_operator(Uᵏ, Vᵏ, Vtᵏ, tempᵈ¹ˣᵈ², r̃, d₁, d₂, dType)\n",
    "    \n",
    "    tempᵈ¹ˣʳ, tempʳˣᵈ² = Array{dType}(undef, d₁, r̃), Array{dType}(undef, r̃, d₂)\n",
    "    \n",
    "    I_VV, I_UU = Array{dType}(undef, d₂, d₂), Array{dType}(undef, d₁, d₁)\n",
    "    Iᵈ¹ˣᵈ¹, Iᵈ²ˣᵈ² = Diagonal(ones(d₁)), Diagonal(ones(d₂))\n",
    "    \n",
    "    Pᵏ = FunctionOperator{dType}(name=\"Pᵏ\", inDims = (r̃*(r̃+d₁+d₂),), outDims = (d₁, d₂),\n",
    "        forw = (b,γ) -> begin\n",
    "                γ₁, γ₂, γ₃ = split(γ, r̃, d₁, d₂)\n",
    "                # According to (2.169), the equation would be:\n",
    "                # Uᵏ * γ₁ * Vᵏ' + Uᵏ * γ₂' * (I - Vᵏ*Vᵏ') + (I - Uᵏ*Uᵏ') * γ₃' * Vᵏ'\n",
    "                # But as the columns of γ₂ are orthogonal to the ones in Uᵏ,\n",
    "                # the rows of γ₃ are orthogonal to the columns of Vᵏ,\n",
    "                # the expression can be simplified:\n",
    "                # (Uᵏ * γ₁ + γ₃) * Vᵏ' + Uᵏ * γ₂\n",
    "                # And this is implemented avoiding array re-allocations:\n",
    "                mul!(tempᵈ¹ˣʳ, Uᵏ, γ₁)\n",
    "                tempᵈ¹ˣʳ .+= γ₃\n",
    "                mul!(b, tempᵈ¹ˣʳ, Vtᵏ)\n",
    "                mul!(tempᵈ¹ˣᵈ², Uᵏ, γ₂)\n",
    "                b .+= tempᵈ¹ˣᵈ²\n",
    "            end,\n",
    "        backw = (γ,Φᵃy) -> begin\n",
    "                γ₁, γ₂, γ₃ = split(γ, r̃, d₁, d₂)\n",
    "                # Things to do:\n",
    "                # γ₁ .= Uᵏ' * Φᵃy * Vᵏ\n",
    "                # γ₂ .= Uᵏ' * Φᵃy * (I - Vᵏ*Vᵏ')\n",
    "                # γ₃ .= (I - Uᵏ*Uᵏ') * Φᵃy * Vᵏ\n",
    "                # Efficient implementation:\n",
    "                I_VV .= Iᵈ²ˣᵈ² .- mul!(I_VV, Vᵏ, Vtᵏ) # same as I - Vᵏ*Vtᵏ\n",
    "                I_UU .= Iᵈ¹ˣᵈ¹ .- mul!(I_UU, Uᵏ, Uᵏ') # same as I - Uᵏ*Uᵏ'\n",
    "                mul!(tempᵈ¹ˣʳ, Φᵃy, Vᵏ)\n",
    "                mul!(γ₁, Uᵏ', tempᵈ¹ˣʳ)\n",
    "                mul!(γ₃, I_UU, tempᵈ¹ˣʳ)\n",
    "                mul!(tempʳˣᵈ², Uᵏ', Φᵃy)\n",
    "                mul!(γ₂, tempʳˣᵈ², I_VV)\n",
    "                γ\n",
    "                #vcat(vec(γ₁), vec(γ₂), vec(γ₃))\n",
    "            end)\n",
    "    \n",
    "    Pᵏ\n",
    "end"
   ]
  },
  {
   "cell_type": "code",
   "execution_count": 4,
   "metadata": {},
   "outputs": [
    {
     "data": {
      "text/plain": [
       "get_CG_operator (generic function with 1 method)"
      ]
     },
     "execution_count": 4,
     "metadata": {},
     "output_type": "execute_result"
    }
   ],
   "source": [
    "function get_CG_operator(PᵃΦᵃΦP, 𝒟_weighting, tempʳ⁽ʳ⁺ᵈ¹⁺ᵈ²⁾, r̃, d₁, d₂, dType)\n",
    "    FunctionOperator{dType}(name = \"CG_op\", inDims = (r̃*(r̃+d₁+d₂),), outDims = (r̃*(r̃+d₁+d₂),),\n",
    "        forw = (b,γ) ->  begin\n",
    "            # An efficient implementation for:\n",
    "            # b .= (ϵᵏ^2 * I / (𝒟⁻¹ - ϵᵏ^2 * I)) * γ + Pᵏ' * Φ' * Φ * Pᵏ * γ\n",
    "            mul!(tempʳ⁽ʳ⁺ᵈ¹⁺ᵈ²⁾, PᵃΦᵃΦP, γ)\n",
    "            mul!(b, Diagonal(𝒟_weighting), γ)\n",
    "            b .+= tempʳ⁽ʳ⁺ᵈ¹⁺ᵈ²⁾\n",
    "        end)\n",
    "end"
   ]
  },
  {
   "cell_type": "code",
   "execution_count": 5,
   "metadata": {},
   "outputs": [
    {
     "data": {
      "text/plain": [
       "HM_IRLS (generic function with 1 method)"
      ]
     },
     "execution_count": 5,
     "metadata": {},
     "output_type": "execute_result"
    }
   ],
   "source": [
    "function HM_IRLS(\n",
    "        Xᴳᵀ::AbstractArray,                     # ground truth for MSE evaluation\n",
    "        y::AbstractArray,                       # under-sampled data\n",
    "        Φ::FunctionOperator;                    # sampling operator\n",
    "        img_size::NTuple = size(Xᴳᵀ),           # size of output matrix\n",
    "        r̃::Int = 0,                             # rank estimate of solution\n",
    "        maxIter::Union{Int, Nothing} = nothing, # number of CG iteration steps\n",
    "        N::Int = 10,                            # number of iterations\n",
    "        verbose::Bool = false)                  # print rank and loss value in each iteration\n",
    "\n",
    "    # Initialize variables\n",
    "    @assert 3 ≤ length(img_size) ≤ 4\n",
    "    if length(img_size) == 3\n",
    "        nx,ny,nt = img_size\n",
    "        nc = size(y)[end]\n",
    "    else\n",
    "        nx,ny,nt,nc = img_size\n",
    "    end\n",
    "    dType = eltype(y)\n",
    "    d₁, d₂ = nx*nx, nt\n",
    "    y = reshape(y, :, nt, nc)\n",
    "    Φ = reshape(Φ, inDims = (d₁, d₂), outDims = size(y))\n",
    "    Xᴳᵀ = reshape(Xᴳᵀ, d₁, d₂)\n",
    "    r̃ == 0 && (r̃ = rank(Xᴳᵀ))\n",
    "    maxIter = maxIter isa Nothing ? r̃*(r̃+d₁+d₂) : maxIter\n",
    "    ϵᵏ = Inf\n",
    "    Xᵏ = Φ' * y\n",
    "    \n",
    "    # Preallocate arrays\n",
    "    F = svd(Xᵏ)\n",
    "    Uᵏ, σ, Vᵏ, Vtᵏ = F.U[:, 1:r̃], F.S, F.V[:, 1:r̃], F.Vt[1:r̃, :]\n",
    "    Hᵏᵤᵥ = Array{dType}(undef, r̃, r̃)\n",
    "    dHᵏ = Array{dType}(undef, r̃)\n",
    "    𝒟⁻¹, 𝒟_weighting, b, γᵏ, tempʳ⁽ʳ⁺ᵈ¹⁺ᵈ²⁾ = [Vector{dType}(undef, r̃*(r̃+d₁+d₂)) for _ in 1:5]\n",
    "    tempᵈ¹ˣᵈ² = Array{dType}(undef, d₁, d₂)\n",
    "    rᵏ, γᵏ_tilde = similar(y), similar(γᵏ)\n",
    "    statevars = IterativeSolvers.CGStateVariables(similar(γᵏ), similar(γᵏ), similar(γᵏ))\n",
    "    \n",
    "    # Create operators\n",
    "    Pᵏ= get_P_operator(Uᵏ, Vᵏ, Vtᵏ, tempᵈ¹ˣᵈ², r̃, d₁, d₂, dType)\n",
    "    PᵃΦᵃΦP = Pᵏ' * Φ' * Φ * Pᵏ\n",
    "    ΦP, PᵃΦᵃ = Φ * Pᵏ, Pᵏ' * Φ'\n",
    "    CG_op = get_CG_operator(PᵃΦᵃΦP, 𝒟_weighting, tempʳ⁽ʳ⁺ᵈ¹⁺ᵈ²⁾, r̃, d₁, d₂, dType)\n",
    "    \n",
    "    cost_vec = OffsetVector{real(dType)}(undef, 0:N)\n",
    "    rank_vec = OffsetVector{Int}(undef, 0:N)\n",
    "    time_vec = OffsetVector{Float64}(undef, 0:N)\n",
    "    time_vec[0] = 0\n",
    "\n",
    "    cost_vec[0] = norm(tempᵈ¹ˣᵈ² .= Xᴳᵀ .-  Xᵏ)\n",
    "    rank_vec[0] = sum(Int, σ .> rank_rtol)\n",
    "    verbose && iterationPrint(\"k\" => 0, \"rank(Xᵏ)\" => rank_vec[0],\n",
    "            \"‖Xᴳᵀ - Xᵏ‖₂\" => cost_vec[0], \"σ₁\" => σ[1], \"ϵᵏ\" => ϵᵏ)\n",
    "    \n",
    "    for k in 1:N\n",
    "        \n",
    "        time_vec[k] = time_vec[k-1] + @elapsed begin\n",
    "            \n",
    "            svd!(tempᵈ¹ˣᵈ² .= Xᵏ, F)\n",
    "            @views begin Uᵏ .= F.U[:, 1:r̃]; Vᵏ .=  F.V[:, 1:r̃]; Vtᵏ .= F.Vt[1:r̃, :]; end\n",
    "\n",
    "            ϵᵏ = min(ϵᵏ, σ[r̃+1])\n",
    "\n",
    "            update_H!(Hᵏᵤᵥ, σ, ϵᵏ)\n",
    "            update_dH!(dHᵏ, σ, ϵᵏ, r̃)\n",
    "            update_𝒟⁻¹!(𝒟⁻¹, Hᵏᵤᵥ, dHᵏ, r̃, d₁, d₂)\n",
    "\n",
    "            # An efficient implementation of 𝒟_weighting = ϵᵏ^2 * I / (𝒟⁻¹ - ϵᵏ^2 * I):\n",
    "            𝒟_weighting .= ϵᵏ^2 ./ (𝒟⁻¹ .- ϵᵏ^2)\n",
    "\n",
    "            mul!(b, PᵃΦᵃ, y) # right hand side for CG\n",
    "            mul!(γᵏ, Pᵏ', Xᵏ) # initial value for CG\n",
    "\n",
    "            cg!(γᵏ, CG_op, b, maxiter = maxIter, statevars = statevars) # 2.167\n",
    "\n",
    "            # An efficient implementation of rᵏ = y - Φ * Pᵏ * γᵏ:\n",
    "            rᵏ .= y .- mul!(rᵏ, ΦP,  γᵏ)\n",
    "\n",
    "            # An efficient implementation of γᵏ_tilde = Diagonal(𝒟⁻¹ ./ (𝒟⁻¹ .- ϵᵏ^2)) * γᵏ - Pᵏ' * Φ' * rᵏ\n",
    "            𝒟_weighting .= 𝒟⁻¹ ./ (𝒟⁻¹ .- ϵᵏ^2) # same as Diagonal(𝒟⁻¹ ./ (𝒟⁻¹ .- ϵᵏ^2))\n",
    "            mul!(tempʳ⁽ʳ⁺ᵈ¹⁺ᵈ²⁾, PᵃΦᵃ, rᵏ)\n",
    "            mul!(γᵏ_tilde, Diagonal(𝒟_weighting), γᵏ)\n",
    "            γᵏ_tilde .-= tempʳ⁽ʳ⁺ᵈ¹⁺ᵈ²⁾\n",
    "\n",
    "            # An efficient implementation of Xᵏ = Φ' * rᵏ + Pᵏ * γᵏ_tilde\n",
    "            mul!(Xᵏ, Pᵏ, γᵏ_tilde)\n",
    "            Xᵏ .+= mul!(tempᵈ¹ˣᵈ², Φ', rᵏ)   # 2.168\n",
    "            \n",
    "        end\n",
    "\n",
    "        cost_vec[k] = norm(tempᵈ¹ˣᵈ² .= Xᴳᵀ .-  Xᵏ)\n",
    "        rank_vec[k] = sum(Int, σ .> rank_rtol)\n",
    "        verbose && iterationPrint(\"k\" => k, \"rank(Xᵏ)\" => rank_vec[k],\n",
    "                \"‖Xᴳᵀ - Xᵏ‖₂\" => cost_vec[k], \"σ₁\" => σ[1], \"ϵᵏ\" => ϵᵏ)\n",
    "        \n",
    "    end\n",
    "    \n",
    "    reshape(Xᵏ, nx, ny ,nt), cost_vec, rank_vec, time_vec\n",
    "end"
   ]
  },
  {
   "cell_type": "markdown",
   "metadata": {},
   "source": [
    "The algorithms below are described in [this paper](https://web.eecs.umich.edu/~fessler/papers/files/jour/19/web/lin-19-edp.pdf) by Claire Yilin Lin, and Jeffrey A. Fessler, and follows their [original implementation in Matlab](https://github.com/JeffFessler/reproduce-l-s-dynamic-mri)."
   ]
  },
  {
   "cell_type": "markdown",
   "metadata": {},
   "source": [
    "## 1.2 Augmented Lagrangian + Conjugate Gradient\n",
    "\n",
    "**Problem formulation:** $argmin_{L,S}min_{U,W}\\{\\frac{1}{2}\\lVert \\textbf{E}(L+S) -d \\lVert_2^2 + \\lambda_L \\lVert P \\lVert_* + \\lambda_S \\lVert Q \\lVert_1\\} \\textrm{ subject to } \\begin{cases} P = L \\\\ Q = \\textbf{T}S \\end{cases}$\n",
    "\n",
    "**Modified AL function:** $\\frac{1}{2}\\lVert \\textbf{E}(L+S) - d \\lVert_2^2 + \\lambda_L \\lVert P \\lVert_* + \\lambda_S \\lVert Q \\lVert_1\\ + \\frac{\\delta_1}{2} \\lVert L - P + V_1 \\lVert_2^2 + \\frac{\\delta_2}{2} \\lVert \\textbf{T}S - Q + V_2 \\lVert_2^2$\n",
    "\n",
    "**Inputs:**\n",
    "\n",
    " - $d$: under-sampled multi-coil k-t data\n",
    " - $\\textbf{E}$: Acquisition operator\n",
    " - $\\textbf{T}$: temporal Fourier tranform\n",
    " - $\\lambda_L$: singular value threshold\n",
    " - $\\lambda_S$: sparsity threshold\n",
    " - $iterL$: number of conjugate gradient iteration steps for $S$\n",
    " - $iterL$: number of conjugate gradient iteration steps for $L$\n",
    " - $\\delta_1$, $\\delta_2$: AL penalty parameters\n",
    " - $N$: number of iterations\n",
    " \n",
    "**Initialization:** $L_0 = \\textbf{E}^∗ d$, $S_0 = V_{1,0} = V_{2,0} = 0$\n",
    "\n",
    "for $k = 1, 2, ... , N$ do\n",
    " - $P_k \\leftarrow \\textbf{SVT}_{\\lambda_L / \\delta_1} (L+V_2)$\n",
    " - $Q_k \\leftarrow \\textbf{T}^* \\Lambda_{\\lambda_S / \\delta_2} (\\textbf{T}S) + V_2 $\n",
    " - $L_k \\leftarrow CG_{solver}\\{\\textrm{get } x \\textrm{ s.t. } (\\textbf{E}^*\\textbf{E} + \\delta_1\\textbf{I})x = x_0 - \\textbf{E}^*\\textbf{E}S + \\delta_1(P-V_1) \\textrm{ starting from }L_{k-1}\\}$,<br> where $x_0 = \\textbf{E}^∗ d$ and $CG_{solver}$ is an iterative solver for conjugate gradient method\n",
    " - $S_k \\leftarrow CG_{solver}\\{\\textrm{get } x \\textrm{ s.t. } (\\textbf{E}^*\\textbf{E} + \\delta_2\\textbf{I})x = x_0 - \\textbf{E}^*\\textbf{E}L + \\delta_2(Q-V_2) \\textrm{ starting from }S_{k-1}\\}$,<br> where $x_0 = \\textbf{E}^∗ d$ and $CG_{solver}$ is an iterative solver for conjugate gradient method\n",
    " - $V_{1,k} \\leftarrow V_{1,k-1} + L_k - P$\n",
    " - $V_{2,k} \\leftarrow V_{2,k-1} + \\textbf{T}S_k - Q$\n",
    "\n",
    "end for\n",
    "\n",
    "**output:** $L_N, S_N$ "
   ]
  },
  {
   "cell_type": "markdown",
   "metadata": {},
   "source": [
    "Respective Matlab code: https://github.com/JeffFessler/reproduce-l-s-dynamic-mri/blob/master/algorithms/AL_CG.m"
   ]
  },
  {
   "cell_type": "code",
   "execution_count": 45,
   "metadata": {},
   "outputs": [
    {
     "data": {
      "text/plain": [
       "AL_CG (generic function with 1 method)"
      ]
     },
     "execution_count": 45,
     "metadata": {},
     "output_type": "execute_result"
    }
   ],
   "source": [
    "function AL_CG(\n",
    "        Xᴳᵀ::AbstractArray,                   # ground truth for MSE evaluation\n",
    "        d::AbstractArray,                     # under-sampled k-t data\n",
    "        E::FunctionOperator,                  # acquisition operator\n",
    "        T::FunctionOperator;                  # temporal Fourier tranform\n",
    "        img_shape::NTuple = size(d),          # size of output image\n",
    "        scale_L::Real = 1,                    # scaling factor for L\n",
    "        scale_S::Real = 1,                    # scaling factor for S\n",
    "        λ_L::Real = 0.01,                     # singular value threshold\n",
    "        λ_S::Real = 0.05,                     # sparsity threshold\n",
    "        δ₁::Real = 1//10,                     # first AL penalty parameter\n",
    "        δ₂::Real = 1//100,                    # second AL penalty parameter\n",
    "        iterL::Int = 3,                       # number of CG iteration steps for S\n",
    "        iterS::Int = iterL,                   # number of CG iteration steps for L\n",
    "        N::Int = 10,                          # number of iterations\n",
    "        verbose::Bool = false)                # print rank and loss value in each iteration\n",
    "    \n",
    "    complexType = eltype(d)\n",
    "    floatType = real(complexType)\n",
    "    \n",
    "    scale_L, scale_S, λ_L, λ_S, δ₁, δ₂ = convert(floatType, scale_L), convert(floatType, scale_S),\n",
    "        convert(floatType, λ_L), convert(floatType, λ_S), convert(floatType, δ₁), convert(floatType, δ₂)\n",
    "    \n",
    "    #Initialize\n",
    "    @assert 3 ≤ length(img_shape) ≤ 4\n",
    "    if length(img_shape) == 3\n",
    "        nx,ny,nt = img_shape\n",
    "        nc = size(d)[end]\n",
    "    else\n",
    "        nx,ny,nt,nc = img_shape\n",
    "    end\n",
    "    d = reshape(d, :, nt, nc)\n",
    "    E = reshape(E, inDims = (nx*nx, nt), outDims = size(d))\n",
    "    Xᴳᵀ = reshape(Xᴳᵀ, nx*nx, nt)\n",
    "    x₀ = E' * d # initial guess\n",
    "    \n",
    "    L, S = copy(x₀), zeros(complexType, size(x₀))\n",
    "    V₁, V₂ = zeros(complexType, size(L)), zeros(complexType, size(L))\n",
    "    \n",
    "    SVT! = getSVT()\n",
    "    \n",
    "    cg_tol = convert(floatType, 1e-5)\n",
    "    P, Q = similar(L), similar(L)\n",
    "    temp₁, temp₂ = similar(L), similar(L)\n",
    "    \n",
    "    cost_vec = OffsetVector{floatType}(undef, 0:N)\n",
    "    rank_vec = OffsetVector{Int}(undef, 0:N)\n",
    "    time_vec = OffsetVector{floatType}(undef, 0:N)\n",
    "    time_vec[0] = 0\n",
    "    cost_vec[0] = norm(temp₁ .= Xᴳᵀ .- L .- S)\n",
    "    rank_vec[0] = sum(Int, svdvals!(temp₁ .= L) .> rank_rtol)\n",
    "    verbose && iterationPrint(\"k\" => 0, \"rank(Xᵏ)\" => rank_vec[0],\n",
    "            \"‖Xᴳᵀ - Xᵏ‖₂\" => cost_vec[0])\n",
    "    \n",
    "    EᴴE_op, Tᴴ = E'*E, T'\n",
    "    cg_op₁, cg_op₂ = EᴴE_op + δ₁*I, EᴴE_op + δ₂*I\n",
    "    CGstate = CGStateVariables(temp₂, similar(L), similar(L))\n",
    "    \n",
    "    for k in 1:N\n",
    "        \n",
    "        time_vec[k] = time_vec[k-1] + @elapsed begin\n",
    "        \n",
    "            P = SVT!(P .= L .+ V₁, scale_L * λ_L / δ₁)\n",
    "            Q = Λ!(mul!(Q, T, S) .+= V₂, scale_S * λ_S / δ₂)\n",
    "\n",
    "            temp₁ .= x₀ .- mul!(temp₁, EᴴE_op, S) .+ δ₁.*(temp₂ .= P .- V₁)\n",
    "            cg!(L, cg_op₁, temp₁, tol=cg_tol, maxiter=iterL, statevars=CGstate)\n",
    "\n",
    "            mul!(temp₂, Tᴴ, temp₁ .= Q .- V₂)\n",
    "            temp₁ .= x₀ .- mul!(temp₁, EᴴE_op, L) .+ δ₂.*temp₂\n",
    "            cg!(S, cg_op₂, temp₁, tol=cg_tol, maxiter=iterS, statevars=CGstate)\n",
    "\n",
    "            V₁ .+= L .- P\n",
    "            V₂ .+= mul!(temp₁, T, S) .- Q\n",
    "\n",
    "        end\n",
    "        \n",
    "        cost_vec[k] = norm(temp₁ .= Xᴳᵀ .- L .- S)\n",
    "        rank_vec[k] = sum(Int, svdvals!(temp₁ .= L) .> rank_rtol)\n",
    "        verbose && iterationPrint(\"k\" => k, \"rank(Xᵏ)\" => rank_vec[k],\n",
    "                \"‖Xᴳᵀ - Xᵏ‖₂\" => cost_vec[k])\n",
    "        \n",
    "    end\n",
    "    \n",
    "    reshape(L, nx, ny, nt) + reshape(S, nx, ny, nt), rank_vec, cost_vec, time_vec\n",
    "end"
   ]
  },
  {
   "cell_type": "markdown",
   "metadata": {},
   "source": [
    "## 1.3 Improved Augmented Lagrangian\n",
    "\n",
    "**Problem formulation:** $argmin_{L,S}min_{Z,X}\\{\\frac{1}{2}\\lVert \\boldsymbol{\\Omega} Z -d \\lVert_2^2 + \\lambda_L \\lVert L \\lVert_* + \\lambda_S \\lVert \\textbf{T}S \\lVert_1\\} \\textrm{ subject to } \\begin{cases} Z = \\textbf{QC}X \\\\ X = L+S \\end{cases}$\n",
    "\n",
    "**Modified AL function:** $\\frac{1}{2}\\lVert \\boldsymbol{\\Omega} Z -d \\lVert_2^2 + \\lambda_L \\lVert L \\lVert_* + \\lambda_S \\lVert \\textbf{T}S \\lVert_1 + \\frac{\\delta_1}{2} \\lVert Z - \\textbf{QC} + V_1 \\lVert_2^2 + \\frac{\\delta_2}{2} \\lVert X - (L+S) + V_2 \\lVert_2^2$\n",
    "\n",
    "**Inputs:**\n",
    " - $d$: under-sampled multi-coil k-t data\n",
    " - $\\boldsymbol{\\Omega}$: under-sampling mask\n",
    " - $\\textbf{Q}$: Fourier encoding operator\n",
    " - $\\textbf{C}$: coil sensitivity maps\n",
    " - $\\textbf{T}$: temporal Fourier tranform\n",
    " - $\\lambda_L$: singular value threshold\n",
    " - $\\lambda_S$: sparsity threshold\n",
    " - $\\delta_1$, $\\delta_2$: AL penalty parameters\n",
    " - $N$: number of iterations\n",
    " \n",
    "**Initialization:** $X_0 = L_0 = C∗Q∗Ω∗d$, $S_0 = V_{1,0} = V_{2,0} = 0$\n",
    "\n",
    "for $k = 1, 2, ... , N$ do\n",
    " - $Z_k \\leftarrow argmin_Z \\frac{1}{2} \\lVert\\boldsymbol{\\Omega} Z-d\\lVert_2^2 + \\frac{\\delta_1}{2}\\lVert X - (L+S) + V_2\\lVert_2^2 = (\\boldsymbol{\\Omega}^*\\boldsymbol{\\Omega} + \\delta_1 \\textbf{I})^{-1}(\\boldsymbol{\\Omega}^*d + \\delta_1(\\textbf{Q}\\textbf{C}X - V_1))$\n",
    " - $X_k \\leftarrow argmin_X \\frac{\\delta_1}{2} \\lVert Z-\\textbf{QC}X+V\\_1 \\lVert_2^2 + \\frac{\\delta_2}{2} \\lVert X-(L+S) + V_2 \\lVert_2^2$ $ = (\\textbf{C}^*\\textbf{C} + \\frac{\\delta_1}{\\delta_2}\\textbf{I})^{-1}(\\textbf{C}^*\\textbf{Q}^*(Z+V_1)+\\frac{\\delta_1}{\\delta_2}(L+S+V_2)) = \\frac{\\delta_1}{\\delta_1+\\delta_2}(\\textbf{C}^*\\textbf{Q}^*(Z+V_1) + \\frac{\\delta_2}{\\delta_1}(L+S-V_2))$\n",
    " - $L_k \\leftarrow argmin_L (\\lambda_L \\lVert L \\lVert_* + \\frac{\\delta_2}{2} \\lVert X - (L + S) + V_2 \\lVert_2^2) = \\textbf{SVT}_{\\lambda_L / \\delta_2} (X-S+V_2)$\n",
    " - $S_k \\leftarrow argmin_S (\\lambda_S \\lVert \\textbf{T} S \\lVert_1 + \\frac{\\delta_2}{2} \\lVert X - (L + S) + V_2 \\lVert_2^2)$ $ = \\textbf{T}^* (argmin_S (\\lambda_S \\lVert \\tilde{S} \\lVert_1 + \\frac{\\delta_2}{2} \\lVert \\textbf{T}(X - (L + S) + V_2) - \\tilde{S} \\lVert_2^2)$ $ = \\textbf{T}^* \\Lambda_{\\lambda_S / \\delta_2} (\\textbf{T}(X - L + V_2)) $ where $\\tilde{S} = \\textbf{T}S$\n",
    " - $V_{1,k} \\leftarrow V_{1,k-1} + (Z_k − \\textbf{QC}X_k)$\n",
    " - $V_{2,k} \\leftarrow V_{2,k-1} + X_k − (L_k + S_k)$\n",
    "\n",
    "end for\n",
    "\n",
    "**output:** $L_N, S_N$ "
   ]
  },
  {
   "cell_type": "markdown",
   "metadata": {},
   "source": [
    "Respective Matlab code: https://github.com/JeffFessler/reproduce-l-s-dynamic-mri/blob/master/algorithms/AL_2.m"
   ]
  },
  {
   "cell_type": "code",
   "execution_count": 43,
   "metadata": {},
   "outputs": [
    {
     "data": {
      "text/plain": [
       "AL_2 (generic function with 1 method)"
      ]
     },
     "execution_count": 43,
     "metadata": {},
     "output_type": "execute_result"
    }
   ],
   "source": [
    "function AL_2(\n",
    "        Xᴳᵀ::AbstractArray,                   # ground truth for MSE evaluation\n",
    "        d::AbstractArray,                     # under-sampled k-t data\n",
    "        Ω::FunctionOperator,                  # under-sampling mask\n",
    "        Q::FunctionOperator,                  # Fourier encoding operator\n",
    "        C::FunctionOperator,                  # coil sensitivity maps\n",
    "        T::FunctionOperator;                  # temporal Fourier tranform\n",
    "        img_shape::NTuple = size(d),          # size of output image\n",
    "        scale_L::Real = 1,                    # scaling factor for L\n",
    "        scale_S::Real = 1,                    # scaling factor for S\n",
    "        λ_L::Real = 0.01,                     # singular value threshold\n",
    "        λ_S::Real = 0.05,                     # sparsity threshold\n",
    "        δ₁::Real = 1//10,                     # first AL penalty parameter\n",
    "        δ₂::Real = 1//100,                    # second AL penalty parameter\n",
    "        N::Int = 10,                          # number of iterations\n",
    "        verbose::Bool = false)                # print rank and loss value in each iteration\n",
    "    \n",
    "    complexType = eltype(d)\n",
    "    floatType = real(complexType)\n",
    "    \n",
    "    scale_L, scale_S, λ_L, λ_S, δ₁, δ₂ = convert(floatType, scale_L), convert(floatType, scale_S),\n",
    "        convert(floatType, λ_L), convert(floatType, λ_S), convert(floatType, δ₁), convert(floatType, δ₂)\n",
    "    \n",
    "    #Initialize\n",
    "    @assert 3 ≤ length(img_shape) ≤ 4\n",
    "    if length(img_shape) == 3\n",
    "        nx,ny,nt = img_shape\n",
    "        nc = size(d)[end]\n",
    "    else\n",
    "        nx,ny,nt,nc = img_shape\n",
    "    end\n",
    "    E = reshape(Ω * Q * C, inDims = (nx*nx, nt), outDims = size(d))\n",
    "    QC = reshape(Q * C, inDims = (nx*nx, nt), outDims = size(d))\n",
    "    Xᴳᵀ = reshape(Xᴳᵀ, nx*nx, nt)\n",
    "    Tᴴ, QCᴴ = T', QC'\n",
    "    \n",
    "    L = reshape(E' * d, nx*ny, nt) # initial guess\n",
    "    S = zeros(complexType, size(L))\n",
    "    X = L + S\n",
    "    V₁ = zeros(complexType, size(d))\n",
    "    V₂ = zeros(complexType, size(L))\n",
    "    Z_scaler = repeat(1 ./ (samp .+ δ₁), 1, 1, 1, nc) # equivalent to (Ω'*Ω + δ₁*I)'\n",
    "    temp₁, temp₂, Z, temp₃, temp₄ = similar(L), similar(L), similar(d), similar(d), similar(d)\n",
    "    \n",
    "    SVT! = getSVT()\n",
    "    \n",
    "    cost_vec = OffsetVector{floatType}(undef, 0:N)\n",
    "    rank_vec = OffsetVector{Int}(undef, 0:N)\n",
    "    time_vec = OffsetVector{floatType}(undef, 0:N)\n",
    "    time_vec[0] = 0\n",
    "    cost_vec[0] = norm(temp₁ .= Xᴳᵀ .- L .- S)\n",
    "    rank_vec[0] = sum(Int, svdvals!(temp₁ .= L) .> rank_rtol)\n",
    "    verbose && iterationPrint(\"k\" => 0, \"rank(Xᵏ)\" => rank_vec[0],\n",
    "            \"‖Xᴳᵀ - Xᵏ‖₂\" => cost_vec[0])\n",
    "    \n",
    "    # Iteration\n",
    "    for k in 1:N\n",
    "        \n",
    "        time_vec[k] = time_vec[k-1] + @elapsed begin\n",
    "        \n",
    "            temp₃ .= d #mul!(temp₃, Ω', d)\n",
    "            mul!(temp₄, QC, X)\n",
    "            Z .= Z_scaler .* (temp₃ .+ δ₁ .* (temp₄ .- V₁))\n",
    "\n",
    "            mul!(temp₁, QCᴴ, temp₃ .= Z .+ V₁)\n",
    "            temp₂ .= L .+ S .- V₂\n",
    "            X .= δ₁./(δ₁ .+ δ₂).*temp₁ .+ δ₂./(δ₁ .+ δ₂).*temp₂\n",
    "\n",
    "            L = SVT!(L .= X .- S .+ V₂, scale_L * λ_L / δ₂)\n",
    "\n",
    "            mul!(temp₁, T, temp₁ .= X .- L .+ V₂)\n",
    "            mul!(S, Tᴴ, Λ!(temp₁, scale_S * λ_S / δ₂))\n",
    "\n",
    "            mul!(temp₃, QC, X)\n",
    "            V₁ .+= Z .- temp₃\n",
    "\n",
    "            V₂ .+= X .- L .- S\n",
    "            \n",
    "        end\n",
    "        \n",
    "        cost_vec[k] = norm(temp₁ .= Xᴳᵀ .- L .- S)\n",
    "        rank_vec[k] = sum(Int, svdvals!(temp₁ .= L) .> rank_rtol)\n",
    "        verbose && iterationPrint(\"k\" => k, \"rank(Xᵏ)\" => rank_vec[k],\n",
    "                \"‖Xᴳᵀ - Xᵏ‖₂\" => cost_vec[k])\n",
    "    end\n",
    "    \n",
    "    reshape(L, nx, ny, nt) + reshape(S, nx, ny, nt), rank_vec, cost_vec, time_vec\n",
    "end"
   ]
  },
  {
   "cell_type": "markdown",
   "metadata": {},
   "source": [
    "## 1.4 Proximal Gradient Methods\n",
    "\n",
    "**Inputs:**\n",
    "\n",
    " - $d$: under-sampled k-t data\n",
    " - $\\textbf{E}$: data acquisition operator\n",
    " - $\\textbf{T}$: temporal Fourier transform\n",
    " - $\\lambda_L$: singular value threshold\n",
    " - $\\lambda_S$: sparsity threshold\n",
    " - $N$: number of iterations\n",
    " - $momentum$: update rule (ISTA/FISTA/POGM)\n",
    " \n",
    "**Initialization:** $M_0 = L_0 = \\tilde{L}_0 = \\bar{L}_0 = E∗d, S_0 = 0, \\theta_0 = \\zeta_0 = 1, t = 0.5 \\textrm{ (for FISTA and POGM) or } 0.99 \\textrm{ (for ISTA)}$\n",
    "\n",
    "for $k = 1, 2, ... , N$ do\n",
    "\n",
    " - $\\tilde{L}_k \\leftarrow M_{k-1} - S_{k-1}$\n",
    " - $\\tilde{S}_k \\leftarrow M_{k-1} - L_{k-1}$\n",
    " - $\\theta_k \\leftarrow \\begin{cases} \\frac{1+\\sqrt{1 + 4\\theta_{k-1}^2}}{2} \\\\ \\frac{1+\\sqrt{1 + 8\\theta_{k-1}^2}}{2} \\end{cases}$\n",
    " - $\\bar{X}_k \\leftarrow \\begin{cases} \\tilde{X}_k : momentum = ISTA \\\\ \\tilde{X}_k + \\frac{\\theta_{k-1}-1}{\\theta_k}(\\tilde{X}_k - \\tilde{X}_{k-1}) + \\frac{\\theta_{k-1}}{\\theta_k}(\\tilde{X}_k - X_{k-1}) : momentum = FISTA \\\\ \\tilde{X}_k + \\frac{\\theta_{k-1}-1}{\\theta_k}(\\tilde{X}_k - \\tilde{X}_{k-1}) + \\frac{\\theta_{k-1}}{\\theta_k}(\\tilde{X}_k - X_{k-1}) + \\frac{\\theta_{k-1}-1}{\\zeta_{k-1} \\theta_k}(\\bar{X}_{k-1} - X_{k-1}) : momentum = POGM \\end{cases}$\n",
    " - $\\zeta_k \\leftarrow t(1+\\frac{\\theta_{k-1}-1}{\\theta_k} + \\frac{\\theta_{k-1}}{\\theta_k})$\n",
    " - $L_k \\leftarrow \\textbf{SVT}_{\\lambda_L}(\\bar{L}_k)$\n",
    " - $S_k \\leftarrow \\textbf{T}^*(\\Lambda_{\\lambda_S}[\\textbf{T}(\\bar{S}_k)])$\n",
    " - $M_k \\leftarrow L_k + S_k - t\\textbf{E}^* (\\textbf{E}(L_k +S_k)-d)$\n",
    "\n",
    "end for\n",
    "\n",
    "**output:** $X_N$"
   ]
  },
  {
   "cell_type": "markdown",
   "metadata": {},
   "source": [
    "This funciton creates the following construct: $X = \\begin{bmatrix}L \\\\ S\\end{bmatrix}$ in such a way that modifying $L$ or $S$ also takes effect in $X$, and vice versa."
   ]
  },
  {
   "cell_type": "code",
   "execution_count": 8,
   "metadata": {},
   "outputs": [
    {
     "data": {
      "text/plain": [
       "allocate (generic function with 1 method)"
      ]
     },
     "execution_count": 8,
     "metadata": {},
     "output_type": "execute_result"
    }
   ],
   "source": [
    "function createXLS(dType, row_dim, nt)\n",
    "    X = zeros(dType, row_dim, 2*nt)\n",
    "    L = view(X, :, 1:nt)\n",
    "    S = view(X, :, nt + 1:2*nt)\n",
    "    return X,L,S\n",
    "end\n",
    "function allocate(dType, row_dim, nt)\n",
    "    createXLS(dType, row_dim, nt)..., createXLS(dType, row_dim, nt)...\n",
    "end"
   ]
  },
  {
   "cell_type": "markdown",
   "metadata": {},
   "source": [
    "Respective Matlab code: https://github.com/JeffFessler/reproduce-l-s-dynamic-mri/blob/master/algorithms/PGM.m"
   ]
  },
  {
   "cell_type": "code",
   "execution_count": 48,
   "metadata": {},
   "outputs": [
    {
     "data": {
      "text/plain": [
       "PGM (generic function with 1 method)"
      ]
     },
     "execution_count": 48,
     "metadata": {},
     "output_type": "execute_result"
    }
   ],
   "source": [
    "function PGM(\n",
    "        Xᴳᵀ::AbstractArray,                 # ground truth for MSE evaluation\n",
    "        d::AbstractArray,                   # under-sampled k-t data\n",
    "        E::FunctionOperator,                # acquisition operator\n",
    "        T::FunctionOperator;                # sparsifying operator\n",
    "        img_shape::NTuple = size(d),        # size of output image\n",
    "        scale_L::Real = 1,                  # scaling factor for L\n",
    "        scale_S::Real = 1,                  # scaling factor for S\n",
    "        tscale::Real = 1,                   # scaling factor for t\n",
    "        λ_L::Real = 0.01,                   # singular value threshold\n",
    "        λ_S::Real = 0.05,                   # sparsity threshold\n",
    "        N::Int = 10,                        # number of iterations\n",
    "        restart::Bool = true,               # reset θₖ if cost increased\n",
    "        momentum::Symbol = :pogm,           # update rule (:pogm, :ista, :fista)\n",
    "        verbose::Bool = false)              # print rank and loss value in each iteration\n",
    "    \n",
    "    complexType = eltype(d)\n",
    "    floatType = real(complexType)\n",
    "    \n",
    "    scale_L, scale_S, tscale, λ_L, λ_S = convert(floatType, scale_L), convert(floatType, scale_S),\n",
    "        convert(floatType, tscale), convert(floatType, λ_L), convert(floatType, λ_S)\n",
    "    \n",
    "    #Initialize\n",
    "    @assert 3 ≤ length(img_shape) ≤ 4\n",
    "    if length(img_shape) == 3\n",
    "        nx,ny,nt = img_shape\n",
    "        nc = size(d)[end]\n",
    "    else\n",
    "        nx,ny,nt,nc = img_shape\n",
    "    end\n",
    "    row_dim = nx*ny\n",
    "    d = reshape(d, :, nt, nc)\n",
    "    E = reshape(E, inDims = (row_dim, nt), outDims = size(d))\n",
    "    Xᴳᵀ = reshape(Xᴳᵀ, nx*nx, nt)\n",
    "    x₀ = E' * d # initial guess\n",
    "    \n",
    "    Xₖ₋₁,Lₖ₋₁,Sₖ₋₁,Xₖ,Lₖ,Sₖ = allocate(complexType, row_dim, nt)\n",
    "    X̃ₖ₋₁,L̃ₖ₋₁,S̃ₖ₋₁,X̃ₖ,L̃ₖ,S̃ₖ = allocate(complexType, row_dim, nt)\n",
    "    if momentum == :pogm\n",
    "        X̄ₖ₋₁,L̄ₖ₋₁,S̄ₖ₋₁,X̄ₖ,L̄ₖ,S̄ₖ = allocate(complexType, row_dim, nt)\n",
    "    else\n",
    "        X̄ₖ₋₁,L̄ₖ₋₁,S̄ₖ₋₁,X̄ₖ,L̄ₖ,S̄ₖ = X̃ₖ₋₁,L̃ₖ₋₁,S̃ₖ₋₁,X̃ₖ,L̃ₖ,S̃ₖ\n",
    "    end\n",
    "    Lₖ₋₁ .= x₀\n",
    "    X̄ₖ₋₁ .= X̃ₖ₋₁ .= Xₖ₋₁\n",
    "    temp₁, temp₂ = similar(Lₖ₋₁), similar(d)\n",
    "    Eᴴ, Tᴴ = E', T'\n",
    "    \n",
    "    t = (in(momentum, (:fista, :pogm)) ? 5//10 : 99//100) * tscale\n",
    "    \n",
    "    mul!(temp₂, E, x₀)\n",
    "    mul!(temp₁, E', temp₂ .-= d)\n",
    "    Mₖ = Mₖ₋₁ = x₀ .- t .* temp₁ # we don't need two arrays for M, but it looks better this way\n",
    "    \n",
    "    θₖ₋₁ = ζₖ₋₁ = 1.\n",
    "    \n",
    "    SVT! = getSVT()\n",
    "    \n",
    "    cost_vec = OffsetVector{floatType}(undef, 0:N)\n",
    "    rank_vec = OffsetVector{Int}(undef, 0:N)\n",
    "    time_vec = OffsetVector{floatType}(undef, 0:N)\n",
    "    time_vec[0] = 0\n",
    "    cost_vec[0] = norm(temp₁ .= Xᴳᵀ .- Lₖ₋₁ .- Sₖ₋₁)\n",
    "    rank_vec[0] = sum(Int, svdvals!(temp₁ .= Lₖ₋₁) .> rank_rtol)\n",
    "    verbose && iterationPrint(\"k\" => 0, \"rank(Xᵏ)\" => rank_vec[0],\n",
    "            \"‖Xᴳᵀ - Xᵏ‖₂\" => cost_vec[0])\n",
    "    \n",
    "    # Iteration\n",
    "    for k in 1:N\n",
    "        \n",
    "        time_vec[k] = time_vec[k-1] + @elapsed begin\n",
    "            \n",
    "            @. L̃ₖ = Mₖ₋₁ - Sₖ₋₁\n",
    "            @. S̃ₖ = Mₖ₋₁ - Lₖ₋₁\n",
    "\n",
    "            θₖ  = (1 + √(1 + (k < N ? 4 : 8)*θₖ₋₁^2))/2\n",
    "\n",
    "            if momentum == :pogm\n",
    "                @. X̄ₖ = X̃ₖ + (θₖ₋₁-1)/θₖ*(X̃ₖ - X̃ₖ₋₁) +\n",
    "                    (θₖ₋₁)/θₖ*(X̃ₖ - Xₖ₋₁) + (θₖ₋₁-1)/(ζₖ₋₁*θₖ)*t*(X̄ₖ₋₁ - Xₖ₋₁)\n",
    "            elseif momentum == :fista\n",
    "                @. X̄ₖ = X̃ₖ + (θₖ₋₁-1)/θₖ*(X̃ₖ - X̃ₖ₋₁)\n",
    "            else\n",
    "                # nothing to do as X̄ₖ == X̃ₖ\n",
    "            end\n",
    "\n",
    "            ζₖ  = t*(1 + (θₖ₋₁-1)/θₖ + (θₖ₋₁)/θₖ)\n",
    "\n",
    "            SVT!(Lₖ .= L̄ₖ, scale_L*λ_L)\n",
    "\n",
    "            mul!(temp₁, T, temp₁ .= S̄ₖ) # T operator in doesn't like subarrays\n",
    "            mul!(temp₁, Tᴴ, Λ!(temp₁, scale_S*λ_S))\n",
    "            Sₖ .= temp₁\n",
    "\n",
    "            mul!(temp₂, E, temp₁ .= Lₖ .+ Sₖ)\n",
    "            mul!(temp₁, Eᴴ, temp₂ .-= d)\n",
    "            @. Mₖ = Lₖ + Sₖ - t * temp₁\n",
    "        \n",
    "        end\n",
    "        \n",
    "        cost_vec[k] = norm(temp₁ .= Xᴳᵀ .- Lₖ .- Sₖ)\n",
    "        rank_vec[k] = sum(Int, svdvals!(temp₁ .= Lₖ) .> rank_rtol)\n",
    "        verbose && iterationPrint(\"k\" => k, \"rank(Xᵏ)\" => rank_vec[k],\n",
    "                \"‖Xᴳᵀ - Xᵏ‖₂\" => cost_vec[k])\n",
    "        \n",
    "        # Move (k) -> (k-1), and avoid allocation for new (k)\n",
    "        #      => switch (k) and (k-1) matrices\n",
    "        @swap(Xₖ₋₁, Xₖ); @swap(X̃ₖ₋₁, X̃ₖ); @swap(X̄ₖ₋₁, X̄ₖ)\n",
    "        @swap(Lₖ₋₁, Lₖ); @swap(L̃ₖ₋₁, L̃ₖ); @swap(L̄ₖ₋₁, L̄ₖ)\n",
    "        @swap(Sₖ₋₁, Sₖ); @swap(S̃ₖ₋₁, S̃ₖ); @swap(S̄ₖ₋₁, S̄ₖ)\n",
    "        @swap(Mₖ₋₁, Mₖ)\n",
    "        θₖ₋₁, ζₖ₋₁ = θₖ, ζₖ\n",
    "    end\n",
    "    \n",
    "    reshape(Lₖ, nx, ny, nt) + reshape(Sₖ, nx, ny, nt), rank_vec, cost_vec, time_vec\n",
    "end"
   ]
  },
  {
   "cell_type": "markdown",
   "metadata": {},
   "source": [
    "# 2. Helper functions\n",
    "**Thresholding**"
   ]
  },
  {
   "cell_type": "code",
   "execution_count": 15,
   "metadata": {},
   "outputs": [
    {
     "data": {
      "text/plain": [
       "getSVT (generic function with 1 method)"
      ]
     },
     "execution_count": 15,
     "metadata": {},
     "output_type": "execute_result"
    }
   ],
   "source": [
    "pos(x) = x < 0 ? zero(x) : x\n",
    "Λ! = (v,p) -> @. v = sign(v) * pos(abs(v) - p)\n",
    "\n",
    "function getSVT()\n",
    "    F = nothing\n",
    "    (A,p) -> begin\n",
    "        F isa Nothing ? (F = svd!(A)) : svd!(A, F)\n",
    "        mul!(A, F.U, mul!(F.Vt, Diagonal(Λ!(F.S, p)), F.Vt))\n",
    "    end\n",
    "end"
   ]
  },
  {
   "cell_type": "markdown",
   "metadata": {},
   "source": [
    "**Norms**"
   ]
  },
  {
   "cell_type": "code",
   "execution_count": 16,
   "metadata": {},
   "outputs": [
    {
     "data": {
      "text/plain": [
       "normₙ! (generic function with 1 method)"
      ]
     },
     "execution_count": 16,
     "metadata": {},
     "output_type": "execute_result"
    }
   ],
   "source": [
    "normₙ!(A) = sum(svdvals!(A))"
   ]
  },
  {
   "cell_type": "code",
   "execution_count": 17,
   "metadata": {},
   "outputs": [],
   "source": [
    "import Base.size\n",
    "function Base.size(FO::FunctionOperator, d::Int)\n",
    "    @assert d in [1, 2]\n",
    "    prod(d == 1 ? FO.outDims : FO.inDims)\n",
    "end"
   ]
  },
  {
   "cell_type": "code",
   "execution_count": 18,
   "metadata": {},
   "outputs": [
    {
     "data": {
      "text/plain": [
       "iterationPrint (generic function with 1 method)"
      ]
     },
     "execution_count": 18,
     "metadata": {},
     "output_type": "execute_result"
    }
   ],
   "source": [
    "format(value) = value isa Real && !(value isa Int) ? @sprintf(\"%.3f\", value) : string(value)\n",
    "\n",
    "iterationPrint(pairs...) =\n",
    "    println(join([key*\" = \"*format(value) for (key,value) in pairs], \",\\t\"))"
   ]
  },
  {
   "cell_type": "code",
   "execution_count": null,
   "metadata": {},
   "outputs": [],
   "source": []
  }
 ],
 "metadata": {
  "kernelspec": {
   "display_name": "Julia 1.4.1",
   "language": "julia",
   "name": "julia-1.4"
  },
  "language_info": {
   "file_extension": ".jl",
   "mimetype": "application/julia",
   "name": "julia",
   "version": "1.4.1"
  },
  "toc": {
   "base_numbering": 1,
   "nav_menu": {},
   "number_sections": false,
   "sideBar": true,
   "skip_h1_title": false,
   "title_cell": "Table of Contents",
   "title_sidebar": "Contents",
   "toc_cell": true,
   "toc_position": {},
   "toc_section_display": true,
   "toc_window_display": true
  },
  "toc-showcode": false,
  "toc-showmarkdowntxt": false,
  "toc-showtags": false
 },
 "nbformat": 4,
 "nbformat_minor": 4
}
