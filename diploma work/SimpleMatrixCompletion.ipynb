{
 "cells": [
  {
   "cell_type": "code",
   "execution_count": 1,
   "metadata": {},
   "outputs": [],
   "source": [
    "using LinearAlgebra, ToeplitzMatrices, Random, IterativeSolvers, FunctionOperators,\n",
    "    EllipsisNotation, Printf, BenchmarkTools\n",
    "Random.seed!(1)\n",
    "include(\"helper_functions.jl\");"
   ]
  },
  {
   "cell_type": "markdown",
   "metadata": {},
   "source": [
    "### A more or less readable implementation of the HM-IRLS for matrix completion with p = 0"
   ]
  },
  {
   "cell_type": "code",
   "execution_count": 2,
   "metadata": {},
   "outputs": [
    {
     "data": {
      "text/plain": [
       "HM_IRLS (generic function with 1 method)"
      ]
     },
     "execution_count": 2,
     "metadata": {},
     "output_type": "execute_result"
    }
   ],
   "source": [
    "function HM_IRLS(\n",
    "        Xᴳᵀ::AbstractArray,                     # ground truth for MSE evaluation\n",
    "        y::AbstractArray,                       # under-sampled data\n",
    "        Φ::FunctionOperator;                    # sampling operator\n",
    "        img_size::NTuple = size(Xᴳᵀ),           # size of output matrix\n",
    "        r̃::Int = 0,                             # rank estimate of solution\n",
    "        maxIter::Union{Int, Nothing} = nothing, # number of CG iteration steps\n",
    "        N::Int = 10,                            # number of iterations\n",
    "        verbose::Bool = false)                  # print rank and loss value in each iteration\n",
    "    \n",
    "    # Initialize variables\n",
    "    dType = eltype(y)\n",
    "    d₁, d₂ = img_size\n",
    "    r̃ == 0 && (r̃ = rank(Xᴳᵀ))\n",
    "    maxIter = maxIter isa Nothing ? r̃*(r̃+d₁+d₂) : maxIter\n",
    "    ϵᵏ = Inf\n",
    "    Xᵏ = Φ' * y\n",
    "    σ = nothing # I just want to make it available outside of the loop\n",
    "    \n",
    "    for k in 1:N\n",
    "\"\"\"\n",
    "    2. Find best rank-(r̃ + 1) approximation of Xᵏ to obtain\n",
    "        𝒯ᵣ(Xᵏ) = Uᵏ * diag(σᵢᵏ)ᵢ₌₁ʳ * Vᵏ' and σᵣ₊₁ᵏ \n",
    "\"\"\"\n",
    "        F = svd(Xᵏ)\n",
    "        Uᵏ, σ, Vᵏ = F.U[:, 1:r̃], F.S, F.V[:, 1:r̃]\n",
    "        \n",
    "\"\"\"     update smoothing:                                 (2.91) \"\"\"\n",
    "        ϵᵏ = min(ϵᵏ, σ[r̃+1])\n",
    "        \n",
    "        r, n, s, e = sum(svdvals(Xᵏ) .> 1e-3), opnorm(Xᴳᵀ - Xᵏ, 2), σ[1], ϵᵏ\n",
    "        n, s, e = @sprintf(\"%.3f\", n), @sprintf(\"%.3f\", s), @sprintf(\"%.3f\", e)\n",
    "        verbose && println(\"k = $(k-1),\\trank(Xᵏ) = $r,\\t‖Xᴳᵀ - Xᵏ‖₂ = $n, σ₁ = $s, ϵᵏ = $e\")\n",
    "        \n",
    "\"\"\"\n",
    "    3. Update Wᵏ as in (2.57), using parameters ϵ = ϵᵏ and p in (2.58) and (2.59), and the\n",
    "        information Uᵏ , Vᵏ and σ₁ᵏ, ..., σᵣ₊₁ᵏ from item 2.\n",
    "\n",
    "        (Lines below are based on Remark 2.3.2, the special case for p = 0)\n",
    "\"\"\"\n",
    "        # Hᵏ = [1 / (max(σ[i], ϵᵏ) * max(σ[j], ϵᵏ))  for i in 1:r̃+1, j in 1:r̃+1]\n",
    "        #Wᵏ = FunctionOperator{dType}(name = \"Wᵏ\", inDims = (d₁, d₂), outDims = (d₁, d₂),\n",
    "        #    forw = Z -> Uᵏ * (Hᵏ .* (Uᵏ' * Z * Vᵏ)) * Vᵏ')\n",
    "        \n",
    "\"\"\"\n",
    "    1. Use a conjugate gradient method to solve linearly constrained quadratic program\n",
    "         Xᵏ = arg minₓ ⟨X,Wᵏ⁻¹(X)⟩ s.t. Φ(X) = y         (2.90)\n",
    "\"\"\"\n",
    "        \n",
    "        # the upper-left (r × r) block of (d₁ × d₂) Hᵏ matrix:\n",
    "        Hᵏᵤᵥ = [1 / (max(σ[i], ϵᵏ) * max(σ[j], ϵᵏ))  for i in 1:r̃, j in 1:r̃]\n",
    "        # the first column of Hᵏᵤᵥ⟂:\n",
    "        dHᵏ = reshape([1 / (max(σ[r̃+1], ϵᵏ) * max(σ[j], ϵᵏ))  for j in 1:r̃], :, 1)\n",
    "        Pᵏ = FunctionOperator{dType}(name=\"Pᵏ\", inDims = (r̃*(r̃+d₁+d₂),), outDims = (d₁, d₂),\n",
    "            forw = γ -> begin\n",
    "                    γ₁ = reshape(γ[1:r̃^2], r̃, r̃)\n",
    "                    γ₂ = reshape(γ[r̃^2+1:r̃*(r̃+d₂)], r̃, d₂)\n",
    "                    γ₃ = reshape(γ[r̃*(r̃+d₂)+1:r̃*(r̃+d₁+d₂)], d₁, r̃)\n",
    "                    # According to (2.169), the equation would be:\n",
    "                    # Uᵏ * γ₁ * Vᵏ' + Uᵏ * γ₂' * (I - Vᵏ*Vᵏ') + (I - Uᵏ*Uᵏ') * γ₃' * Vᵏ'\n",
    "                    # But as the columns of γ₃ are orthogonal to the ones in Uᵏ,\n",
    "                    # the rows of γ₂ are orthogonal to the columns of Vᵏ,\n",
    "                    # the expression can be simplified:\n",
    "                    (Uᵏ * γ₁ + γ₃) * Vᵏ' + Uᵏ * γ₂\n",
    "                end,\n",
    "            backw = Φᵃy -> begin\n",
    "                    γ₁ = Uᵏ' * Φᵃy * Vᵏ\n",
    "                    γ₂ = Uᵏ' * Φᵃy * (I - Vᵏ*Vᵏ')\n",
    "                    γ₃ = (I - Uᵏ*Uᵏ') * Φᵃy * Vᵏ\n",
    "                    vcat(vec(γ₁), vec(γ₂), vec(γ₃))\n",
    "                end)\n",
    "        b = Pᵏ' * Φ' * y\n",
    "        𝒟⁻¹ = I / Diagonal(vcat(vec(Hᵏᵤᵥ), vec(kron(dHᵏ, ones(1, d₂))), vec(kron(dHᵏ, ones(1, d₁))')))\n",
    "        CG_op = FunctionOperator{dType}(name = \"CG_op\", inDims = (r̃*(r̃+d₁+d₂),), outDims = (r̃*(r̃+d₁+d₂),),\n",
    "            forw = γ ->  begin\n",
    "                    (ϵᵏ^2 * I / (𝒟⁻¹ - ϵᵏ^2 * I)) * γ + Pᵏ' * Φ' * Φ * Pᵏ * γ\n",
    "                end)\n",
    "        γᵏ = cg(CG_op, b, maxiter = maxIter) # 2.167\n",
    "        rᵏ = y - Φ * Pᵏ * γᵏ\n",
    "        γᵏ_tilde = (𝒟⁻¹ / (𝒟⁻¹ - ϵᵏ^2 * I)) * γᵏ - Pᵏ' * Φ' * rᵏ\n",
    "        Xᵏ = Φ' * rᵏ + Pᵏ * γᵏ_tilde   # 2.168\n",
    "    end\n",
    "    \n",
    "    r, n, s, e = sum(svdvals(Xᵏ) .> 1e-3), opnorm(Xᴳᵀ - Xᵏ, 2), σ[1], ϵᵏ\n",
    "    n, s, e = @sprintf(\"%.3f\", n), @sprintf(\"%.3f\", s), @sprintf(\"%.3f\", e)\n",
    "    verbose && println(\"k = $N,\\trank(Xᵏ) = $r,\\t‖Xᴳᵀ - Xᵏ‖₂ = $n, σ₁ = $s, ϵᵏ = $e\")\n",
    "    \n",
    "    Xᵏ\n",
    "end"
   ]
  },
  {
   "cell_type": "markdown",
   "metadata": {},
   "source": [
    "### An optimized implementation of the HM-IRLS for matrix completion with p = 0"
   ]
  },
  {
   "cell_type": "code",
   "execution_count": 3,
   "metadata": {},
   "outputs": [
    {
     "data": {
      "text/plain": [
       "update_𝒟⁻¹! (generic function with 1 method)"
      ]
     },
     "execution_count": 3,
     "metadata": {},
     "output_type": "execute_result"
    }
   ],
   "source": [
    "function update_H!(H, σ, ϵᵏ)\n",
    "    for ind in CartesianIndices(H)\n",
    "        i, j = ind[1], ind[2]\n",
    "        H[ind] = 1 / (max(σ[i], ϵᵏ) * max(σ[j], ϵᵏ))\n",
    "    end\n",
    "end\n",
    "\n",
    "function update_dH!(dH, σ, ϵᵏ, r̃)\n",
    "    for j in eachindex(dH)\n",
    "        dH[j] = 1 / (max(σ[r̃+1], ϵᵏ) * max(σ[j], ϵᵏ))\n",
    "    end\n",
    "end\n",
    "\n",
    "    \n",
    "split(γ, r̃, d₁, d₂) = @views begin\n",
    "    γ₁ = reshape(γ[1:r̃^2], r̃, r̃)\n",
    "    γ₂ = reshape(γ[r̃^2+1:r̃*(r̃+d₂)], r̃, d₂)\n",
    "    γ₃ = reshape(γ[r̃*(r̃+d₂)+1:r̃*(r̃+d₁+d₂)], d₁, r̃)\n",
    "    γ₁, γ₂, γ₃\n",
    "end\n",
    "\n",
    "function update_𝒟⁻¹!(𝒟⁻¹, H, dH, r̃, d₁, d₂)\n",
    "    𝒟⁻¹₁, 𝒟⁻¹₂, 𝒟⁻¹₃ = split(𝒟⁻¹, r̃, d₁, d₂)\n",
    "    𝒟⁻¹₁ .= H\n",
    "    for i in 1:d₂\n",
    "        𝒟⁻¹₂[:,i] .= dH\n",
    "    end\n",
    "    for i in 1:d₁\n",
    "        𝒟⁻¹₃[i,:] .= dH\n",
    "    end\n",
    "    𝒟⁻¹ .= 1 ./ 𝒟⁻¹\n",
    "end"
   ]
  },
  {
   "cell_type": "code",
   "execution_count": 4,
   "metadata": {},
   "outputs": [
    {
     "data": {
      "text/plain": [
       "get_P_operator (generic function with 1 method)"
      ]
     },
     "execution_count": 4,
     "metadata": {},
     "output_type": "execute_result"
    }
   ],
   "source": [
    "function get_P_operator(Uᵏ, Vᵏ, Vtᵏ, tempᵈ¹ˣᵈ², r̃, d₁, d₂)\n",
    "    \n",
    "    tempᵈ¹ˣʳ, tempʳˣᵈ² = Array{dType}(undef, d₁, r̃), Array{dType}(undef, r̃, d₂)\n",
    "    \n",
    "    I_VV, I_UU = Array{dType}(undef, d₂, d₂), Array{dType}(undef, d₁, d₁)\n",
    "    Iᵈ¹ˣᵈ¹, Iᵈ²ˣᵈ² = Diagonal(ones(d₁)), Diagonal(ones(d₂))\n",
    "    \n",
    "    Pᵏ = FunctionOperator{dType}(name=\"Pᵏ\", inDims = (r̃*(r̃+d₁+d₂),), outDims = (d₁, d₂),\n",
    "        forw = (b,γ) -> begin\n",
    "                γ₁, γ₂, γ₃ = split(γ, r̃, d₁, d₂)\n",
    "                # According to (2.169), the equation would be:\n",
    "                # Uᵏ * γ₁ * Vᵏ' + Uᵏ * γ₂' * (I - Vᵏ*Vᵏ') + (I - Uᵏ*Uᵏ') * γ₃' * Vᵏ'\n",
    "                # But as the columns of γ₂ are orthogonal to the ones in Uᵏ,\n",
    "                # the rows of γ₃ are orthogonal to the columns of Vᵏ,\n",
    "                # the expression can be simplified:\n",
    "                # (Uᵏ * γ₁ + γ₃) * Vᵏ' + Uᵏ * γ₂\n",
    "                # And this is implemented avoiding array re-allocations:\n",
    "                mul!(tempᵈ¹ˣʳ, Uᵏ, γ₁)\n",
    "                tempᵈ¹ˣʳ .+= γ₃\n",
    "                mul!(b, tempᵈ¹ˣʳ, Vtᵏ)\n",
    "                mul!(tempᵈ¹ˣᵈ², Uᵏ, γ₂)\n",
    "                b .+= tempᵈ¹ˣᵈ²\n",
    "            end,\n",
    "        backw = (γ,Φᵃy) -> begin\n",
    "                γ₁, γ₂, γ₃ = split(γ, r̃, d₁, d₂)\n",
    "                # Things to do:\n",
    "                # γ₁ .= Uᵏ' * Φᵃy * Vᵏ\n",
    "                # γ₂ .= Uᵏ' * Φᵃy * (I - Vᵏ*Vᵏ')\n",
    "                # γ₃ .= (I - Uᵏ*Uᵏ') * Φᵃy * Vᵏ\n",
    "                # Efficient implementation:\n",
    "                I_VV .= Iᵈ²ˣᵈ² .- mul!(I_VV, Vᵏ, Vtᵏ) # same as I - Vᵏ*Vtᵏ\n",
    "                I_UU .= Iᵈ¹ˣᵈ¹ .- mul!(I_UU, Uᵏ, Uᵏ') # same as I - Uᵏ*Uᵏ'\n",
    "                mul!(tempᵈ¹ˣʳ, Φᵃy, Vᵏ)\n",
    "                mul!(γ₁, Uᵏ', tempᵈ¹ˣʳ)\n",
    "                mul!(γ₃, I_UU, tempᵈ¹ˣʳ)\n",
    "                mul!(tempʳˣᵈ², Uᵏ', Φᵃy)\n",
    "                mul!(γ₂, tempʳˣᵈ², I_VV)\n",
    "                γ\n",
    "                #vcat(vec(γ₁), vec(γ₂), vec(γ₃))\n",
    "            end)\n",
    "    \n",
    "    Pᵏ\n",
    "end"
   ]
  },
  {
   "cell_type": "code",
   "execution_count": 5,
   "metadata": {},
   "outputs": [
    {
     "data": {
      "text/plain": [
       "get_CG_operator (generic function with 1 method)"
      ]
     },
     "execution_count": 5,
     "metadata": {},
     "output_type": "execute_result"
    }
   ],
   "source": [
    "function get_CG_operator(PᵃΦᵃΦP, 𝒟_weighting, tempʳ⁽ʳ⁺ᵈ¹⁺ᵈ²⁾, r̃, d₁, d₂)\n",
    "    FunctionOperator{dType}(name = \"CG_op\", inDims = (r̃*(r̃+d₁+d₂),), outDims = (r̃*(r̃+d₁+d₂),),\n",
    "        forw = (b,γ) ->  begin\n",
    "            # An efficient implementation for:\n",
    "            # b .= (ϵᵏ^2 * I / (𝒟⁻¹ - ϵᵏ^2 * I)) * γ + Pᵏ' * Φ' * Φ * Pᵏ * γ\n",
    "            mul!(tempʳ⁽ʳ⁺ᵈ¹⁺ᵈ²⁾, PᵃΦᵃΦP, γ)\n",
    "            mul!(b, Diagonal(𝒟_weighting), γ)\n",
    "            b .+= tempʳ⁽ʳ⁺ᵈ¹⁺ᵈ²⁾\n",
    "        end)\n",
    "end"
   ]
  },
  {
   "cell_type": "code",
   "execution_count": 6,
   "metadata": {},
   "outputs": [
    {
     "data": {
      "text/plain": [
       "HM_IRLS_optimized (generic function with 1 method)"
      ]
     },
     "execution_count": 6,
     "metadata": {},
     "output_type": "execute_result"
    }
   ],
   "source": [
    "function HM_IRLS_optimized(\n",
    "        Xᴳᵀ::AbstractArray,                     # ground truth for MSE evaluation\n",
    "        y::AbstractArray,                       # under-sampled data\n",
    "        Φ::FunctionOperator;                    # sampling operator\n",
    "        img_size::NTuple = size(Xᴳᵀ),           # size of output matrix\n",
    "        r̃::Int = 0,                             # rank estimate of solution\n",
    "        maxIter::Union{Int, Nothing} = nothing, # number of CG iteration steps\n",
    "        N::Int = 10,                            # number of iterations\n",
    "        verbose::Bool = false)                  # print rank and loss value in each iteration\n",
    "    \n",
    "    # Initialize variables\n",
    "    dType = eltype(y)\n",
    "    d₁, d₂ = img_size\n",
    "    r̃ == 0 && (r̃ = rank(Xᴳᵀ))\n",
    "    maxIter = maxIter isa Nothing ? r̃*(r̃+d₁+d₂) : maxIter\n",
    "    ϵᵏ = Inf\n",
    "    Xᵏ = Φ' * y\n",
    "    \n",
    "    # Preallocate arrays\n",
    "    F = svd(Xᵏ)\n",
    "    Uᵏ, σ, Vᵏ, Vtᵏ = F.U[:, 1:r̃], F.S, F.V[:, 1:r̃], F.Vt[1:r̃, :]\n",
    "    Hᵏᵤᵥ = Array{dType}(undef, r̃, r̃)\n",
    "    dHᵏ = Array{dType}(undef, r̃)\n",
    "    𝒟⁻¹, 𝒟_weighting, b, γᵏ, tempʳ⁽ʳ⁺ᵈ¹⁺ᵈ²⁾ = [Vector{dType}(undef, r̃*(r̃+d₁+d₂)) for _ in 1:5]\n",
    "    tempᵈ¹ˣᵈ² = Array{dType}(undef, d₁, d₂)\n",
    "    rᵏ, γᵏ_tilde = similar(y), similar(γᵏ)\n",
    "    statevars = IterativeSolvers.CGStateVariables(similar(γᵏ), similar(γᵏ), similar(γᵏ))\n",
    "    \n",
    "    # Create operators\n",
    "    Pᵏ= get_P_operator(Uᵏ, Vᵏ, Vtᵏ, tempᵈ¹ˣᵈ², r̃, d₁, d₂)\n",
    "    PᵃΦᵃΦP = Pᵏ' * Φ' * Φ * Pᵏ\n",
    "    ΦP, PᵃΦᵃ = Φ * Pᵏ, Pᵏ' * Φ'\n",
    "    CG_op = get_CG_operator(PᵃΦᵃΦP, 𝒟_weighting, tempʳ⁽ʳ⁺ᵈ¹⁺ᵈ²⁾, r̃, d₁, d₂)\n",
    "    \n",
    "    for k in 1:N\n",
    "        \n",
    "        svd!(tempᵈ¹ˣᵈ² .= Xᵏ, F)\n",
    "        @views begin Uᵏ .= F.U[:, 1:r̃]; Vᵏ .=  F.V[:, 1:r̃]; Vtᵏ .= F.Vt[1:r̃, :]; end\n",
    "        \n",
    "        ϵᵏ = min(ϵᵏ, σ[r̃+1])\n",
    "        \n",
    "        r, n, s, e = sum(σ .> 1e-3), opnorm(tempᵈ¹ˣᵈ² .= Xᴳᵀ .- Xᵏ, 2), σ[1], ϵᵏ\n",
    "        n, s, e = @sprintf(\"%.3f\", n), @sprintf(\"%.3f\", s), @sprintf(\"%.3f\", e)\n",
    "        verbose && println(\"k = $(k-1),\\trank(Xᵏ) = $r,\\t‖Xᴳᵀ - Xᵏ‖₂ = $n, σ₁ = $s, ϵᵏ = $e\")\n",
    "        \n",
    "        update_H!(Hᵏᵤᵥ, σ, ϵᵏ)\n",
    "        update_dH!(dHᵏ, σ, ϵᵏ, r̃)\n",
    "        update_𝒟⁻¹!(𝒟⁻¹, Hᵏᵤᵥ, dHᵏ, r̃, d₁, d₂)\n",
    "        \n",
    "        # An efficient implementation of 𝒟_weighting = ϵᵏ^2 * I / (𝒟⁻¹ - ϵᵏ^2 * I):\n",
    "        𝒟_weighting .= ϵᵏ^2 ./ (𝒟⁻¹ .- ϵᵏ^2)\n",
    "        \n",
    "        mul!(b, PᵃΦᵃ, y) # right hand side for CG\n",
    "        mul!(γᵏ, Pᵏ', Xᵏ) # initial value for CG\n",
    "        \n",
    "        cg!(γᵏ, CG_op, b, maxiter = maxIter, statevars = statevars) # 2.167\n",
    "        \n",
    "        # An efficient implementation of rᵏ = y - Φ * Pᵏ * γᵏ:\n",
    "        rᵏ .= y .- mul!(rᵏ, ΦP,  γᵏ)\n",
    "        \n",
    "        # An efficient implementation of γᵏ_tilde = Diagonal(𝒟⁻¹ ./ (𝒟⁻¹ .- ϵᵏ^2)) * γᵏ - Pᵏ' * Φ' * rᵏ\n",
    "        𝒟_weighting .= 𝒟⁻¹ ./ (𝒟⁻¹ .- ϵᵏ^2) # same as Diagonal(𝒟⁻¹ ./ (𝒟⁻¹ .- ϵᵏ^2))\n",
    "        mul!(tempʳ⁽ʳ⁺ᵈ¹⁺ᵈ²⁾, PᵃΦᵃ, rᵏ)\n",
    "        mul!(γᵏ_tilde, Diagonal(𝒟_weighting), γᵏ)\n",
    "        γᵏ_tilde .-= tempʳ⁽ʳ⁺ᵈ¹⁺ᵈ²⁾\n",
    "        \n",
    "        # An efficient implementation of Xᵏ = Φ' * rᵏ + Pᵏ * γᵏ_tilde\n",
    "        mul!(Xᵏ, Pᵏ, γᵏ_tilde)\n",
    "        Xᵏ .+= mul!(tempᵈ¹ˣᵈ², Φ', rᵏ)   # 2.168\n",
    "        \n",
    "    end\n",
    "    \n",
    "    r, n, s, e = sum(svdvals(Xᵏ) .> 1e-3), opnorm(Xᴳᵀ - Xᵏ, 2), σ[1], ϵᵏ\n",
    "    n, s, e = @sprintf(\"%.3f\", n), @sprintf(\"%.3f\", s), @sprintf(\"%.3f\", e)\n",
    "    verbose && println(\"k = $N,\\trank(Xᵏ) = $r,\\t‖Xᴳᵀ - Xᵏ‖₂ = $n, σ₁ = $s, ϵᵏ = $e\")\n",
    "    \n",
    "    Xᵏ\n",
    "end"
   ]
  },
  {
   "cell_type": "markdown",
   "metadata": {},
   "source": [
    "### Some helper functions"
   ]
  },
  {
   "cell_type": "code",
   "execution_count": 7,
   "metadata": {},
   "outputs": [],
   "source": [
    "import Base.size\n",
    "function Base.size(FO::FunctionOperator, d::Int)\n",
    "    @assert d in [1, 2]\n",
    "    prod(d == 1 ? FO.outDims : FO.inDims)\n",
    "end"
   ]
  },
  {
   "cell_type": "code",
   "execution_count": 8,
   "metadata": {},
   "outputs": [
    {
     "data": {
      "text/plain": [
       "generateΦ (generic function with 1 method)"
      ]
     },
     "execution_count": 8,
     "metadata": {},
     "output_type": "execute_result"
    }
   ],
   "source": [
    "# This function randomly samples a $(d₁ \\times d₂)$ sparse matrix with ones at $m$ randomly chosen\n",
    "# coordinates (uniform without replacement). The output matrix has at least $r$ non-zero entries\n",
    "# in each row and each column, where $r$ is a specified positive integer. The number of ones in the\n",
    "# output matrix is exactly $m$.\n",
    "function generateΦ(d₁, d₂, r, m)\n",
    "    @assert max(d₁, d₂) * r ≤ m\n",
    "    @assert m ≤ d₁ * d₂\n",
    "    @assert r ≤ d₁\n",
    "    @assert r ≤ d₂\n",
    "    \n",
    "    # generate a square matrix where each row and each column has exactly r ones\n",
    "    initial = Circulant([fill(1, r)..., fill(0, min(d₁, d₂) - r)...])\n",
    "    \n",
    "    # Extend that matrix to a d₁×d₂ matrix where each row and each column has at least r ones\n",
    "    # That is accomplished by repeating the \"initial\" matrix and then cropping\n",
    "    if d₁ < d₂\n",
    "        M = repeat(initial, outer = (1, ceil(Int, d₂ / d₁)))\n",
    "    elseif d₁ > d₂\n",
    "        M = repeat(initial, outer = (ceil(Int, d₁ / d₂), 1))\n",
    "    else\n",
    "        M = initial\n",
    "    end\n",
    "    M = M[1:d₁, 1:d₂]\n",
    "    \n",
    "    # Randomly switch zeros to ones until exactly m number of ones are in the matrix\n",
    "    zero_places = findall(M .== 0)\n",
    "    number_of_missing_ones = m - (d₁*d₂ - length(zero_places))\n",
    "    number_of_missing_ones > 0 && (M[shuffle(zero_places)[1:number_of_missing_ones]] .= 1)\n",
    "    \n",
    "    # Then randomize matrix by permutating rows and columns a couple times\n",
    "    for i in 1:10\n",
    "        M .= M[shuffle(1:end), :] # shuffle rows\n",
    "        M .= M[:, shuffle(1:end)] # shuffle columns\n",
    "    end\n",
    "    \n",
    "    M\n",
    "end"
   ]
  },
  {
   "cell_type": "code",
   "execution_count": 9,
   "metadata": {},
   "outputs": [
    {
     "data": {
      "text/plain": [
       "maskToMatrix (generic function with 1 method)"
      ]
     },
     "execution_count": 9,
     "metadata": {},
     "output_type": "execute_result"
    }
   ],
   "source": [
    "function maskToMatrix(Φᴹ)\n",
    "    m = convert(Int, sum(Φᴹ))\n",
    "    d₁, d₂ = size(Φᴹ)\n",
    "\n",
    "    Φ = zeros(m, length(Φᴹ))\n",
    "    non_zero_places = findall(vec(Φᴹ) .== 1)\n",
    "    for i in 1:m\n",
    "        Φ[i, non_zero_places[i]] = 1\n",
    "    end\n",
    "    return Φ\n",
    "end"
   ]
  },
  {
   "cell_type": "markdown",
   "metadata": {},
   "source": [
    "### Generate data\n",
    "\n",
    "#### That's how Chirstian generated the data to compare algorithms:"
   ]
  },
  {
   "cell_type": "code",
   "execution_count": 10,
   "metadata": {},
   "outputs": [
    {
     "name": "stdout",
     "output_type": "stream",
     "text": [
      "size(Xᴳᵀ) = (60, 40)\n",
      "rank(Xᴳᵀ) = 7\n",
      "rank(y) = 40\n"
     ]
    }
   ],
   "source": [
    "d₁, d₂, r = 60, 40, 7\n",
    "df_LR = r * (d₁ + d₂ - r) # Number of degrees of freedom of the setting\n",
    "m = floor(Int, min(1.05 * df_LR, d₁ * d₂))\n",
    "\n",
    "dType = ComplexF64\n",
    "U, S, V = randn(dType, d₁, r), Diagonal(randn(r)), randn(dType, d₂, r)\n",
    "Xᴳᵀ = U * S * V' # Ground Truth matrix\n",
    "\n",
    "@show size(Xᴳᵀ)\n",
    "@show rank(Xᴳᵀ);\n",
    "\n",
    "Φᴹ = generateΦ(d₁, d₂, r, m)\n",
    "Φ = FunctionOperator{dType}(name = \"Φ\", inDims = (d₁, d₂), outDims = (d₁, d₂),\n",
    "    forw = (b,x) -> b .= Φᴹ .* x, backw = (b,x) -> b .= x)\n",
    "y = Φ * Xᴳᵀ\n",
    "@show rank(y);"
   ]
  },
  {
   "cell_type": "code",
   "execution_count": 11,
   "metadata": {},
   "outputs": [
    {
     "data": {
      "text/plain": [
       "true"
      ]
     },
     "execution_count": 11,
     "metadata": {},
     "output_type": "execute_result"
    }
   ],
   "source": [
    "Φᴹ .* Xᴳᵀ == Φ * Xᴳᵀ"
   ]
  },
  {
   "cell_type": "code",
   "execution_count": 12,
   "metadata": {},
   "outputs": [
    {
     "name": "stdout",
     "output_type": "stream",
     "text": [
      "k = 0,\trank(Xᵏ) = 40,\t‖Xᴳᵀ - Xᵏ‖₂ = 101.078, σ₁ = 42.546, ϵᵏ = 14.706\n",
      "k = 1,\trank(Xᵏ) = 40,\t‖Xᴳᵀ - Xᵏ‖₂ = 60.725, σ₁ = 85.445, ϵᵏ = 6.848\n",
      "k = 2,\trank(Xᵏ) = 40,\t‖Xᴳᵀ - Xᵏ‖₂ = 24.969, σ₁ = 122.977, ϵᵏ = 3.973\n",
      "k = 3,\trank(Xᵏ) = 40,\t‖Xᴳᵀ - Xᵏ‖₂ = 16.290, σ₁ = 132.425, ϵᵏ = 2.506\n",
      "k = 4,\trank(Xᵏ) = 40,\t‖Xᴳᵀ - Xᵏ‖₂ = 12.258, σ₁ = 135.045, ϵᵏ = 1.629\n",
      "k = 5,\trank(Xᵏ) = 40,\t‖Xᴳᵀ - Xᵏ‖₂ = 9.747, σ₁ = 136.392, ϵᵏ = 1.093\n",
      "k = 6,\trank(Xᵏ) = 40,\t‖Xᴳᵀ - Xᵏ‖₂ = 7.791, σ₁ = 137.247, ϵᵏ = 0.814\n",
      "k = 7,\trank(Xᵏ) = 40,\t‖Xᴳᵀ - Xᵏ‖₂ = 6.343, σ₁ = 137.758, ϵᵏ = 0.668\n",
      "k = 8,\trank(Xᵏ) = 40,\t‖Xᴳᵀ - Xᵏ‖₂ = 5.430, σ₁ = 138.036, ϵᵏ = 0.545\n",
      "k = 9,\trank(Xᵏ) = 40,\t‖Xᴳᵀ - Xᵏ‖₂ = 4.861, σ₁ = 138.196, ϵᵏ = 0.422\n",
      "k = 10,\trank(Xᵏ) = 40,\t‖Xᴳᵀ - Xᵏ‖₂ = 4.478, σ₁ = 138.304, ϵᵏ = 0.316\n",
      "k = 11,\trank(Xᵏ) = 40,\t‖Xᴳᵀ - Xᵏ‖₂ = 4.190, σ₁ = 138.391, ϵᵏ = 0.245\n",
      "k = 12,\trank(Xᵏ) = 40,\t‖Xᴳᵀ - Xᵏ‖₂ = 3.966, σ₁ = 138.474, ϵᵏ = 0.207\n",
      "k = 13,\trank(Xᵏ) = 40,\t‖Xᴳᵀ - Xᵏ‖₂ = 3.795, σ₁ = 138.550, ϵᵏ = 0.184\n",
      "k = 14,\trank(Xᵏ) = 40,\t‖Xᴳᵀ - Xᵏ‖₂ = 3.655, σ₁ = 138.613, ϵᵏ = 0.167\n",
      "k = 15,\trank(Xᵏ) = 40,\t‖Xᴳᵀ - Xᵏ‖₂ = 3.534, σ₁ = 138.662, ϵᵏ = 0.153\n",
      "k = 16,\trank(Xᵏ) = 40,\t‖Xᴳᵀ - Xᵏ‖₂ = 3.425, σ₁ = 138.698, ϵᵏ = 0.141\n",
      "k = 17,\trank(Xᵏ) = 40,\t‖Xᴳᵀ - Xᵏ‖₂ = 3.326, σ₁ = 138.725, ϵᵏ = 0.130\n",
      "k = 18,\trank(Xᵏ) = 40,\t‖Xᴳᵀ - Xᵏ‖₂ = 3.236, σ₁ = 138.746, ϵᵏ = 0.120\n",
      "k = 19,\trank(Xᵏ) = 40,\t‖Xᴳᵀ - Xᵏ‖₂ = 3.156, σ₁ = 138.764, ϵᵏ = 0.110\n",
      "k = 20,\trank(Xᵏ) = 40,\t‖Xᴳᵀ - Xᵏ‖₂ = 3.083, σ₁ = 138.779, ϵᵏ = 0.100\n",
      "k = 21,\trank(Xᵏ) = 40,\t‖Xᴳᵀ - Xᵏ‖₂ = 3.018, σ₁ = 138.795, ϵᵏ = 0.091\n",
      "k = 22,\trank(Xᵏ) = 40,\t‖Xᴳᵀ - Xᵏ‖₂ = 2.961, σ₁ = 138.812, ϵᵏ = 0.083\n",
      "k = 23,\trank(Xᵏ) = 40,\t‖Xᴳᵀ - Xᵏ‖₂ = 2.910, σ₁ = 138.828, ϵᵏ = 0.075\n",
      "k = 24,\trank(Xᵏ) = 40,\t‖Xᴳᵀ - Xᵏ‖₂ = 2.864, σ₁ = 138.845, ϵᵏ = 0.069\n",
      "k = 25,\trank(Xᵏ) = 40,\t‖Xᴳᵀ - Xᵏ‖₂ = 2.820, σ₁ = 138.862, ϵᵏ = 0.063\n",
      "k = 26,\trank(Xᵏ) = 40,\t‖Xᴳᵀ - Xᵏ‖₂ = 2.779, σ₁ = 138.879, ϵᵏ = 0.059\n",
      "k = 27,\trank(Xᵏ) = 40,\t‖Xᴳᵀ - Xᵏ‖₂ = 2.740, σ₁ = 138.896, ϵᵏ = 0.056\n",
      "k = 28,\trank(Xᵏ) = 40,\t‖Xᴳᵀ - Xᵏ‖₂ = 2.702, σ₁ = 138.912, ϵᵏ = 0.053\n",
      "k = 29,\trank(Xᵏ) = 40,\t‖Xᴳᵀ - Xᵏ‖₂ = 2.667, σ₁ = 138.929, ϵᵏ = 0.050\n",
      "k = 30,\trank(Xᵏ) = 40,\t‖Xᴳᵀ - Xᵏ‖₂ = 2.634, σ₁ = 138.946, ϵᵏ = 0.047\n",
      "k = 31,\trank(Xᵏ) = 40,\t‖Xᴳᵀ - Xᵏ‖₂ = 2.603, σ₁ = 138.961, ϵᵏ = 0.044\n",
      "k = 32,\trank(Xᵏ) = 40,\t‖Xᴳᵀ - Xᵏ‖₂ = 2.574, σ₁ = 138.973, ϵᵏ = 0.042\n",
      "k = 33,\trank(Xᵏ) = 40,\t‖Xᴳᵀ - Xᵏ‖₂ = 2.543, σ₁ = 138.982, ϵᵏ = 0.039\n",
      "k = 34,\trank(Xᵏ) = 40,\t‖Xᴳᵀ - Xᵏ‖₂ = 2.510, σ₁ = 138.986, ϵᵏ = 0.037\n",
      "k = 35,\trank(Xᵏ) = 40,\t‖Xᴳᵀ - Xᵏ‖₂ = 2.472, σ₁ = 138.987, ϵᵏ = 0.034\n",
      "k = 36,\trank(Xᵏ) = 40,\t‖Xᴳᵀ - Xᵏ‖₂ = 2.428, σ₁ = 138.983, ϵᵏ = 0.032\n",
      "k = 37,\trank(Xᵏ) = 40,\t‖Xᴳᵀ - Xᵏ‖₂ = 2.377, σ₁ = 138.977, ϵᵏ = 0.029\n",
      "k = 38,\trank(Xᵏ) = 40,\t‖Xᴳᵀ - Xᵏ‖₂ = 2.320, σ₁ = 138.970, ϵᵏ = 0.027\n",
      "k = 39,\trank(Xᵏ) = 40,\t‖Xᴳᵀ - Xᵏ‖₂ = 2.255, σ₁ = 138.962, ϵᵏ = 0.025\n",
      "k = 40,\trank(Xᵏ) = 40,\t‖Xᴳᵀ - Xᵏ‖₂ = 2.184, σ₁ = 138.954, ϵᵏ = 0.023\n",
      "k = 41,\trank(Xᵏ) = 40,\t‖Xᴳᵀ - Xᵏ‖₂ = 2.106, σ₁ = 138.947, ϵᵏ = 0.022\n",
      "k = 42,\trank(Xᵏ) = 40,\t‖Xᴳᵀ - Xᵏ‖₂ = 2.021, σ₁ = 138.941, ϵᵏ = 0.020\n",
      "k = 43,\trank(Xᵏ) = 40,\t‖Xᴳᵀ - Xᵏ‖₂ = 1.931, σ₁ = 138.936, ϵᵏ = 0.019\n",
      "k = 44,\trank(Xᵏ) = 40,\t‖Xᴳᵀ - Xᵏ‖₂ = 1.834, σ₁ = 138.932, ϵᵏ = 0.018\n",
      "k = 45,\trank(Xᵏ) = 40,\t‖Xᴳᵀ - Xᵏ‖₂ = 1.730, σ₁ = 138.930, ϵᵏ = 0.017\n",
      "k = 46,\trank(Xᵏ) = 40,\t‖Xᴳᵀ - Xᵏ‖₂ = 1.621, σ₁ = 138.928, ϵᵏ = 0.016\n",
      "k = 47,\trank(Xᵏ) = 39,\t‖Xᴳᵀ - Xᵏ‖₂ = 1.507, σ₁ = 138.928, ϵᵏ = 0.015\n",
      "k = 48,\trank(Xᵏ) = 39,\t‖Xᴳᵀ - Xᵏ‖₂ = 1.387, σ₁ = 138.928, ϵᵏ = 0.014\n",
      "k = 49,\trank(Xᵏ) = 39,\t‖Xᴳᵀ - Xᵏ‖₂ = 1.264, σ₁ = 138.929, ϵᵏ = 0.013\n",
      "k = 50,\trank(Xᵏ) = 39,\t‖Xᴳᵀ - Xᵏ‖₂ = 1.143, σ₁ = 138.931, ϵᵏ = 0.011\n",
      "k = 51,\trank(Xᵏ) = 38,\t‖Xᴳᵀ - Xᵏ‖₂ = 1.030, σ₁ = 138.933, ϵᵏ = 0.010\n",
      "k = 52,\trank(Xᵏ) = 36,\t‖Xᴳᵀ - Xᵏ‖₂ = 0.929, σ₁ = 138.935, ϵᵏ = 0.008\n",
      "k = 53,\trank(Xᵏ) = 36,\t‖Xᴳᵀ - Xᵏ‖₂ = 0.835, σ₁ = 138.937, ϵᵏ = 0.007\n",
      "k = 54,\trank(Xᵏ) = 34,\t‖Xᴳᵀ - Xᵏ‖₂ = 0.742, σ₁ = 138.939, ϵᵏ = 0.006\n",
      "k = 55,\trank(Xᵏ) = 32,\t‖Xᴳᵀ - Xᵏ‖₂ = 0.646, σ₁ = 138.942, ϵᵏ = 0.005\n",
      "k = 56,\trank(Xᵏ) = 29,\t‖Xᴳᵀ - Xᵏ‖₂ = 0.548, σ₁ = 138.944, ϵᵏ = 0.004\n",
      "k = 57,\trank(Xᵏ) = 26,\t‖Xᴳᵀ - Xᵏ‖₂ = 0.450, σ₁ = 138.946, ϵᵏ = 0.003\n",
      "k = 58,\trank(Xᵏ) = 22,\t‖Xᴳᵀ - Xᵏ‖₂ = 0.353, σ₁ = 138.948, ϵᵏ = 0.003\n",
      "k = 59,\trank(Xᵏ) = 16,\t‖Xᴳᵀ - Xᵏ‖₂ = 0.259, σ₁ = 138.949, ϵᵏ = 0.002\n",
      "k = 60,\trank(Xᵏ) = 10,\t‖Xᴳᵀ - Xᵏ‖₂ = 0.172, σ₁ = 138.949, ϵᵏ = 0.001\n",
      "k = 61,\trank(Xᵏ) = 7,\t‖Xᴳᵀ - Xᵏ‖₂ = 0.096, σ₁ = 138.949, ϵᵏ = 0.001\n",
      "k = 62,\trank(Xᵏ) = 7,\t‖Xᴳᵀ - Xᵏ‖₂ = 0.039, σ₁ = 138.948, ϵᵏ = 0.000\n",
      "k = 63,\trank(Xᵏ) = 7,\t‖Xᴳᵀ - Xᵏ‖₂ = 0.009, σ₁ = 138.948, ϵᵏ = 0.000\n",
      "k = 64,\trank(Xᵏ) = 7,\t‖Xᴳᵀ - Xᵏ‖₂ = 0.001, σ₁ = 138.948, ϵᵏ = 0.000\n",
      "k = 65,\trank(Xᵏ) = 7,\t‖Xᴳᵀ - Xᵏ‖₂ = 0.000, σ₁ = 138.948, ϵᵏ = 0.000\n",
      "k = 66,\trank(Xᵏ) = 7,\t‖Xᴳᵀ - Xᵏ‖₂ = 0.000, σ₁ = 138.948, ϵᵏ = 0.000\n",
      "k = 67,\trank(Xᵏ) = 7,\t‖Xᴳᵀ - Xᵏ‖₂ = 0.000, σ₁ = 138.948, ϵᵏ = 0.000\n",
      "k = 68,\trank(Xᵏ) = 7,\t‖Xᴳᵀ - Xᵏ‖₂ = 0.000, σ₁ = 138.948, ϵᵏ = 0.000\n",
      "k = 69,\trank(Xᵏ) = 7,\t‖Xᴳᵀ - Xᵏ‖₂ = 0.000, σ₁ = 138.948, ϵᵏ = 0.000\n",
      "k = 70,\trank(Xᵏ) = 7,\t‖Xᴳᵀ - Xᵏ‖₂ = 0.000, σ₁ = 138.948, ϵᵏ = 0.000\n",
      " 17.543656 seconds (16.67 M allocations: 5.947 GiB, 7.55% gc time)\n"
     ]
    }
   ],
   "source": [
    "@time HM_IRLS(Xᴳᵀ, y, Φ, N = 70, verbose = true);"
   ]
  },
  {
   "cell_type": "code",
   "execution_count": 13,
   "metadata": {},
   "outputs": [],
   "source": [
    "@benchmark HM_IRLS(Xᴳᵀ, y, Φ, N = 70);"
   ]
  },
  {
   "cell_type": "code",
   "execution_count": 14,
   "metadata": {},
   "outputs": [
    {
     "name": "stdout",
     "output_type": "stream",
     "text": [
      "k = 0,\trank(Xᵏ) = 40,\t‖Xᴳᵀ - Xᵏ‖₂ = 101.078, σ₁ = 42.546, ϵᵏ = 14.706\n",
      "k = 1,\trank(Xᵏ) = 40,\t‖Xᴳᵀ - Xᵏ‖₂ = 60.725, σ₁ = 85.445, ϵᵏ = 6.848\n",
      "k = 2,\trank(Xᵏ) = 40,\t‖Xᴳᵀ - Xᵏ‖₂ = 24.969, σ₁ = 122.977, ϵᵏ = 3.973\n",
      "k = 3,\trank(Xᵏ) = 40,\t‖Xᴳᵀ - Xᵏ‖₂ = 16.290, σ₁ = 132.425, ϵᵏ = 2.506\n",
      "k = 4,\trank(Xᵏ) = 40,\t‖Xᴳᵀ - Xᵏ‖₂ = 12.258, σ₁ = 135.045, ϵᵏ = 1.629\n",
      "k = 5,\trank(Xᵏ) = 40,\t‖Xᴳᵀ - Xᵏ‖₂ = 9.747, σ₁ = 136.392, ϵᵏ = 1.093\n",
      "k = 6,\trank(Xᵏ) = 40,\t‖Xᴳᵀ - Xᵏ‖₂ = 7.791, σ₁ = 137.247, ϵᵏ = 0.814\n",
      "k = 7,\trank(Xᵏ) = 40,\t‖Xᴳᵀ - Xᵏ‖₂ = 6.343, σ₁ = 137.758, ϵᵏ = 0.668\n",
      "k = 8,\trank(Xᵏ) = 40,\t‖Xᴳᵀ - Xᵏ‖₂ = 5.430, σ₁ = 138.036, ϵᵏ = 0.545\n",
      "k = 9,\trank(Xᵏ) = 40,\t‖Xᴳᵀ - Xᵏ‖₂ = 4.861, σ₁ = 138.196, ϵᵏ = 0.422\n",
      "k = 10,\trank(Xᵏ) = 40,\t‖Xᴳᵀ - Xᵏ‖₂ = 4.478, σ₁ = 138.304, ϵᵏ = 0.316\n",
      "k = 11,\trank(Xᵏ) = 40,\t‖Xᴳᵀ - Xᵏ‖₂ = 4.190, σ₁ = 138.391, ϵᵏ = 0.245\n",
      "k = 12,\trank(Xᵏ) = 40,\t‖Xᴳᵀ - Xᵏ‖₂ = 3.966, σ₁ = 138.474, ϵᵏ = 0.207\n",
      "k = 13,\trank(Xᵏ) = 40,\t‖Xᴳᵀ - Xᵏ‖₂ = 3.795, σ₁ = 138.550, ϵᵏ = 0.184\n",
      "k = 14,\trank(Xᵏ) = 40,\t‖Xᴳᵀ - Xᵏ‖₂ = 3.655, σ₁ = 138.613, ϵᵏ = 0.167\n",
      "k = 15,\trank(Xᵏ) = 40,\t‖Xᴳᵀ - Xᵏ‖₂ = 3.534, σ₁ = 138.662, ϵᵏ = 0.153\n",
      "k = 16,\trank(Xᵏ) = 40,\t‖Xᴳᵀ - Xᵏ‖₂ = 3.425, σ₁ = 138.698, ϵᵏ = 0.141\n",
      "k = 17,\trank(Xᵏ) = 40,\t‖Xᴳᵀ - Xᵏ‖₂ = 3.326, σ₁ = 138.725, ϵᵏ = 0.130\n",
      "k = 18,\trank(Xᵏ) = 40,\t‖Xᴳᵀ - Xᵏ‖₂ = 3.236, σ₁ = 138.746, ϵᵏ = 0.120\n",
      "k = 19,\trank(Xᵏ) = 40,\t‖Xᴳᵀ - Xᵏ‖₂ = 3.156, σ₁ = 138.764, ϵᵏ = 0.110\n",
      "k = 20,\trank(Xᵏ) = 40,\t‖Xᴳᵀ - Xᵏ‖₂ = 3.083, σ₁ = 138.779, ϵᵏ = 0.100\n",
      "k = 21,\trank(Xᵏ) = 40,\t‖Xᴳᵀ - Xᵏ‖₂ = 3.018, σ₁ = 138.795, ϵᵏ = 0.091\n",
      "k = 22,\trank(Xᵏ) = 40,\t‖Xᴳᵀ - Xᵏ‖₂ = 2.961, σ₁ = 138.812, ϵᵏ = 0.083\n",
      "k = 23,\trank(Xᵏ) = 40,\t‖Xᴳᵀ - Xᵏ‖₂ = 2.910, σ₁ = 138.828, ϵᵏ = 0.075\n",
      "k = 24,\trank(Xᵏ) = 40,\t‖Xᴳᵀ - Xᵏ‖₂ = 2.864, σ₁ = 138.845, ϵᵏ = 0.069\n",
      "k = 25,\trank(Xᵏ) = 40,\t‖Xᴳᵀ - Xᵏ‖₂ = 2.820, σ₁ = 138.862, ϵᵏ = 0.063\n",
      "k = 26,\trank(Xᵏ) = 40,\t‖Xᴳᵀ - Xᵏ‖₂ = 2.779, σ₁ = 138.879, ϵᵏ = 0.059\n",
      "k = 27,\trank(Xᵏ) = 40,\t‖Xᴳᵀ - Xᵏ‖₂ = 2.740, σ₁ = 138.896, ϵᵏ = 0.056\n",
      "k = 28,\trank(Xᵏ) = 40,\t‖Xᴳᵀ - Xᵏ‖₂ = 2.702, σ₁ = 138.912, ϵᵏ = 0.053\n",
      "k = 29,\trank(Xᵏ) = 40,\t‖Xᴳᵀ - Xᵏ‖₂ = 2.667, σ₁ = 138.929, ϵᵏ = 0.050\n",
      "k = 30,\trank(Xᵏ) = 40,\t‖Xᴳᵀ - Xᵏ‖₂ = 2.634, σ₁ = 138.946, ϵᵏ = 0.047\n",
      "k = 31,\trank(Xᵏ) = 40,\t‖Xᴳᵀ - Xᵏ‖₂ = 2.603, σ₁ = 138.961, ϵᵏ = 0.044\n",
      "k = 32,\trank(Xᵏ) = 40,\t‖Xᴳᵀ - Xᵏ‖₂ = 2.574, σ₁ = 138.973, ϵᵏ = 0.042\n",
      "k = 33,\trank(Xᵏ) = 40,\t‖Xᴳᵀ - Xᵏ‖₂ = 2.543, σ₁ = 138.982, ϵᵏ = 0.039\n",
      "k = 34,\trank(Xᵏ) = 40,\t‖Xᴳᵀ - Xᵏ‖₂ = 2.510, σ₁ = 138.986, ϵᵏ = 0.037\n",
      "k = 35,\trank(Xᵏ) = 40,\t‖Xᴳᵀ - Xᵏ‖₂ = 2.472, σ₁ = 138.987, ϵᵏ = 0.034\n",
      "k = 36,\trank(Xᵏ) = 40,\t‖Xᴳᵀ - Xᵏ‖₂ = 2.428, σ₁ = 138.983, ϵᵏ = 0.032\n",
      "k = 37,\trank(Xᵏ) = 40,\t‖Xᴳᵀ - Xᵏ‖₂ = 2.378, σ₁ = 138.977, ϵᵏ = 0.029\n",
      "k = 38,\trank(Xᵏ) = 40,\t‖Xᴳᵀ - Xᵏ‖₂ = 2.320, σ₁ = 138.970, ϵᵏ = 0.027\n",
      "k = 39,\trank(Xᵏ) = 40,\t‖Xᴳᵀ - Xᵏ‖₂ = 2.255, σ₁ = 138.962, ϵᵏ = 0.025\n",
      "k = 40,\trank(Xᵏ) = 40,\t‖Xᴳᵀ - Xᵏ‖₂ = 2.184, σ₁ = 138.954, ϵᵏ = 0.023\n",
      "k = 41,\trank(Xᵏ) = 40,\t‖Xᴳᵀ - Xᵏ‖₂ = 2.106, σ₁ = 138.947, ϵᵏ = 0.022\n",
      "k = 42,\trank(Xᵏ) = 40,\t‖Xᴳᵀ - Xᵏ‖₂ = 2.021, σ₁ = 138.941, ϵᵏ = 0.020\n",
      "k = 43,\trank(Xᵏ) = 40,\t‖Xᴳᵀ - Xᵏ‖₂ = 1.931, σ₁ = 138.936, ϵᵏ = 0.019\n",
      "k = 44,\trank(Xᵏ) = 40,\t‖Xᴳᵀ - Xᵏ‖₂ = 1.834, σ₁ = 138.932, ϵᵏ = 0.018\n",
      "k = 45,\trank(Xᵏ) = 40,\t‖Xᴳᵀ - Xᵏ‖₂ = 1.731, σ₁ = 138.930, ϵᵏ = 0.017\n",
      "k = 46,\trank(Xᵏ) = 40,\t‖Xᴳᵀ - Xᵏ‖₂ = 1.622, σ₁ = 138.928, ϵᵏ = 0.016\n",
      "k = 47,\trank(Xᵏ) = 39,\t‖Xᴳᵀ - Xᵏ‖₂ = 1.507, σ₁ = 138.928, ϵᵏ = 0.015\n",
      "k = 48,\trank(Xᵏ) = 39,\t‖Xᴳᵀ - Xᵏ‖₂ = 1.387, σ₁ = 138.928, ϵᵏ = 0.014\n",
      "k = 49,\trank(Xᵏ) = 39,\t‖Xᴳᵀ - Xᵏ‖₂ = 1.264, σ₁ = 138.929, ϵᵏ = 0.013\n",
      "k = 50,\trank(Xᵏ) = 39,\t‖Xᴳᵀ - Xᵏ‖₂ = 1.143, σ₁ = 138.931, ϵᵏ = 0.011\n",
      "k = 51,\trank(Xᵏ) = 38,\t‖Xᴳᵀ - Xᵏ‖₂ = 1.030, σ₁ = 138.933, ϵᵏ = 0.010\n",
      "k = 52,\trank(Xᵏ) = 36,\t‖Xᴳᵀ - Xᵏ‖₂ = 0.929, σ₁ = 138.935, ϵᵏ = 0.008\n",
      "k = 53,\trank(Xᵏ) = 36,\t‖Xᴳᵀ - Xᵏ‖₂ = 0.835, σ₁ = 138.937, ϵᵏ = 0.007\n",
      "k = 54,\trank(Xᵏ) = 34,\t‖Xᴳᵀ - Xᵏ‖₂ = 0.741, σ₁ = 138.939, ϵᵏ = 0.006\n",
      "k = 55,\trank(Xᵏ) = 32,\t‖Xᴳᵀ - Xᵏ‖₂ = 0.646, σ₁ = 138.942, ϵᵏ = 0.005\n",
      "k = 56,\trank(Xᵏ) = 29,\t‖Xᴳᵀ - Xᵏ‖₂ = 0.548, σ₁ = 138.944, ϵᵏ = 0.004\n",
      "k = 57,\trank(Xᵏ) = 26,\t‖Xᴳᵀ - Xᵏ‖₂ = 0.449, σ₁ = 138.946, ϵᵏ = 0.003\n",
      "k = 58,\trank(Xᵏ) = 22,\t‖Xᴳᵀ - Xᵏ‖₂ = 0.353, σ₁ = 138.948, ϵᵏ = 0.003\n",
      "k = 59,\trank(Xᵏ) = 16,\t‖Xᴳᵀ - Xᵏ‖₂ = 0.259, σ₁ = 138.949, ϵᵏ = 0.002\n",
      "k = 60,\trank(Xᵏ) = 10,\t‖Xᴳᵀ - Xᵏ‖₂ = 0.172, σ₁ = 138.949, ϵᵏ = 0.001\n",
      "k = 61,\trank(Xᵏ) = 7,\t‖Xᴳᵀ - Xᵏ‖₂ = 0.096, σ₁ = 138.949, ϵᵏ = 0.001\n",
      "k = 62,\trank(Xᵏ) = 7,\t‖Xᴳᵀ - Xᵏ‖₂ = 0.039, σ₁ = 138.948, ϵᵏ = 0.000\n",
      "k = 63,\trank(Xᵏ) = 7,\t‖Xᴳᵀ - Xᵏ‖₂ = 0.009, σ₁ = 138.948, ϵᵏ = 0.000\n",
      "k = 64,\trank(Xᵏ) = 7,\t‖Xᴳᵀ - Xᵏ‖₂ = 0.001, σ₁ = 138.948, ϵᵏ = 0.000\n",
      "k = 65,\trank(Xᵏ) = 7,\t‖Xᴳᵀ - Xᵏ‖₂ = 0.001, σ₁ = 138.948, ϵᵏ = 0.000\n",
      "k = 66,\trank(Xᵏ) = 7,\t‖Xᴳᵀ - Xᵏ‖₂ = 0.001, σ₁ = 138.948, ϵᵏ = 0.000\n",
      "k = 67,\trank(Xᵏ) = 7,\t‖Xᴳᵀ - Xᵏ‖₂ = 0.001, σ₁ = 138.948, ϵᵏ = 0.000\n",
      "k = 68,\trank(Xᵏ) = 7,\t‖Xᴳᵀ - Xᵏ‖₂ = 0.001, σ₁ = 138.948, ϵᵏ = 0.000\n",
      "k = 69,\trank(Xᵏ) = 7,\t‖Xᴳᵀ - Xᵏ‖₂ = 0.001, σ₁ = 138.948, ϵᵏ = 0.000\n",
      "k = 70,\trank(Xᵏ) = 7,\t‖Xᴳᵀ - Xᵏ‖₂ = 0.001, σ₁ = 138.948, ϵᵏ = 0.000\n",
      "  6.633966 seconds (16.32 M allocations: 801.154 MiB, 3.87% gc time)\n"
     ]
    }
   ],
   "source": [
    "@time HM_IRLS_optimized(Xᴳᵀ, y, Φ, N = 70, verbose = true);"
   ]
  },
  {
   "cell_type": "code",
   "execution_count": 15,
   "metadata": {},
   "outputs": [],
   "source": [
    "@benchmark HM_IRLS_optimized(Xᴳᵀ, y, Φ, N = 70);"
   ]
  },
  {
   "cell_type": "markdown",
   "metadata": {},
   "source": [
    "#### An easy problem:"
   ]
  },
  {
   "cell_type": "code",
   "execution_count": 16,
   "metadata": {},
   "outputs": [
    {
     "name": "stdout",
     "output_type": "stream",
     "text": [
      "size(Xᴳᵀ) = (10, 10)\n",
      "rank(Xᴳᵀ) = 1\n",
      "rank(y) = 6\n"
     ]
    }
   ],
   "source": [
    "d = 10\n",
    "v = rand(d)\n",
    "Xᴳᵀ = v * v'  # Ground Truth matrix\n",
    "@show size(Xᴳᵀ)\n",
    "@show rank(Xᴳᵀ)\n",
    "\n",
    "# mask that erases 5 elements:\n",
    "num_of_points_to_erase = 5\n",
    "Φᴹ = reshape(shuffle!([fill(0, num_of_points_to_erase)...,\n",
    "            fill(1, d*d - num_of_points_to_erase)...]), d, d)\n",
    "Φ = FunctionOperator{Float64}(name = \"Φ\", inDims = (d, d), outDims = (d, d),\n",
    "    forw = (b,x) -> b .= Φᴹ .* x, backw = (b,x) -> b .= x)\n",
    "\n",
    "y = Φ * Xᴳᵀ\n",
    "@show rank(y);"
   ]
  },
  {
   "cell_type": "code",
   "execution_count": 17,
   "metadata": {},
   "outputs": [
    {
     "name": "stdout",
     "output_type": "stream",
     "text": [
      "k = 0,\trank(Xᵏ) = 6,\t‖Xᴳᵀ - Xᵏ‖₂ = 0.730, σ₁ = 4.028, ϵᵏ = 0.693\n",
      "k = 1,\trank(Xᵏ) = 5,\t‖Xᴳᵀ - Xᵏ‖₂ = 0.062, σ₁ = 4.252, ϵᵏ = 0.057\n",
      "k = 2,\trank(Xᵏ) = 1,\t‖Xᴳᵀ - Xᵏ‖₂ = 0.001, σ₁ = 4.272, ϵᵏ = 0.000\n",
      "k = 3,\trank(Xᵏ) = 1,\t‖Xᴳᵀ - Xᵏ‖₂ = 0.000, σ₁ = 4.272, ϵᵏ = 0.000\n",
      "k = 4,\trank(Xᵏ) = 1,\t‖Xᴳᵀ - Xᵏ‖₂ = 0.000, σ₁ = 4.272, ϵᵏ = 0.000\n",
      "k = 5,\trank(Xᵏ) = 1,\t‖Xᴳᵀ - Xᵏ‖₂ = 0.000, σ₁ = 4.272, ϵᵏ = 0.000\n",
      "k = 6,\trank(Xᵏ) = 1,\t‖Xᴳᵀ - Xᵏ‖₂ = 0.000, σ₁ = 4.272, ϵᵏ = 0.000\n",
      "k = 7,\trank(Xᵏ) = 1,\t‖Xᴳᵀ - Xᵏ‖₂ = 0.000, σ₁ = 4.272, ϵᵏ = 0.000\n",
      "k = 8,\trank(Xᵏ) = 1,\t‖Xᴳᵀ - Xᵏ‖₂ = 0.000, σ₁ = 4.272, ϵᵏ = 0.000\n",
      "k = 9,\trank(Xᵏ) = 1,\t‖Xᴳᵀ - Xᵏ‖₂ = 0.000, σ₁ = 4.272, ϵᵏ = 0.000\n",
      "k = 10,\trank(Xᵏ) = 1,\t‖Xᴳᵀ - Xᵏ‖₂ = 0.000, σ₁ = 4.272, ϵᵏ = 0.000\n",
      "  3.282879 seconds (6.87 M allocations: 338.124 MiB, 3.60% gc time)\n"
     ]
    }
   ],
   "source": [
    "@time HM_IRLS(Xᴳᵀ, y, Φ, N = 10, verbose = true);"
   ]
  },
  {
   "cell_type": "code",
   "execution_count": null,
   "metadata": {},
   "outputs": [],
   "source": []
  }
 ],
 "metadata": {
  "kernelspec": {
   "display_name": "Julia 1.4.1",
   "language": "julia",
   "name": "julia-1.4"
  },
  "language_info": {
   "file_extension": ".jl",
   "mimetype": "application/julia",
   "name": "julia",
   "version": "1.4.1"
  }
 },
 "nbformat": 4,
 "nbformat_minor": 4
}
