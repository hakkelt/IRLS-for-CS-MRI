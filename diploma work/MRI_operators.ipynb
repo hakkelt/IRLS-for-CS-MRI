{
 "cells": [
  {
   "cell_type": "code",
   "execution_count": 2,
   "metadata": {},
   "outputs": [],
   "source": [
    "using LinearAlgebra, FFTW, FunctionOperators\n",
    "include(\"helper_functions.jl\")\n",
    "\n",
    "FFTW.set_num_threads(20)"
   ]
  },
  {
   "cell_type": "markdown",
   "metadata": {},
   "source": [
    "# 2. Operators\n",
    "**All-in-one acquisition operator**"
   ]
  },
  {
   "cell_type": "code",
   "execution_count": 11,
   "metadata": {},
   "outputs": [
    {
     "data": {
      "text/plain": [
       "getE (generic function with 1 method)"
      ]
     },
     "execution_count": 11,
     "metadata": {},
     "output_type": "execute_result"
    }
   ],
   "source": [
    "function getE(nx::Int, ny::Int, nt::Int, nc::Int, samp::AbstractArray{T,3} where T,\n",
    "        smap::AbstractArray{Complex{T},3} where T, dType::Type)\n",
    "    scaling = convert(dType, √(nx*ny))\n",
    "    mask_with_scaling = repeat(samp, 1, 1, 1, nc) .* scaling\n",
    "    reshaped_smap = reshape(convert.(dType, smap), nx, ny, 1, nc)\n",
    "    reshaped_smap_conj_with_scaling = conj.(reshaped_smap) ./ scaling\n",
    "    xcoils₁ = Array{dType}(undef, nx, ny, nt, nc)\n",
    "    xcoils₂ = Array{dType}(undef, nx, ny, nt, nc)\n",
    "    FFT_plan = plan_fft(xcoils₁, (1,2))\n",
    "    iFFT_plan = inv(FFT_plan)\n",
    "    E = FunctionOperator{dType}(name = \"E\", \n",
    "        forw = (b, x) -> begin # Don't ask me, why did Mr Otazo use ifft instead of fft...\n",
    "                xcoils₁ .= reshape(x, (nx, ny, nt, 1)) .* reshaped_smap\n",
    "                ifftshift!(xcoils₂, xcoils₁, (1, 2))\n",
    "                mul!(xcoils₁, iFFT_plan, xcoils₂)\n",
    "                fftshift!(b, xcoils₁, (1, 2))\n",
    "                b .*= mask_with_scaling\n",
    "            end,\n",
    "        backw = (b, y) -> begin # But he used it consistently, so it doesn't make a big difference\n",
    "                ifftshift!(xcoils₂, y, (1, 2))\n",
    "                mul!(xcoils₁, FFT_plan, xcoils₂)\n",
    "                fftshift!(xcoils₂, xcoils₁, (1, 2))\n",
    "                xcoils₂ .*= reshaped_smap_conj_with_scaling\n",
    "                sum!(reshape(b, (nx, ny, nt, 1)), xcoils₂)\n",
    "                b\n",
    "            end,\n",
    "        inDims = (nx, ny, nt), outDims = (nx, ny, nt, nc))\n",
    "end"
   ]
  },
  {
   "cell_type": "markdown",
   "metadata": {},
   "source": [
    "**Components of acquisition operator separately**"
   ]
  },
  {
   "cell_type": "code",
   "execution_count": 12,
   "metadata": {},
   "outputs": [
    {
     "data": {
      "text/plain": [
       "getΩQC (generic function with 1 method)"
      ]
     },
     "execution_count": 12,
     "metadata": {},
     "output_type": "execute_result"
    }
   ],
   "source": [
    "function getΩQC(nx::Int, ny::Int, nt::Int, nc::Int, samp::AbstractArray{T,3} where T,\n",
    "        smap::AbstractArray{Complex{T},3} where T, dType::Type)\n",
    "    mask = repeat(convert.(dType, samp), 1, 1, 1, nc)\n",
    "    reshaped_smap = reshape(convert.(dType, smap), nx, ny, 1, nc)\n",
    "    reshaped_smap_conj = conj.(reshaped_smap)\n",
    "    xcoils = Array{dType}(undef, nx, ny, nt, nc)\n",
    "    FFT_plan = plan_fft!(xcoils, (1,2))\n",
    "    iFFT_plan = inv(FFT_plan)\n",
    "    scaling = convert(dType, √(nx*ny))\n",
    "    C = FunctionOperator{dType}(name = \"C\",\n",
    "        forw = (b, x) -> begin\n",
    "                    b .= x .* reshaped_smap\n",
    "            end,\n",
    "        backw = (b, y) -> begin\n",
    "                    xcoils .= y .* reshaped_smap_conj\n",
    "                    sum!(b, xcoils)\n",
    "            end,\n",
    "        inDims = (nx, ny, nt, 1), outDims = (nx, ny, nt, nc))\n",
    "    \n",
    "    Q = FunctionOperator{dType}(name = \"Q\",\n",
    "        forw = (b, x) -> begin\n",
    "                ifftshift!(xcoils, x, (1, 2))\n",
    "                iFFT_plan * xcoils\n",
    "                fftshift!(b, xcoils, (1, 2))\n",
    "                b .*= scaling\n",
    "            end,\n",
    "        backw = (b, y) -> begin\n",
    "                ifftshift!(xcoils, reshape(y, nx, ny, nt, nc), (1, 2))\n",
    "                FFT_plan * xcoils\n",
    "                fftshift!(b, xcoils, (1, 2))\n",
    "                b ./= scaling\n",
    "            end,\n",
    "        inDims = (nx, ny, nt, nc), outDims = (nx, ny, nt, nc))\n",
    "    \n",
    "    Ω = FunctionOperator{dType}(name = \"Ω\",\n",
    "        forw = (b, x) -> b .= x .* mask,\n",
    "        backw = (b, y) -> b .= y,\n",
    "        inDims = (nx, ny, nt, nc), outDims = (nx, ny, nt, nc))\n",
    "    \n",
    "    return Ω, Q, C\n",
    "end"
   ]
  },
  {
   "cell_type": "markdown",
   "metadata": {},
   "source": [
    "**Acquisition operator with non-uniform FFT**\n",
    "\n",
    "Respective Matlab code: https://github.com/JeffFessler/reproduce-l-s-dynamic-mri/blob/master/operators/getEnufft.m\n",
    "\n",
    "`E_basis` function is found in `helper_functions.jl`"
   ]
  },
  {
   "cell_type": "code",
   "execution_count": 13,
   "metadata": {},
   "outputs": [
    {
     "data": {
      "text/plain": [
       "getEnufft (generic function with 1 method)"
      ]
     },
     "execution_count": 13,
     "metadata": {},
     "output_type": "execute_result"
    }
   ],
   "source": [
    "function getEnufft(sense_maps::AbstractArray{Complex{T},3} where T; ksp::AbstractArray, om::AbstractArray,\n",
    "        wi::Union{AbstractArray, Nothing} = nothing, dType::Type)\n",
    "    \n",
    "    nx,ny,nc = size(sense_maps)\n",
    "    M,_,nt = size(ksp)\n",
    "    n_shift = (nx, ny) .÷ 2\n",
    "    \n",
    "    sense_maps = convert.(dType, reshape(sense_maps, nx, ny, 1, nc))\n",
    "    sense_maps_conj = conj.(sense_maps)\n",
    "    !(wi isa Nothing) && (wi = convert.(dType, wi))\n",
    "    \n",
    "    #basistransform = E_basis(\"dirac\", M=M, nt=nt, fov=(22,22), N=(nx,ny), ksp=ksp)\n",
    "    st = [nufft_plan(@view(om[:, :, tt]), (nx, ny), nfft_m=2, nfft_sigma=1.25, n_shift=collect(n_shift))\n",
    "        for tt = 1:nt]\n",
    "    \n",
    "    xcoils = Array{dType}(undef, nx, ny, nt, nc)\n",
    "    xcoilsₜ = similar(xcoils, nx, ny, nc)\n",
    "    kspₜ = similar(xcoils, M, nc)\n",
    "    ksp_buffer = Array{dType}(undef, M, nt, nc)\n",
    "    scaling = convert(dType, √(nx*ny))\n",
    "    \n",
    "    E = FunctionOperator{dType}(name = \"E\",\n",
    "        forw = (b, x) -> begin\n",
    "            xcoils .= reshape(x, nx, ny, nt, 1) .* sense_maps\n",
    "            for tt=1:nt\n",
    "                xcoilsₜ .= @view xcoils[:, :, tt, :]\n",
    "                st[tt].nufft(kspₜ, xcoilsₜ) # nfft is calculated into kspₜ\n",
    "                b[:, tt, :] .= kspₜ ./ scaling\n",
    "            end\n",
    "            #b .* basistransform\n",
    "            b\n",
    "        end,\n",
    "        backw = (b, y) -> begin\n",
    "            ksp = reshape(y, M, nt, nc)\n",
    "            ksp = wi isa Nothing ? ksp : ksp_buffer .= ksp .* wi\n",
    "            for tt=1:nt\n",
    "                kspₜ .= @view ksp[:, tt, :]\n",
    "                st[tt].nufft_adjoint(xcoilsₜ, kspₜ) # adjoint nfft is calculated into xcoilsₜ\n",
    "                xcoils[:, :, tt, :] .= xcoilsₜ ./ scaling\n",
    "            end\n",
    "            #b .* basistransform\n",
    "            xcoils .*= sense_maps_conj\n",
    "            sum!(reshape(b, nx, ny, nt, 1), xcoils)\n",
    "        end,\n",
    "        inDims = (nx, ny, nt), outDims = (M, nt, nc))\n",
    "end"
   ]
  },
  {
   "cell_type": "markdown",
   "metadata": {},
   "source": [
    "**Sparsifying transform**\n",
    "\n",
    "A Fourier transform along the time dimension"
   ]
  },
  {
   "cell_type": "code",
   "execution_count": 14,
   "metadata": {},
   "outputs": [
    {
     "data": {
      "text/plain": [
       "getT (generic function with 1 method)"
      ]
     },
     "execution_count": 14,
     "metadata": {},
     "output_type": "execute_result"
    }
   ],
   "source": [
    "function getT(nx::Int, ny::Int, nt::Int, dType::Type)\n",
    "    buffer = Array{dType}(undef, nx*ny, nt)\n",
    "    FFT_plan = plan_fft(buffer, 2)\n",
    "    iFFT_plan = inv(FFT_plan)\n",
    "    scaling = convert(dType, √(nt))\n",
    "    T = FunctionOperator{dType}(name = \"T\",\n",
    "        forw = (b, x) -> begin\n",
    "            mul!(buffer, FFT_plan, x)\n",
    "            fftshift!(b, buffer, 2)\n",
    "            b ./= scaling\n",
    "            end,\n",
    "        backw = (b, y) -> begin\n",
    "            ifftshift!(buffer, y, 2)\n",
    "            mul!(b, iFFT_plan, buffer)\n",
    "            b .*= scaling\n",
    "            end,\n",
    "        inDims = (nx*ny, nt), outDims = (nx*ny, nt))\n",
    "end"
   ]
  },
  {
   "cell_type": "code",
   "execution_count": null,
   "metadata": {},
   "outputs": [],
   "source": []
  }
 ],
 "metadata": {
  "kernelspec": {
   "display_name": "Julia 1.4.1",
   "language": "julia",
   "name": "julia-1.4"
  },
  "language_info": {
   "file_extension": ".jl",
   "mimetype": "application/julia",
   "name": "julia",
   "version": "1.4.1"
  },
  "toc": {
   "base_numbering": 1,
   "nav_menu": {},
   "number_sections": false,
   "sideBar": true,
   "skip_h1_title": false,
   "title_cell": "Table of Contents",
   "title_sidebar": "Contents",
   "toc_cell": true,
   "toc_position": {},
   "toc_section_display": true,
   "toc_window_display": true
  },
  "toc-showcode": false,
  "toc-showmarkdowntxt": false,
  "toc-showtags": false
 },
 "nbformat": 4,
 "nbformat_minor": 4
}
