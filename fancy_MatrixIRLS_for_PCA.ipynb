{
 "cells": [
  {
   "cell_type": "code",
   "execution_count": 1,
   "metadata": {},
   "outputs": [],
   "source": [
    "using LinearAlgebra, NBInclude, IterativeSolvers, FunctionOperators, Printf"
   ]
  },
  {
   "cell_type": "code",
   "execution_count": 1,
   "metadata": {},
   "outputs": [
    {
     "ename": "LoadError",
     "evalue": "LoadError: UndefVarError: @nbinclude not defined\nin expression starting at In[1]:1",
     "output_type": "error",
     "traceback": [
      "LoadError: UndefVarError: @nbinclude not defined\nin expression starting at In[1]:1",
      "",
      "Stacktrace:",
      " [1] top-level scope",
      " [2] include_string(::Function, ::Module, ::String, ::String) at ./loading.jl:1091"
     ]
    }
   ],
   "source": [
    "@nbinclude(\"helper_functions.ipynb\")"
   ]
  },
  {
   "cell_type": "code",
   "execution_count": 3,
   "metadata": {},
   "outputs": [],
   "source": [
    "Random.seed!(123);"
   ]
  },
  {
   "cell_type": "markdown",
   "metadata": {},
   "source": [
    "### Fancy MatrixIRLS for matrix completion (PCA) with p = 0\n",
    "\n",
    "https://mediatum.ub.tum.de/doc/1521436/1521436.pdf\n",
    "\n",
    "_**Note:** Fancy = Conjugate gradient step (2.90) is optimized by computing it in a lower dimensional projection space._"
   ]
  },
  {
   "cell_type": "code",
   "execution_count": 4,
   "metadata": {},
   "outputs": [
    {
     "data": {
      "text/plain": [
       "fancy_MatrixIRLS_for_PCA (generic function with 1 method)"
      ]
     },
     "execution_count": 4,
     "metadata": {},
     "output_type": "execute_result"
    }
   ],
   "source": [
    "function fancy_MatrixIRLS_for_PCA(\n",
    "        Xᴳᵀ::AbstractArray,                     # ground truth for MSE evaluation\n",
    "        y::AbstractArray,                       # under-sampled data\n",
    "        Φ::FunctionOperator;                    # sampling operator\n",
    "        img_size::NTuple = size(Xᴳᵀ),           # size of output matrix\n",
    "        r̃::Int = 0,                             # rank estimate of solution\n",
    "        maxIter::Union{Int, Nothing} = nothing, # number of CG iteration steps\n",
    "        N::Int = 10,                            # number of iterations\n",
    "        verbose::Bool = false)                  # print rank and loss value in each iteration\n",
    "    \n",
    "    # Initialize variables\n",
    "    dType = eltype(y)\n",
    "    d₁, d₂ = img_size\n",
    "    r̃ == 0 && (r̃ = rank(Xᴳᵀ))\n",
    "    maxIter = maxIter isa Nothing ? r̃*(r̃+d₁+d₂) : maxIter\n",
    "    ϵᵏ = Inf\n",
    "    Xᵏ = Φ' * y\n",
    "    σ = nothing # I just want to make it available outside of the loop\n",
    "    \n",
    "    for k in 1:N\n",
    "\"\"\"\n",
    "page 84\n",
    "    2. Find best rank-(r̃ + 1) approximation of Xᵏ to obtain\n",
    "        𝒯ᵣ(Xᵏ) = Uᵏ * diag(σᵢᵏ)ᵢ₌₁ʳ * Vᵏ' and σᵣ₊₁ᵏ \n",
    "\"\"\"\n",
    "        F = svd(Xᵏ)\n",
    "        Uᵏ, σ, Vᵏ = F.U[:, 1:r̃], F.S, F.V[:, 1:r̃]\n",
    "        \n",
    "\"\"\"\n",
    "p.84     and update smoothing:                                 (2.91)\n",
    "\"\"\"\n",
    "        ϵᵏ = min(ϵᵏ, σ[r̃+1])\n",
    "        \n",
    "        # Print iteration info\n",
    "        if verbose\n",
    "            r, n, s, e = rank(Xᵏ, atol = 1e-3), opnorm(Xᴳᵀ - Xᵏ, 2), σ[1], ϵᵏ\n",
    "            n, s, e = @sprintf(\"%7.3f\", n), @sprintf(\"%7.3f\", s), @sprintf(\"%7.3f\", e)\n",
    "            println(\"k = $(k-1),\\trank(Xᵏ) = $r,\\t‖Xᴳᵀ - Xᵏ‖₂ = $n, σ₁ = $s, ϵᵏ = $e\")\n",
    "        end\n",
    "            \n",
    "\"\"\"\n",
    "p.84\n",
    "    3. Update Wᵏ as in (2.57), using parameters ϵ = ϵᵏ and p in (2.58) and (2.59), and the\n",
    "        information Uᵏ , Vᵏ and σ₁ᵏ, ..., σᵣ₊₁ᵏ from item 2.\n",
    "\n",
    "    1. Use a conjugate gradient method to solve linearly constrained quadratic program\n",
    "         Xᵏ = arg minₓ ⟨X,Wᵏ⁻¹(X)⟩ s.t. Φ(X) = y         (2.90)\n",
    "\"\"\"\n",
    "#=\n",
    "p.118\n",
    "    Therefore, we can summarize the following simplified outline of an implementation of\n",
    "        step (2.90) of MatrixIRLS for matrix completion:\n",
    "        1. Calculate P*_Tₖ Φ*(y) ∈ Tₖ\n",
    "        2. Solve ((ϵₖ²⁻ᵖ I) / (𝒟⁻¹ - ϵₖ²⁻ᵖ I) + P*_Tₖ Φ* Φ P_Tₖ)γₖ = P*_Tₖ Φ*(y)\n",
    "            for γₖ ∈ Tₖ by conjugate gradient method [HS52], [QSS10, Chapter 4].\n",
    "        3. Calculate residual rₖ := y − Φ P_Tₖ γₖ ∈ ℝᵐ\n",
    "        4. Calculate γ̃ₖ = (𝒟⁻¹ / (𝒟⁻¹ - ϵₖ²⁻ᵖ I))γₖ - P*_Tₖ Φ*(rₖ) ∈ Tₖ.\n",
    "=#\n",
    "        \n",
    "        # the upper-left (r × r) block of (d₁ × d₂) Hᵏ matrix:\n",
    "        Hᵏᵤᵥ = [1 / (max(σ[i], ϵᵏ) * max(σ[j], ϵᵏ))  for i in 1:r̃, j in 1:r̃]\n",
    "        # the first column of Hᵏᵤᵥ⟂:\n",
    "        dHᵏ = reshape([1 / (max(σ[r̃+1], ϵᵏ) * max(σ[j], ϵᵏ))  for j in 1:r̃], :, 1)\n",
    "        Pᵏ = FunctionOperator{dType}(name=\"Pᵏ\", inDims = (r̃*(r̃+d₁+d₂),), outDims = (d₁, d₂),\n",
    "            forw = γ -> begin\n",
    "                    γ₁ = reshape(γ[1:r̃^2], r̃, r̃)\n",
    "                    γ₂ = reshape(γ[r̃^2+1:r̃*(r̃+d₂)], r̃, d₂)\n",
    "                    γ₃ = reshape(γ[r̃*(r̃+d₂)+1:r̃*(r̃+d₁+d₂)], d₁, r̃)\n",
    "                    # According to (2.169), the equation would be:\n",
    "                    # Uᵏ * γ₁ * Vᵏ' + Uᵏ * γ₂' * (I - Vᵏ*Vᵏ') + (I - Uᵏ*Uᵏ') * γ₃' * Vᵏ'\n",
    "                    # But as the columns of γ₃ are orthogonal to the ones in Uᵏ,\n",
    "                    # the rows of γ₂ are orthogonal to the columns of Vᵏ,\n",
    "                    # the expression can be simplified:\n",
    "                    (Uᵏ * γ₁ + γ₃) * Vᵏ' + Uᵏ * γ₂\n",
    "                end,\n",
    "            backw = Φᵃy -> begin\n",
    "                    γ₁ = Uᵏ' * Φᵃy * Vᵏ\n",
    "                    γ₂ = Uᵏ' * Φᵃy * (I - Vᵏ*Vᵏ')\n",
    "                    γ₃ = (I - Uᵏ*Uᵏ') * Φᵃy * Vᵏ\n",
    "                    vcat(vec(γ₁), vec(γ₂), vec(γ₃))\n",
    "                end)\n",
    "        b = Pᵏ' * Φ' * y\n",
    "        𝒟⁻¹ = I / Diagonal(vcat(vec(Hᵏᵤᵥ), vec(kron(dHᵏ, ones(1, d₂))), vec(kron(dHᵏ, ones(1, d₁))')))\n",
    "        CG_op = FunctionOperator{dType}(name = \"CG_op\", inDims = (r̃*(r̃+d₁+d₂),), outDims = (r̃*(r̃+d₁+d₂),),\n",
    "            forw = γ ->  begin\n",
    "                    (ϵᵏ^2 * I / (𝒟⁻¹ - ϵᵏ^2 * I)) * γ + Pᵏ' * Φ' * Φ * Pᵏ * γ\n",
    "                end)\n",
    "        γᵏ = cg(CG_op, b, maxiter = maxIter) # 2.167\n",
    "        rᵏ = y - Φ * Pᵏ * γᵏ\n",
    "        γ̃ₖ = (𝒟⁻¹ / (𝒟⁻¹ - ϵᵏ^2 * I)) * γᵏ - Pᵏ' * Φ' * rᵏ\n",
    "        Xᵏ = Φ' * rᵏ + Pᵏ * γ̃ₖ   # 2.168\n",
    "    end\n",
    "    \n",
    "    r, n, s, e = rank(Xᵏ, atol = 1e-3), opnorm(Xᴳᵀ - Xᵏ, 2), σ[1], ϵᵏ\n",
    "    n, s, e = @sprintf(\"%7.3f\", n), @sprintf(\"%7.3f\", s), @sprintf(\"%7.3f\", e)\n",
    "    verbose && println(\"k = $N,\\trank(Xᵏ) = $r,\\t‖Xᴳᵀ - Xᵏ‖₂ = $n, σ₁ = $s, ϵᵏ = $e\")\n",
    "    \n",
    "    Xᵏ\n",
    "end"
   ]
  },
  {
   "cell_type": "markdown",
   "metadata": {},
   "source": [
    "# Numerical Experiments\n",
    "\n",
    "### General parameters"
   ]
  },
  {
   "cell_type": "code",
   "execution_count": 5,
   "metadata": {},
   "outputs": [],
   "source": [
    "# Matrix dimensions\n",
    "d₁, d₂ = 50, 50\n",
    "n = min(d₁, d₂)\n",
    "# Rank and number of non-zero elements in sparse component\n",
    "r, k = 7, 0\n",
    "# Type of matrix elements\n",
    "dType = ComplexF64;"
   ]
  },
  {
   "cell_type": "markdown",
   "metadata": {},
   "source": [
    "## Understanding and Enhancing Data Recovery Algorithms\n",
    "\n",
    "*From Noise-Blind Sparse Recovery to Reweighted Methods for Low-Rank Matrix Optimization*\n",
    "\n",
    "*by Christian Kümmerle*\n",
    "\n",
    "https://mediatum.ub.tum.de/doc/1521436/1521436.pdf"
   ]
  },
  {
   "cell_type": "markdown",
   "metadata": {},
   "source": [
    "### Generate Data"
   ]
  },
  {
   "cell_type": "markdown",
   "metadata": {},
   "source": [
    "#### Gaussian Low Rank Matrix\n",
    "Corresponding Matlab function: https://github.com/ckuemmerle/hm_irls/blob/master/sample_X0_lowrank.m"
   ]
  },
  {
   "cell_type": "code",
   "execution_count": 6,
   "metadata": {},
   "outputs": [
    {
     "name": "stdout",
     "output_type": "stream",
     "text": [
      "size(L₀) = (50, 50)\n",
      "rank(L₀) = 7\n"
     ]
    }
   ],
   "source": [
    "L₀ = generateLowRankComponent_Christian(d₁, d₂, r, dType)\n",
    "@show size(L₀)\n",
    "@show rank(L₀);"
   ]
  },
  {
   "cell_type": "markdown",
   "metadata": {},
   "source": [
    "#### Sampling Mask ($\\Phi$)\n",
    "Corresponding Matlab function: https://github.com/ckuemmerle/hm_irls/blob/master/sample_phi_MatrixCompletion.m\n",
    "\n",
    "_**Note:** There is a difference in the way how the Christian's Matlab function and my Julia function satisfies the requirement of having at least $r$ non-zero entries in each row and each column._"
   ]
  },
  {
   "cell_type": "code",
   "execution_count": 7,
   "metadata": {},
   "outputs": [
    {
     "name": "stdout",
     "output_type": "stream",
     "text": [
      "r = 7\n",
      "minimum number of non-zero entries in each column: 9\n",
      "minimum number of non-zero entries in each column: 8\n"
     ]
    }
   ],
   "source": [
    "df = r * (d₁ + d₂ - r) # Number of degrees of freedom of the setting\n",
    "m = floor(Int, min(1.05 * df, d₁ * d₂))\n",
    "Φᴹ = generateΦ(d₁, d₂, r, m)\n",
    "Φ = FunctionOperator{dType}(name = \"Φ\", inDims = (d₁, d₂), outDims = (d₁, d₂),\n",
    "    forw = (b,x) -> b .= Φᴹ .* x, backw = (b,x) -> b .= x)\n",
    "@show r\n",
    "println(\"minimum number of non-zero entries in each column: \", Int(minimum(sum(Φᴹ, dims=1))))\n",
    "println(\"minimum number of non-zero entries in each column: \", Int(minimum(sum(Φᴹ, dims=2))))"
   ]
  },
  {
   "cell_type": "markdown",
   "metadata": {},
   "source": [
    "#### Subsampling The Ground Truth Matrix"
   ]
  },
  {
   "cell_type": "code",
   "execution_count": 8,
   "metadata": {},
   "outputs": [
    {
     "name": "stdout",
     "output_type": "stream",
     "text": [
      "rank(y) = 50\n"
     ]
    }
   ],
   "source": [
    "y = Φ * L₀\n",
    "@show rank(y);"
   ]
  },
  {
   "cell_type": "markdown",
   "metadata": {},
   "source": [
    "### Running The Reconstruction"
   ]
  },
  {
   "cell_type": "code",
   "execution_count": 9,
   "metadata": {},
   "outputs": [
    {
     "name": "stdout",
     "output_type": "stream",
     "text": [
      "k = 0,\trank(Xᵏ) = 50,\t‖Xᴳᵀ - Xᵏ‖₂ = 174.811, σ₁ =  74.748, ϵᵏ =  33.581\n",
      "k = 1,\trank(Xᵏ) = 50,\t‖Xᴳᵀ - Xᵏ‖₂ = 125.170, σ₁ = 136.996, ϵᵏ =  23.829\n",
      "k = 2,\trank(Xᵏ) = 50,\t‖Xᴳᵀ - Xᵏ‖₂ =  88.464, σ₁ = 197.778, ϵᵏ =  15.661\n",
      "k = 3,\trank(Xᵏ) = 50,\t‖Xᴳᵀ - Xᵏ‖₂ =  66.096, σ₁ = 220.748, ϵᵏ =  10.665\n",
      "k = 4,\trank(Xᵏ) = 50,\t‖Xᴳᵀ - Xᵏ‖₂ =  55.641, σ₁ = 227.255, ϵᵏ =   7.563\n",
      "k = 5,\trank(Xᵏ) = 50,\t‖Xᴳᵀ - Xᵏ‖₂ =  45.792, σ₁ = 229.624, ϵᵏ =   5.333\n",
      "k = 6,\trank(Xᵏ) = 50,\t‖Xᴳᵀ - Xᵏ‖₂ =  36.322, σ₁ = 231.461, ϵᵏ =   3.952\n",
      "k = 7,\trank(Xᵏ) = 50,\t‖Xᴳᵀ - Xᵏ‖₂ =  29.960, σ₁ = 233.286, ϵᵏ =   3.179\n",
      "k = 8,\trank(Xᵏ) = 50,\t‖Xᴳᵀ - Xᵏ‖₂ =  26.327, σ₁ = 234.681, ϵᵏ =   2.635\n",
      "k = 9,\trank(Xᵏ) = 50,\t‖Xᴳᵀ - Xᵏ‖₂ =  24.101, σ₁ = 235.525, ϵᵏ =   2.262\n",
      "k = 10,\trank(Xᵏ) = 50,\t‖Xᴳᵀ - Xᵏ‖₂ =  22.422, σ₁ = 235.946, ϵᵏ =   1.951\n",
      "k = 11,\trank(Xᵏ) = 50,\t‖Xᴳᵀ - Xᵏ‖₂ =  21.012, σ₁ = 236.123, ϵᵏ =   1.633\n",
      "k = 12,\trank(Xᵏ) = 50,\t‖Xᴳᵀ - Xᵏ‖₂ =  19.781, σ₁ = 236.170, ϵᵏ =   1.327\n",
      "k = 13,\trank(Xᵏ) = 50,\t‖Xᴳᵀ - Xᵏ‖₂ =  18.693, σ₁ = 236.176, ϵᵏ =   1.117\n",
      "k = 14,\trank(Xᵏ) = 50,\t‖Xᴳᵀ - Xᵏ‖₂ =  17.779, σ₁ = 236.189, ϵᵏ =   0.973\n",
      "k = 15,\trank(Xᵏ) = 50,\t‖Xᴳᵀ - Xᵏ‖₂ =  17.058, σ₁ = 236.222, ϵᵏ =   0.852\n",
      "k = 16,\trank(Xᵏ) = 50,\t‖Xᴳᵀ - Xᵏ‖₂ =  16.499, σ₁ = 236.280, ϵᵏ =   0.742\n",
      "k = 17,\trank(Xᵏ) = 50,\t‖Xᴳᵀ - Xᵏ‖₂ =  16.032, σ₁ = 236.361, ϵᵏ =   0.649\n",
      "k = 18,\trank(Xᵏ) = 50,\t‖Xᴳᵀ - Xᵏ‖₂ =  15.599, σ₁ = 236.453, ϵᵏ =   0.574\n",
      "k = 19,\trank(Xᵏ) = 50,\t‖Xᴳᵀ - Xᵏ‖₂ =  15.172, σ₁ = 236.546, ϵᵏ =   0.514\n",
      "k = 20,\trank(Xᵏ) = 50,\t‖Xᴳᵀ - Xᵏ‖₂ =  14.746, σ₁ = 236.637, ϵᵏ =   0.463\n",
      "k = 21,\trank(Xᵏ) = 50,\t‖Xᴳᵀ - Xᵏ‖₂ =  14.317, σ₁ = 236.731, ϵᵏ =   0.420\n",
      "k = 22,\trank(Xᵏ) = 49,\t‖Xᴳᵀ - Xᵏ‖₂ =  13.873, σ₁ = 236.837, ϵᵏ =   0.383\n",
      "k = 23,\trank(Xᵏ) = 50,\t‖Xᴳᵀ - Xᵏ‖₂ =  13.394, σ₁ = 236.957, ϵᵏ =   0.349\n",
      "k = 24,\trank(Xᵏ) = 49,\t‖Xᴳᵀ - Xᵏ‖₂ =  12.867, σ₁ = 237.092, ϵᵏ =   0.317\n",
      "k = 25,\trank(Xᵏ) = 50,\t‖Xᴳᵀ - Xᵏ‖₂ =  12.283, σ₁ = 237.237, ϵᵏ =   0.285\n",
      "k = 26,\trank(Xᵏ) = 50,\t‖Xᴳᵀ - Xᵏ‖₂ =  11.641, σ₁ = 237.389, ϵᵏ =   0.253\n",
      "k = 27,\trank(Xᵏ) = 50,\t‖Xᴳᵀ - Xᵏ‖₂ =  10.947, σ₁ = 237.538, ϵᵏ =   0.220\n",
      "k = 28,\trank(Xᵏ) = 50,\t‖Xᴳᵀ - Xᵏ‖₂ =  10.211, σ₁ = 237.677, ϵᵏ =   0.189\n",
      "k = 29,\trank(Xᵏ) = 50,\t‖Xᴳᵀ - Xᵏ‖₂ =   9.447, σ₁ = 237.797, ϵᵏ =   0.160\n",
      "k = 30,\trank(Xᵏ) = 50,\t‖Xᴳᵀ - Xᵏ‖₂ =   8.671, σ₁ = 237.890, ϵᵏ =   0.133\n",
      "k = 31,\trank(Xᵏ) = 49,\t‖Xᴳᵀ - Xᵏ‖₂ =   7.898, σ₁ = 237.952, ϵᵏ =   0.112\n",
      "k = 32,\trank(Xᵏ) = 48,\t‖Xᴳᵀ - Xᵏ‖₂ =   7.141, σ₁ = 237.985, ϵᵏ =   0.094\n",
      "k = 33,\trank(Xᵏ) = 49,\t‖Xᴳᵀ - Xᵏ‖₂ =   6.407, σ₁ = 237.993, ϵᵏ =   0.080\n",
      "k = 34,\trank(Xᵏ) = 49,\t‖Xᴳᵀ - Xᵏ‖₂ =   5.694, σ₁ = 237.985, ϵᵏ =   0.067\n",
      "k = 35,\trank(Xᵏ) = 48,\t‖Xᴳᵀ - Xᵏ‖₂ =   4.990, σ₁ = 237.970, ϵᵏ =   0.057\n",
      "k = 36,\trank(Xᵏ) = 48,\t‖Xᴳᵀ - Xᵏ‖₂ =   4.287, σ₁ = 237.955, ϵᵏ =   0.047\n",
      "k = 37,\trank(Xᵏ) = 47,\t‖Xᴳᵀ - Xᵏ‖₂ =   3.581, σ₁ = 237.946, ϵᵏ =   0.038\n",
      "k = 38,\trank(Xᵏ) = 46,\t‖Xᴳᵀ - Xᵏ‖₂ =   2.878, σ₁ = 237.943, ϵᵏ =   0.030\n",
      "k = 39,\trank(Xᵏ) = 46,\t‖Xᴳᵀ - Xᵏ‖₂ =   2.193, σ₁ = 237.948, ϵᵏ =   0.022\n",
      "k = 40,\trank(Xᵏ) = 44,\t‖Xᴳᵀ - Xᵏ‖₂ =   1.548, σ₁ = 237.956, ϵᵏ =   0.015\n",
      "k = 41,\trank(Xᵏ) = 40,\t‖Xᴳᵀ - Xᵏ‖₂ =   0.974, σ₁ = 237.964, ϵᵏ =   0.009\n",
      "k = 42,\trank(Xᵏ) = 32,\t‖Xᴳᵀ - Xᵏ‖₂ =   0.508, σ₁ = 237.966, ϵᵏ =   0.005\n",
      "k = 43,\trank(Xᵏ) = 16,\t‖Xᴳᵀ - Xᵏ‖₂ =   0.189, σ₁ = 237.963, ϵᵏ =   0.002\n",
      "k = 44,\trank(Xᵏ) = 7,\t‖Xᴳᵀ - Xᵏ‖₂ =   0.037, σ₁ = 237.958, ϵᵏ =   0.000\n",
      "k = 45,\trank(Xᵏ) = 7,\t‖Xᴳᵀ - Xᵏ‖₂ =   0.002, σ₁ = 237.957, ϵᵏ =   0.000\n",
      "k = 46,\trank(Xᵏ) = 7,\t‖Xᴳᵀ - Xᵏ‖₂ =   0.000, σ₁ = 237.956, ϵᵏ =   0.000\n",
      "k = 47,\trank(Xᵏ) = 7,\t‖Xᴳᵀ - Xᵏ‖₂ =   0.000, σ₁ = 237.956, ϵᵏ =   0.000\n",
      "k = 48,\trank(Xᵏ) = 7,\t‖Xᴳᵀ - Xᵏ‖₂ =   0.000, σ₁ = 237.956, ϵᵏ =   0.000\n",
      " 21.517351 seconds (14.17 M allocations: 3.738 GiB, 2.55% gc time)\n"
     ]
    }
   ],
   "source": [
    "@time fancy_MatrixIRLS_for_PCA(L₀, y, Φ, N = 48, verbose = true);"
   ]
  },
  {
   "cell_type": "markdown",
   "metadata": {},
   "source": [
    "# Robust Principal Component Analysis?\n",
    "*by Emmanuel J. Candès, Xiaodong Li, Yi Ma, and John Wright*  \n",
    "https://arxiv.org/pdf/0912.3599.pdf\n",
    "\n",
    "#### 4.1 Exact recovery from varying fractions of error\n",
    "\n",
    "We first verify the correct recovery phenomenon of Theorem 1.1 on randomly generated problems. We consider square matrices of varying dimension $n = 500, \\ldots , 3000$. We generate a rank-$r$ matrix $L_0$ as a product $L_0 = XY^∗$ where $X$ and $Y$ are $n \\times r$ matrices with entries independently sampled\n",
    "from a $\\mathcal{N}(0,1/n)$ distribution. $S_0$ is generated by choosing a support set $\\Omega$ of size $k$ uniformly at random, and setting $S_0 = \\mathcal{P}_\\Omega E$, where $E$ is a matrix with independent Bernoulli $\\pm 1$ entries. Table 1 (top) reports the results with $r = rank(L_0) = 0.05 \\times n$ and $k = \\Vert S_0 \\Vert_0 = 0.05 \\times n^2$. Table 1 (bottom) reports the results for a more challenging scenario, $rank(L_0) = 0.05 \\times n$ and $k = 0.10 \\times n^2$. In all cases, we set $\\lambda = 1 \\cdot \\sqrt{n}$. Notice that in all cases, solving the convex PCP gives a result $(L, S)$ with the correct rank and sparsity. Moreover, the relative error $\\frac{\\Vert L - L_0 \\Vert_F}{\\Vert L_0 \\Vert_F}$ is small, less than $10^{-5}$ in all examples considered."
   ]
  },
  {
   "cell_type": "markdown",
   "metadata": {},
   "source": [
    "<center><img src=\"table_1.png\" /></center>"
   ]
  },
  {
   "cell_type": "markdown",
   "metadata": {},
   "source": [
    "### Generate Data\n",
    "\n",
    "_**Note:** In this notebook we deal only with PCA (simple matrix completion); therefore, there is no sparse component in the ground truth matrix._"
   ]
  },
  {
   "cell_type": "code",
   "execution_count": 13,
   "metadata": {},
   "outputs": [
    {
     "name": "stdout",
     "output_type": "stream",
     "text": [
      "size(L₀) = (50, 50)\n",
      "rank(L₀) = 7\n"
     ]
    }
   ],
   "source": [
    "L₀ = generateLowRankComponent_Candes(n, r, dType)\n",
    "@show size(L₀)\n",
    "@show rank(L₀);"
   ]
  },
  {
   "cell_type": "markdown",
   "metadata": {},
   "source": [
    "#### Sampling Mask ($\\Phi$)\n",
    "\n",
    "Using the earlier generated sampling mask"
   ]
  },
  {
   "cell_type": "markdown",
   "metadata": {},
   "source": [
    "#### Subsampling The Ground Truth Matrix"
   ]
  },
  {
   "cell_type": "code",
   "execution_count": 14,
   "metadata": {},
   "outputs": [
    {
     "name": "stdout",
     "output_type": "stream",
     "text": [
      "rank(y) = 50\n"
     ]
    }
   ],
   "source": [
    "y = Φ * L₀\n",
    "@show rank(y);"
   ]
  },
  {
   "cell_type": "markdown",
   "metadata": {},
   "source": [
    "### Running The Reconstruction"
   ]
  },
  {
   "cell_type": "code",
   "execution_count": 15,
   "metadata": {},
   "outputs": [
    {
     "name": "stdout",
     "output_type": "stream",
     "text": [
      "k = 0,\trank(Xᵏ) = 44,\t‖Xᴳᵀ - Xᵏ‖₂ =   0.044, σ₁ =   0.020, ϵᵏ =   0.011\n",
      "k = 1,\trank(Xᵏ) = 43,\t‖Xᴳᵀ - Xᵏ‖₂ =   0.039, σ₁ =   0.028, ϵᵏ =   0.009\n",
      "k = 2,\trank(Xᵏ) = 42,\t‖Xᴳᵀ - Xᵏ‖₂ =   0.034, σ₁ =   0.039, ϵᵏ =   0.007\n",
      "k = 3,\trank(Xᵏ) = 40,\t‖Xᴳᵀ - Xᵏ‖₂ =   0.031, σ₁ =   0.047, ϵᵏ =   0.005\n",
      "k = 4,\trank(Xᵏ) = 36,\t‖Xᴳᵀ - Xᵏ‖₂ =   0.030, σ₁ =   0.050, ϵᵏ =   0.004\n",
      "k = 5,\trank(Xᵏ) = 31,\t‖Xᴳᵀ - Xᵏ‖₂ =   0.030, σ₁ =   0.052, ϵᵏ =   0.003\n",
      "k = 6,\trank(Xᵏ) = 27,\t‖Xᴳᵀ - Xᵏ‖₂ =   0.030, σ₁ =   0.053, ϵᵏ =   0.002\n",
      "k = 7,\trank(Xᵏ) = 21,\t‖Xᴳᵀ - Xᵏ‖₂ =   0.030, σ₁ =   0.054, ϵᵏ =   0.002\n",
      "k = 8,\trank(Xᵏ) = 17,\t‖Xᴳᵀ - Xᵏ‖₂ =   0.030, σ₁ =   0.054, ϵᵏ =   0.002\n",
      "k = 9,\trank(Xᵏ) = 14,\t‖Xᴳᵀ - Xᵏ‖₂ =   0.030, σ₁ =   0.055, ϵᵏ =   0.002\n",
      "k = 10,\trank(Xᵏ) = 12,\t‖Xᴳᵀ - Xᵏ‖₂ =   0.030, σ₁ =   0.055, ϵᵏ =   0.001\n",
      "k = 11,\trank(Xᵏ) = 11,\t‖Xᴳᵀ - Xᵏ‖₂ =   0.030, σ₁ =   0.055, ϵᵏ =   0.001\n",
      "k = 12,\trank(Xᵏ) = 10,\t‖Xᴳᵀ - Xᵏ‖₂ =   0.030, σ₁ =   0.056, ϵᵏ =   0.001\n",
      "k = 13,\trank(Xᵏ) = 9,\t‖Xᴳᵀ - Xᵏ‖₂ =   0.030, σ₁ =   0.056, ϵᵏ =   0.001\n",
      "k = 14,\trank(Xᵏ) = 8,\t‖Xᴳᵀ - Xᵏ‖₂ =   0.030, σ₁ =   0.056, ϵᵏ =   0.001\n",
      "k = 15,\trank(Xᵏ) = 8,\t‖Xᴳᵀ - Xᵏ‖₂ =   0.030, σ₁ =   0.056, ϵᵏ =   0.001\n",
      "k = 16,\trank(Xᵏ) = 7,\t‖Xᴳᵀ - Xᵏ‖₂ =   0.030, σ₁ =   0.056, ϵᵏ =   0.001\n",
      "k = 17,\trank(Xᵏ) = 7,\t‖Xᴳᵀ - Xᵏ‖₂ =   0.031, σ₁ =   0.057, ϵᵏ =   0.001\n",
      "k = 18,\trank(Xᵏ) = 7,\t‖Xᴳᵀ - Xᵏ‖₂ =   0.031, σ₁ =   0.057, ϵᵏ =   0.001\n",
      "k = 19,\trank(Xᵏ) = 7,\t‖Xᴳᵀ - Xᵏ‖₂ =   0.031, σ₁ =   0.057, ϵᵏ =   0.001\n",
      "k = 20,\trank(Xᵏ) = 7,\t‖Xᴳᵀ - Xᵏ‖₂ =   0.031, σ₁ =   0.057, ϵᵏ =   0.001\n",
      "k = 21,\trank(Xᵏ) = 7,\t‖Xᴳᵀ - Xᵏ‖₂ =   0.031, σ₁ =   0.058, ϵᵏ =   0.001\n",
      "k = 22,\trank(Xᵏ) = 7,\t‖Xᴳᵀ - Xᵏ‖₂ =   0.032, σ₁ =   0.058, ϵᵏ =   0.001\n",
      "k = 23,\trank(Xᵏ) = 7,\t‖Xᴳᵀ - Xᵏ‖₂ =   0.032, σ₁ =   0.058, ϵᵏ =   0.001\n",
      "k = 24,\trank(Xᵏ) = 7,\t‖Xᴳᵀ - Xᵏ‖₂ =   0.032, σ₁ =   0.058, ϵᵏ =   0.001\n",
      "k = 25,\trank(Xᵏ) = 7,\t‖Xᴳᵀ - Xᵏ‖₂ =   0.032, σ₁ =   0.059, ϵᵏ =   0.001\n",
      "k = 26,\trank(Xᵏ) = 7,\t‖Xᴳᵀ - Xᵏ‖₂ =   0.033, σ₁ =   0.059, ϵᵏ =   0.001\n",
      "k = 27,\trank(Xᵏ) = 7,\t‖Xᴳᵀ - Xᵏ‖₂ =   0.033, σ₁ =   0.059, ϵᵏ =   0.001\n",
      "k = 28,\trank(Xᵏ) = 7,\t‖Xᴳᵀ - Xᵏ‖₂ =   0.033, σ₁ =   0.059, ϵᵏ =   0.001\n",
      "k = 29,\trank(Xᵏ) = 7,\t‖Xᴳᵀ - Xᵏ‖₂ =   0.033, σ₁ =   0.059, ϵᵏ =   0.001\n",
      "k = 30,\trank(Xᵏ) = 7,\t‖Xᴳᵀ - Xᵏ‖₂ =   0.033, σ₁ =   0.059, ϵᵏ =   0.001\n",
      "k = 31,\trank(Xᵏ) = 7,\t‖Xᴳᵀ - Xᵏ‖₂ =   0.034, σ₁ =   0.059, ϵᵏ =   0.001\n",
      "k = 32,\trank(Xᵏ) = 7,\t‖Xᴳᵀ - Xᵏ‖₂ =   0.034, σ₁ =   0.060, ϵᵏ =   0.001\n",
      "k = 33,\trank(Xᵏ) = 7,\t‖Xᴳᵀ - Xᵏ‖₂ =   0.034, σ₁ =   0.060, ϵᵏ =   0.001\n",
      "k = 34,\trank(Xᵏ) = 7,\t‖Xᴳᵀ - Xᵏ‖₂ =   0.034, σ₁ =   0.060, ϵᵏ =   0.001\n",
      "k = 35,\trank(Xᵏ) = 7,\t‖Xᴳᵀ - Xᵏ‖₂ =   0.034, σ₁ =   0.060, ϵᵏ =   0.001\n",
      "k = 36,\trank(Xᵏ) = 7,\t‖Xᴳᵀ - Xᵏ‖₂ =   0.034, σ₁ =   0.060, ϵᵏ =   0.001\n",
      "k = 37,\trank(Xᵏ) = 7,\t‖Xᴳᵀ - Xᵏ‖₂ =   0.035, σ₁ =   0.060, ϵᵏ =   0.001\n",
      "k = 38,\trank(Xᵏ) = 7,\t‖Xᴳᵀ - Xᵏ‖₂ =   0.035, σ₁ =   0.060, ϵᵏ =   0.001\n",
      "k = 39,\trank(Xᵏ) = 7,\t‖Xᴳᵀ - Xᵏ‖₂ =   0.035, σ₁ =   0.060, ϵᵏ =   0.001\n",
      "k = 40,\trank(Xᵏ) = 7,\t‖Xᴳᵀ - Xᵏ‖₂ =   0.035, σ₁ =   0.060, ϵᵏ =   0.001\n",
      "k = 41,\trank(Xᵏ) = 7,\t‖Xᴳᵀ - Xᵏ‖₂ =   0.035, σ₁ =   0.060, ϵᵏ =   0.001\n",
      "k = 42,\trank(Xᵏ) = 7,\t‖Xᴳᵀ - Xᵏ‖₂ =   0.035, σ₁ =   0.060, ϵᵏ =   0.001\n",
      "k = 43,\trank(Xᵏ) = 7,\t‖Xᴳᵀ - Xᵏ‖₂ =   0.035, σ₁ =   0.060, ϵᵏ =   0.001\n",
      "k = 44,\trank(Xᵏ) = 7,\t‖Xᴳᵀ - Xᵏ‖₂ =   0.035, σ₁ =   0.060, ϵᵏ =   0.001\n",
      "k = 45,\trank(Xᵏ) = 7,\t‖Xᴳᵀ - Xᵏ‖₂ =   0.035, σ₁ =   0.061, ϵᵏ =   0.001\n",
      "k = 46,\trank(Xᵏ) = 7,\t‖Xᴳᵀ - Xᵏ‖₂ =   0.035, σ₁ =   0.061, ϵᵏ =   0.001\n",
      "k = 47,\trank(Xᵏ) = 7,\t‖Xᴳᵀ - Xᵏ‖₂ =   0.036, σ₁ =   0.061, ϵᵏ =   0.001\n",
      "k = 48,\trank(Xᵏ) = 7,\t‖Xᴳᵀ - Xᵏ‖₂ =   0.036, σ₁ =   0.061, ϵᵏ =   0.001\n",
      "k = 49,\trank(Xᵏ) = 7,\t‖Xᴳᵀ - Xᵏ‖₂ =   0.036, σ₁ =   0.061, ϵᵏ =   0.001\n",
      "k = 50,\trank(Xᵏ) = 7,\t‖Xᴳᵀ - Xᵏ‖₂ =   0.036, σ₁ =   0.061, ϵᵏ =   0.001\n",
      "k = 51,\trank(Xᵏ) = 7,\t‖Xᴳᵀ - Xᵏ‖₂ =   0.036, σ₁ =   0.061, ϵᵏ =   0.001\n",
      "k = 52,\trank(Xᵏ) = 7,\t‖Xᴳᵀ - Xᵏ‖₂ =   0.036, σ₁ =   0.061, ϵᵏ =   0.001\n",
      "k = 53,\trank(Xᵏ) = 7,\t‖Xᴳᵀ - Xᵏ‖₂ =   0.036, σ₁ =   0.061, ϵᵏ =   0.001\n",
      "k = 54,\trank(Xᵏ) = 7,\t‖Xᴳᵀ - Xᵏ‖₂ =   0.036, σ₁ =   0.061, ϵᵏ =   0.001\n",
      "k = 55,\trank(Xᵏ) = 7,\t‖Xᴳᵀ - Xᵏ‖₂ =   0.036, σ₁ =   0.061, ϵᵏ =   0.001\n",
      "k = 56,\trank(Xᵏ) = 7,\t‖Xᴳᵀ - Xᵏ‖₂ =   0.036, σ₁ =   0.061, ϵᵏ =   0.001\n",
      "k = 57,\trank(Xᵏ) = 7,\t‖Xᴳᵀ - Xᵏ‖₂ =   0.036, σ₁ =   0.061, ϵᵏ =   0.001\n",
      "k = 58,\trank(Xᵏ) = 7,\t‖Xᴳᵀ - Xᵏ‖₂ =   0.036, σ₁ =   0.061, ϵᵏ =   0.000\n",
      "k = 59,\trank(Xᵏ) = 7,\t‖Xᴳᵀ - Xᵏ‖₂ =   0.036, σ₁ =   0.062, ϵᵏ =   0.000\n",
      "k = 60,\trank(Xᵏ) = 7,\t‖Xᴳᵀ - Xᵏ‖₂ =   0.037, σ₁ =   0.062, ϵᵏ =   0.000\n",
      "k = 61,\trank(Xᵏ) = 7,\t‖Xᴳᵀ - Xᵏ‖₂ =   0.037, σ₁ =   0.062, ϵᵏ =   0.000\n",
      "k = 62,\trank(Xᵏ) = 7,\t‖Xᴳᵀ - Xᵏ‖₂ =   0.037, σ₁ =   0.062, ϵᵏ =   0.000\n",
      "k = 63,\trank(Xᵏ) = 7,\t‖Xᴳᵀ - Xᵏ‖₂ =   0.037, σ₁ =   0.062, ϵᵏ =   0.000\n",
      "k = 64,\trank(Xᵏ) = 7,\t‖Xᴳᵀ - Xᵏ‖₂ =   0.037, σ₁ =   0.062, ϵᵏ =   0.000\n",
      "k = 65,\trank(Xᵏ) = 7,\t‖Xᴳᵀ - Xᵏ‖₂ =   0.037, σ₁ =   0.062, ϵᵏ =   0.000\n",
      "k = 66,\trank(Xᵏ) = 7,\t‖Xᴳᵀ - Xᵏ‖₂ =   0.037, σ₁ =   0.062, ϵᵏ =   0.000\n",
      "k = 67,\trank(Xᵏ) = 7,\t‖Xᴳᵀ - Xᵏ‖₂ =   0.037, σ₁ =   0.062, ϵᵏ =   0.000\n",
      "k = 68,\trank(Xᵏ) = 7,\t‖Xᴳᵀ - Xᵏ‖₂ =   0.037, σ₁ =   0.062, ϵᵏ =   0.000\n",
      "k = 69,\trank(Xᵏ) = 7,\t‖Xᴳᵀ - Xᵏ‖₂ =   0.037, σ₁ =   0.062, ϵᵏ =   0.000\n",
      "k = 70,\trank(Xᵏ) = 7,\t‖Xᴳᵀ - Xᵏ‖₂ =   0.037, σ₁ =   0.063, ϵᵏ =   0.000\n",
      "k = 71,\trank(Xᵏ) = 7,\t‖Xᴳᵀ - Xᵏ‖₂ =   0.037, σ₁ =   0.063, ϵᵏ =   0.000\n",
      "k = 72,\trank(Xᵏ) = 7,\t‖Xᴳᵀ - Xᵏ‖₂ =   0.037, σ₁ =   0.063, ϵᵏ =   0.000\n",
      "k = 73,\trank(Xᵏ) = 7,\t‖Xᴳᵀ - Xᵏ‖₂ =   0.037, σ₁ =   0.063, ϵᵏ =   0.000\n",
      "k = 74,\trank(Xᵏ) = 7,\t‖Xᴳᵀ - Xᵏ‖₂ =   0.037, σ₁ =   0.063, ϵᵏ =   0.000\n",
      "k = 75,\trank(Xᵏ) = 7,\t‖Xᴳᵀ - Xᵏ‖₂ =   0.037, σ₁ =   0.063, ϵᵏ =   0.000\n",
      "k = 76,\trank(Xᵏ) = 7,\t‖Xᴳᵀ - Xᵏ‖₂ =   0.037, σ₁ =   0.063, ϵᵏ =   0.000\n",
      "k = 77,\trank(Xᵏ) = 7,\t‖Xᴳᵀ - Xᵏ‖₂ =   0.038, σ₁ =   0.063, ϵᵏ =   0.000\n",
      "k = 78,\trank(Xᵏ) = 7,\t‖Xᴳᵀ - Xᵏ‖₂ =   0.038, σ₁ =   0.063, ϵᵏ =   0.000\n",
      "k = 79,\trank(Xᵏ) = 7,\t‖Xᴳᵀ - Xᵏ‖₂ =   0.038, σ₁ =   0.063, ϵᵏ =   0.000\n",
      "k = 80,\trank(Xᵏ) = 7,\t‖Xᴳᵀ - Xᵏ‖₂ =   0.038, σ₁ =   0.063, ϵᵏ =   0.000\n",
      " 15.281016 seconds (2.89 M allocations: 2.474 GiB, 3.87% gc time)\n"
     ]
    }
   ],
   "source": [
    "@time fancy_MatrixIRLS_for_PCA(L₀, y, Φ, N = 80, verbose = true);"
   ]
  },
  {
   "cell_type": "code",
   "execution_count": null,
   "metadata": {},
   "outputs": [],
   "source": []
  }
 ],
 "metadata": {
  "kernelspec": {
   "display_name": "Julia 1.5.2",
   "language": "julia",
   "name": "julia-1.5"
  },
  "language_info": {
   "file_extension": ".jl",
   "mimetype": "application/julia",
   "name": "julia",
   "version": "1.5.2"
  }
 },
 "nbformat": 4,
 "nbformat_minor": 4
}
