{
 "cells": [
  {
   "cell_type": "code",
   "execution_count": 1,
   "metadata": {},
   "outputs": [],
   "source": [
    "using LinearAlgebra, NBInclude, IterativeSolvers, BlockArrays"
   ]
  },
  {
   "cell_type": "code",
   "execution_count": 2,
   "metadata": {},
   "outputs": [],
   "source": [
    "@nbinclude(\"helper_functions.ipynb\")"
   ]
  },
  {
   "cell_type": "code",
   "execution_count": 3,
   "metadata": {},
   "outputs": [],
   "source": [
    "Random.seed!(0);"
   ]
  },
  {
   "cell_type": "markdown",
   "metadata": {},
   "source": [
    "## Vanilla MatrixIRLS for matrix completion (PCA)\n",
    "\n",
    "_**Note:** Vanilla = The weighted least squares step is calculated directly._\n",
    "\n",
    "### Sources\n",
    " - Preprint paper by Christian Kümmerle & Claudio Verdun: https://arxiv.org/pdf/0912.3599.pdf\n",
    " - GitHub repo of the preprint paper: https://github.com/ckuemmerle/MatrixIRLS"
   ]
  },
  {
   "cell_type": "markdown",
   "metadata": {},
   "source": [
    "### Algorithm\n",
    " - **Input:** Sampling operator $\\Phi$, observations $\\mathbf{y} \\in \\mathbb{C}^m$, rank estimate $\\tilde{r}$, iteration number $N$.\n",
    " - Initialize $k=0, \\epsilon_0 = \\infty, W^{(0)} = Id.$\n",
    " - **for $k=1$ to $N$ do**\n",
    "    1. **Solve weighted least squares:** Use a *conjugate gradient method* to solve $$\\mathbf{X}^{(k)} = argmin \\langle \\mathbf{X}, W^{(k-1)}(\\mathbf{X}) \\rangle \\text{ subject to } \\Phi(\\mathbf{X}) = \\mathbf{y}.$$\n",
    "    2. **Update smoothing:** Compute $\\tilde{r}+1$-th singular value of $\\mathbf{X}^{(k)}$ to update $$\\epsilon_k = min\\left(\\epsilon_{k-1}, \\sigma_{\\tilde{r}+1}(\\mathbf{X}^{(k)})\\right).$$\n",
    "    3. **Update weight operator:** For $r_k := \\left\\vert\\{i \\in [d] : \\sigma_i(\\mathbf{X}^{(k)}) > \\epsilon_k\\}\\right\\vert$, compute the first $r_k$ singular values $\\sigma_i^{(k)} := \\sigma_i^{(k)}(\\mathbf{X}^{(k)})$ and matrices $\\mathbf{U}^{(k)} \\in \\mathbb{R}^{d_1 \\times r_k}$ and $\\mathbf{V}^{(k)} \\in \\mathbb{R}^{d_2 \\times r_k}$ with leading $r_k$ left/right singular vectors of $\\mathbf{X}^{(k)}$ to update $W^{(k)}$: $$W^{(k)}(\\mathbf{Z}) = \\mathbf{U}^{(k)} \\left[ \\mathbf{H}_k \\circ (\\mathbf{U}^{(k)*} \\mathbf{Z} \\mathbf{V}^{(k)})\\right]\\mathbf{V}^{(k)*},$$ where $\\circ$ denotes the entrywise product of two matrices, and $\\mathbf{H}_k \\in \\mathbb{R}^{d_1 \\times d_2}$ matrix defined as $$(\\mathbf{H}_k)_{ij} := \\left(\\max(\\sigma_i^{(k)}, \\epsilon^{(k)}\\max(\\sigma_j^{(k)}, \\epsilon^{(k)}\\right)^{-1} : \\forall i \\in [d_1] \\text{ and } \\forall j \\in [d_2].$$\n",
    " - **end**\n",
    " - **Output**: $\\mathbf{X}^{(k)}$"
   ]
  },
  {
   "cell_type": "markdown",
   "metadata": {},
   "source": [
    "### Transformation of operator W\n",
    "\n",
    "Get matrix $\\mathbf{\\tilde{W}} \\in \\mathbb{C}^{d_1 d_2 \\times d_1 d_2}$ such that $\\left[\\mathbf{W}^{(k)}(\\mathbf{Z})\\right]_{vec} = \\mathbf{\\tilde{W}}^{(k)} \\mathbf{Z}_{vec}$, where $(\\cdot)_{vec}$ is the vectorization operator. To do so, we need the \"vec-trick\": $$(\\mathbf{AXB})_{vec} = (\\mathbf{B}^T \\otimes \\mathbf{A}) \\cdot (\\mathbf{X})_{vec}$$\n",
    "\n",
    "Applying it to our problem:\n",
    "$$\n",
    "\\begin{align}\n",
    "    \\left[\\mathbf{W}^{(k)}(\\mathbf{Z})\\right]_{vec} &= \\left[\\mathbf{U}^{(k)} \\left[ \\mathbf{H}_k \\circ (\\mathbf{U}^{(k)*} \\mathbf{Z} \\mathbf{V}^{(k)})\\right]\\mathbf{V}^{(k)*}\\right]_{vec} \\\\\n",
    "    &= (\\mathbf{\\bar{V}}^{(k)} \\otimes \\mathbf{U}^{(k)}) \\left[ \\mathbf{H}_k \\circ (\\mathbf{U}^{(k)*} \\mathbf{Z} \\mathbf{V}^{(k)})\\right]_{vec} \\\\\n",
    "    &= (\\mathbf{\\bar{V}}^{(k)} \\otimes \\mathbf{U}^{(k)}) diag\\left((\\mathbf{H}_k)_{vec}\\right) (\\mathbf{U}^{(k)*} \\mathbf{Z} \\mathbf{V}^{(k)})_{vec} \\\\\n",
    "    &= (\\mathbf{\\bar{V}}^{(k)} \\otimes \\mathbf{U}^{(k)}) diag\\left((\\mathbf{H}_k)_{vec}\\right) (\\mathbf{V}^{(k)T} \\otimes \\mathbf{U}^{(k)*}) \\mathbf{Z}_{vec} \\\\\n",
    "    \\mathbf{\\tilde{W}} &= (\\mathbf{\\bar{V}}^{(k)} \\otimes \\mathbf{U}^{(k)}) diag\\left((\\mathbf{H}_k)_{vec}\\right) (\\mathbf{V}^{(k)T} \\otimes \\mathbf{U}^{(k)*})\n",
    "\\end{align}\n",
    "$$\n",
    "\n",
    "_**Notation:** $\\otimes$ denotes Kronecker product, $diag$ operator creates a diagonal matrix form a vector, $(\\mathbf{X})_{vec}$ is the vectorization operator formed by stacking the columns of $\\mathbf{X}$ into a single column vector formed by stacking the columns of $\\mathbf{X}$ into a single column vector, and $\\mathbf{\\bar{V}}$ is the conjugate of matrix $\\mathbf{V}$._"
   ]
  },
  {
   "cell_type": "markdown",
   "metadata": {},
   "source": [
    "### Solution for weighted least squares\n",
    "\n",
    "Source of description below: [Linearly Constrained Least Squares (LLS)](https://lls.readthedocs.io/en/latest/math.html)\n",
    "\n",
    "**Linearly constrained least squares** (or LCLS) problems have the general form:\n",
    "$minimize \\Vert \\mathbf{Ax} - \\mathbf{b} \\Vert_2^2 \\text{ subject to } \\mathbf{Cx} = \\mathbf{d},$\n",
    "where the unknown variable $\\mathbf{x}$ is a vector of size $n$. The values for $\\mathbf{A}$, $\\mathbf{b}$, $\\mathbf{C}$, and $\\mathbf{d}$ are given and have sizes $m\\times n$, $m$, $p\\times n$, and $p$, respectively. There is a unique solution to the LCLS problem if and only if there is a unique solution to the following system of linear equations in the variable $\\mathbf{x}$ and a new variable $\\mathbf{z}$:\n",
    "$$\\begin{bmatrix} 2\\mathbf{A}^T\\mathbf{A} & \\mathbf{C}^* \\\\ \\mathbf{C} & \\mathbf{0} \\end{bmatrix}\n",
    "  \\begin{bmatrix} \\mathbf{x} \\\\ \\mathbf{z} \\end{bmatrix} =\n",
    "  \\begin{bmatrix} 2\\mathbf{A}^*\\mathbf{b} \\\\ \\mathbf{d} \\end{bmatrix};$$\n",
    "i.e., the matrix on the left is invertible. This occurs when the matrix $\\mathbf{C}$ has independent rows, and the matrix $\\begin{bmatrix} \\mathbf{A}\\\\ \\mathbf{C}\\end{bmatrix}$ has indepedent columns.\n",
    "\n",
    "In our case, $\\mathbf{A} = \\mathbf{\\tilde{W}}^{1/2}$, $\\mathbf{b} = \\mathbf{0}$, $\\mathbf{C} = \\Phi$, and $\\mathbf{d} = \\mathbf{y}$; therefore, $$min_{x} \\Vert \\mathbf{\\tilde{W}}^{1/2} \\mathbf{x} - \\mathbf{b} \\Vert_2 \\text{ s.t. } \\Phi \\mathbf{x} = \\mathbf{y}$$ can be solved as $$\\begin{bmatrix} 2 \\mathbf{\\tilde{W}} & \\Phi^*\\\\ \\Phi & \\mathbf{0} \\end{bmatrix} \\begin{bmatrix} \\mathbf{x} \\\\ \\mathbf{z} \\end{bmatrix} = \\begin{bmatrix} \\mathbf{0} \\\\ \\mathbf{y} \\end{bmatrix}.$$ "
   ]
  },
  {
   "cell_type": "markdown",
   "metadata": {},
   "source": [
    "### Technical details"
   ]
  },
  {
   "cell_type": "code",
   "execution_count": 34,
   "metadata": {},
   "outputs": [
    {
     "data": {
      "text/plain": [
       "vanilla_MatrixIRLS_for_PCA (generic function with 1 method)"
      ]
     },
     "execution_count": 34,
     "metadata": {},
     "output_type": "execute_result"
    }
   ],
   "source": [
    "function vanilla_MatrixIRLS_for_PCA(\n",
    "        Xᴳᵀ::AbstractArray,                     # ground truth for MSE evaluation\n",
    "        y::AbstractArray,                       # under-sampled data\n",
    "        Φ::AbstractArray;                       # sampling matrix\n",
    "        img_size::NTuple = size(Xᴳᵀ),           # size of output matrix\n",
    "        r̃::Int = 0,                             # rank estimate of solution\n",
    "        maxIter::Union{Int, Nothing} = nothing, # number of CG iteration steps\n",
    "        N::Int = 1000,                          # number of iterations\n",
    "        verbose::Bool = false)                  # print rank and loss value in each iteration\n",
    "    \n",
    "    # Initialize variables\n",
    "    dType = eltype(y)\n",
    "    d₁, d₂ = img_size\n",
    "    r̃ == 0 && (r̃ = rank(Xᴳᵀ))\n",
    "    maxIter = maxIter isa Nothing ? r̃*(r̃+d₁+d₂) : maxIter\n",
    "    ϵₖ = Inf\n",
    "    Xᵏ = reshape(Φ' * y, d₁, d₂) # Initial guess: fill missing values with zeros\n",
    "    σ, k = 0, 0                  # I just want them to be available outside of the loop\n",
    "    \n",
    "    verbose && (table = DebugTableModule.DebugTable(\n",
    "        (\"k\", () -> k, 3), (\"rank(Xᵏ)\", () -> rank(Xᵏ, atol=1e-3), 3),\n",
    "        (\"‖Xᴳᵀ - Xᵏ‖₂\", () -> opnorm(Xᴳᵀ - Xᵏ, 2), 3), (\"σ₁\", () -> σ[1]),\n",
    "        (\"σᵣ₊₁\", () -> σ[r̃+1]), (\"ϵₖ\", () -> ϵₖ)))\n",
    "    \n",
    "    while k <= N && ϵₖ > 1e-3\n",
    "        \n",
    "        # Find leading rₖ left/right singular vectors of Xᵏ and calculate all singular values\n",
    "        F = svd(Xᵏ)\n",
    "        Uᵏ, σ, Vᵏ = F.U, F.S, F.V\n",
    "        \n",
    "        # Print some info\n",
    "        verbose && printRow(table)\n",
    "        \n",
    "        # Step 2.\n",
    "        ϵₖ = min(ϵₖ, σ[r̃+1])\n",
    "        \n",
    "        # Step 3.\n",
    "        Hᵏ = [1 / (max(σ[i], ϵₖ) * max(σ[j], ϵₖ))  for i in 1:d₁, j in 1:d₂]\n",
    "        W̃ᵏ = kron(conj(Vᵏ), Uᵏ) * Diagonal(vec(Hᵏ)) * kron(transpose(Vᵏ), Uᵏ')\n",
    "        \n",
    "        # Step 1.\n",
    "        A = PseudoBlockArray{dType}(undef, [size(W̃ᵏ,1), size(Φ, 1)], [size(W̃ᵏ,1), size(Φ, 1)])\n",
    "            A[Block(1,1)] = 2W̃ᵏ\n",
    "            A[Block(2,1)] = Φ\n",
    "            A[Block(1,2)] = Φ'\n",
    "            A[Block(2,2)] .= 0\n",
    "        b = PseudoBlockArray{dType}(undef, [size(W̃ᵏ,1), size(Φ, 1)])\n",
    "            b[Block(1)] .= 0\n",
    "            b[Block(2)] = vec(y)\n",
    "        xz = PseudoBlockArray{dType}(undef, [size(W̃ᵏ,1), size(Φ, 1)])\n",
    "            xz[Block(1)] = vec(Xᵏ)\n",
    "            xz[Block(2)] .= 0\n",
    "        cg!(xz, A, b, maxiter = maxIter)\n",
    "        Xᵏ = reshape(xz[Block(1)], d₁, d₂)\n",
    "        \n",
    "        k += 1\n",
    "    end\n",
    "    \n",
    "    # Print some info\n",
    "    verbose && printRow(table, last = true)\n",
    "    \n",
    "    return Xᵏ\n",
    "end"
   ]
  },
  {
   "cell_type": "markdown",
   "metadata": {},
   "source": [
    "# Numerical Experiments\n",
    "\n",
    "### General parameters"
   ]
  },
  {
   "cell_type": "code",
   "execution_count": 5,
   "metadata": {},
   "outputs": [],
   "source": [
    "d₁, d₂ = 50, 50     # Matrix dimensions\n",
    "r = 7               # Desired rank\n",
    "dType = ComplexF64; # Type of matrix elements"
   ]
  },
  {
   "cell_type": "markdown",
   "metadata": {},
   "source": [
    "### Generate Model"
   ]
  },
  {
   "cell_type": "markdown",
   "metadata": {},
   "source": [
    "#### Sampling Mask ($\\Phi$)\n",
    "\n",
    "_**Requirement towards the sampling mask:** It must have at least $r$ non-zero entries in each row and each column._"
   ]
  },
  {
   "cell_type": "code",
   "execution_count": 6,
   "metadata": {},
   "outputs": [
    {
     "name": "stdout",
     "output_type": "stream",
     "text": [
      "r = 7\n",
      "minimum number of non-zero entries in each column: 9\n",
      "minimum number of non-zero entries in each column: 9\n"
     ]
    }
   ],
   "source": [
    "df = r * (d₁ + d₂ - r) # Number of degrees of freedom of the setting\n",
    "m = floor(Int, min(1.05 * df, d₁ * d₂))\n",
    "Φᴹ = generateΦ(d₁, d₂, r, m)\n",
    "Φ = HadamardProd_to_MatrixMult(Φᴹ)\n",
    "@show r\n",
    "println(\"minimum number of non-zero entries in each column: \", Int(minimum(sum(Φᴹ, dims=1))))\n",
    "println(\"minimum number of non-zero entries in each column: \", Int(minimum(sum(Φᴹ, dims=2))))"
   ]
  },
  {
   "cell_type": "markdown",
   "metadata": {},
   "source": [
    "### Generate Data"
   ]
  },
  {
   "cell_type": "markdown",
   "metadata": {},
   "source": [
    "Create a random rank-$r$ matrix $L_0 \\in \\mathbb{C}^{d_1 \\times d_2}$ such that $L_0 = U_0 V_0^*$, where $U_0 \\in \\mathbb{C}^{d_1 \\times r}$ and $V_0 \\in \\mathbb{C}^{d_2 \\times r}$, and then sub-sample this low-rank matrix."
   ]
  },
  {
   "cell_type": "code",
   "execution_count": 7,
   "metadata": {},
   "outputs": [
    {
     "name": "stdout",
     "output_type": "stream",
     "text": [
      "size(L₀) = (50, 50)\n",
      "rank(L₀) = 7\n",
      "size(y) = (683,)\n"
     ]
    }
   ],
   "source": [
    "L₀ = generateLowRankComponent_Christian(d₁, d₂, r, dType)\n",
    "@show size(L₀)\n",
    "@show rank(L₀)\n",
    "\n",
    "y = Φ * vec(L₀)\n",
    "@show size(y);"
   ]
  },
  {
   "cell_type": "markdown",
   "metadata": {},
   "source": [
    "### Running The Reconstruction"
   ]
  },
  {
   "cell_type": "code",
   "execution_count": 35,
   "metadata": {},
   "outputs": [
    {
     "name": "stdout",
     "output_type": "stream",
     "text": [
      "┌─────┬──────────┬─────────────┬──────────┬──────────┬──────────┐\n",
      "│  k  │ rank(Xᵏ) │ ‖Xᴳᵀ - Xᵏ‖₂ │    σ₁    │   σᵣ₊₁   │    ϵₖ    │\n",
      "├─────┼──────────┼─────────────┼──────────┼──────────┼──────────┤\n",
      "│   0 │       50 │      51.429 │   23.947 │   13.997 │      Inf │\n",
      "│   1 │       50 │      45.493 │   34.012 │   10.687 │   13.997 │\n",
      "│   2 │       50 │      39.913 │   46.980 │    8.003 │   10.687 │\n",
      "│   3 │       50 │      35.877 │   56.017 │    5.916 │    8.003 │\n",
      "│   4 │       50 │      32.801 │   60.756 │    4.561 │    5.916 │\n",
      "│   5 │       50 │      30.720 │   63.535 │    3.884 │    4.561 │\n",
      "│   6 │       50 │      29.202 │   65.422 │    3.326 │    3.884 │\n",
      "│   7 │       50 │      27.600 │   66.714 │    2.663 │    3.326 │\n",
      "│   8 │       50 │      25.752 │   67.623 │    1.930 │    2.663 │\n",
      "│   9 │       50 │      23.815 │   68.335 │    1.461 │    1.930 │\n",
      "│  10 │       50 │      22.146 │   68.809 │    1.126 │    1.461 │\n",
      "│  11 │       50 │      21.085 │   69.085 │    0.892 │    1.126 │\n",
      "│  12 │       50 │      20.067 │   69.214 │    0.746 │    0.892 │\n",
      "│  13 │       50 │      19.053 │   69.238 │    0.631 │    0.746 │\n",
      "│  14 │       50 │      18.058 │   69.198 │    0.537 │    0.631 │\n",
      "│  15 │       49 │      17.080 │   69.122 │    0.458 │    0.537 │\n",
      "│  16 │       50 │      16.116 │   69.027 │    0.393 │    0.458 │\n",
      "│  17 │       50 │      15.165 │   68.917 │    0.338 │    0.393 │\n",
      "│  18 │       50 │      14.233 │   68.795 │    0.293 │    0.338 │\n",
      "│  19 │       50 │      13.328 │   68.661 │    0.254 │    0.293 │\n",
      "│  20 │       49 │      12.454 │   68.517 │    0.222 │    0.254 │\n",
      "│  21 │       50 │      11.616 │   68.370 │    0.196 │    0.222 │\n",
      "│  22 │       50 │      10.813 │   68.224 │    0.175 │    0.196 │\n",
      "│  23 │       50 │      10.041 │   68.088 │    0.157 │    0.175 │\n",
      "│  24 │       49 │       9.292 │   67.967 │    0.142 │    0.157 │\n",
      "│  25 │       50 │       8.562 │   67.867 │    0.128 │    0.142 │\n",
      "│  26 │       50 │       7.846 │   67.791 │    0.114 │    0.128 │\n",
      "│  27 │       49 │       7.143 │   67.739 │    0.102 │    0.114 │\n",
      "│  28 │       49 │       6.453 │   67.710 │    0.090 │    0.102 │\n",
      "│  29 │       49 │       5.777 │   67.703 │    0.078 │    0.090 │\n",
      "│  30 │       49 │       5.116 │   67.714 │    0.067 │    0.078 │\n",
      "│  31 │       48 │       4.471 │   67.740 │    0.056 │    0.067 │\n",
      "│  32 │       48 │       3.844 │   67.777 │    0.047 │    0.056 │\n",
      "│  33 │       47 │       3.235 │   67.822 │    0.037 │    0.047 │\n",
      "│  34 │       47 │       2.641 │   67.871 │    0.029 │    0.037 │\n",
      "│  35 │       46 │       2.063 │   67.923 │    0.022 │    0.029 │\n",
      "│  36 │       45 │       1.510 │   67.972 │    0.015 │    0.022 │\n",
      "│  37 │       42 │       1.001 │   68.018 │ 9.78e-03 │    0.015 │\n",
      "│  38 │       35 │       0.567 │   68.052 │ 5.43e-03 │ 9.78e-03 │\n",
      "│  39 │       20 │       0.250 │   68.082 │ 2.31e-03 │ 5.43e-03 │\n",
      "│  40 │        7 │       0.114 │   68.087 │ 6.08e-04 │ 2.31e-03 │\n",
      "│  41 │        7 │       0.090 │   68.087 │ 6.08e-04 │ 6.08e-04 │\n",
      "└─────┴──────────┴─────────────┴──────────┴──────────┴──────────┘\n",
      "441.873566 seconds (5.55 M allocations: 25.582 GiB, 0.18% gc time)\n"
     ]
    }
   ],
   "source": [
    "@time vanilla_MatrixIRLS_for_PCA(L₀, y, Φ, verbose = true);"
   ]
  },
  {
   "cell_type": "code",
   "execution_count": 38,
   "metadata": {},
   "outputs": [
    {
     "data": {
      "text/plain": [
       "7×7 Array{Complex{Float64},2}:\n",
       "  2.22045e-16-0.0im          …  -4.51028e-16+1.30104e-16im\n",
       "  2.17655e-16-2.29225e-16im     -1.38778e-17-1.9082e-16im\n",
       "  2.17425e-16+4.5242e-16im      -3.46945e-17+1.94289e-16im\n",
       " -4.03631e-18-1.80852e-16im        1.249e-16-1.38778e-17im\n",
       "  6.41848e-17+5.55112e-17im      5.55112e-17+1.73472e-18im\n",
       "  1.00614e-16+1.33574e-16im  …   2.35055e-16+1.52656e-16im\n",
       " -4.51028e-16-1.30104e-16im      4.44089e-16-0.0im"
      ]
     },
     "execution_count": 38,
     "metadata": {},
     "output_type": "execute_result"
    }
   ],
   "source": [
    "F = svd(Xᵏ)\n",
    "Uᵏ, σ, Vᵏ = F.U[1:r, :], F.S, F.V[:, 1:r]\n",
    "I - Uᵏ*Uᵏ'"
   ]
  },
  {
   "cell_type": "code",
   "execution_count": 37,
   "metadata": {},
   "outputs": [
    {
     "data": {
      "text/plain": [
       "50"
      ]
     },
     "execution_count": 37,
     "metadata": {},
     "output_type": "execute_result"
    }
   ],
   "source": [
    "rank(Xᵏ, atol = 1e-3)"
   ]
  },
  {
   "cell_type": "code",
   "execution_count": 39,
   "metadata": {},
   "outputs": [
    {
     "data": {
      "text/plain": [
       "50×50 Array{Complex{Float64},2}:\n",
       "    0.967078-0.0im         …    0.0117538+0.0119564im\n",
       " -0.00379408+0.0231714im      0.000680182-0.0146773im\n",
       "   0.0615862+0.0111868im        0.0606428-0.0203278im\n",
       "  0.00557669-0.00142833im      -0.0232873-0.0107233im\n",
       "  0.00797296-0.0169562im       -0.0193126-0.0227838im\n",
       "  0.00434892+0.0291389im   …    0.0177355+0.0734454im\n",
       " -0.00493565+0.00169272im         0.01768-0.00730127im\n",
       "  -0.0153717-0.0179205im       0.00548028+0.0371015im\n",
       "  -0.0216707+0.0230143im       -0.0258822+0.00638702im\n",
       "   0.0101892+0.00428649im      0.00311701+0.0158587im\n",
       "   0.0450396+0.00847354im  …   -0.0320322-0.00422681im\n",
       "  -0.0139845-0.0130443im       -0.0144006+0.0122325im\n",
       "  -0.0237575+0.011446im       -0.00777417-0.00300377im\n",
       "            ⋮              ⋱  \n",
       "  -0.0475235-0.00331277im       0.0224203+0.00893941im\n",
       "  -0.0422149-0.040164im        0.00981512+0.0288209im\n",
       "   0.0185604-0.0124237im   …   -0.0154805-0.0307538im\n",
       "  0.00201165+0.0113448im       0.00852849-0.0165531im\n",
       "   -0.017185+0.00290997im      0.00292253-0.0227458im\n",
       "  0.00884886-0.00999095im      -0.0143527-0.00342349im\n",
       "  0.00335333+0.0216759im        0.0223912-0.036072im\n",
       "  -0.0201996+0.00947405im  …     0.016678+0.0390892im\n",
       "   0.0189525+0.0204099im       -0.0277502+0.00386813im\n",
       "  -0.0190245+0.00474288im       -0.036962-0.0199072im\n",
       "   0.0137104-0.0053147im      -0.00613922-0.0125572im\n",
       "   0.0117538-0.0119564im         0.918533-0.0im"
      ]
     },
     "execution_count": 39,
     "metadata": {},
     "output_type": "execute_result"
    }
   ],
   "source": [
    "(I - Vᵏ*Vᵏ')"
   ]
  },
  {
   "cell_type": "code",
   "execution_count": null,
   "metadata": {},
   "outputs": [],
   "source": []
  }
 ],
 "metadata": {
  "kernelspec": {
   "display_name": "Julia 1.5.2",
   "language": "julia",
   "name": "julia-1.5"
  },
  "language_info": {
   "file_extension": ".jl",
   "mimetype": "application/julia",
   "name": "julia",
   "version": "1.5.2"
  }
 },
 "nbformat": 4,
 "nbformat_minor": 4
}
