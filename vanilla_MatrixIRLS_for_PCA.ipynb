{
 "cells": [
  {
   "cell_type": "code",
   "execution_count": 1,
   "metadata": {},
   "outputs": [],
   "source": [
    "using LinearAlgebra, NBInclude, IterativeSolvers, BlockArrays"
   ]
  },
  {
   "cell_type": "code",
   "execution_count": 2,
   "metadata": {},
   "outputs": [],
   "source": [
    "@nbinclude(\"helper_functions.ipynb\")"
   ]
  },
  {
   "cell_type": "code",
   "execution_count": 3,
   "metadata": {},
   "outputs": [],
   "source": [
    "Random.seed!(0);"
   ]
  },
  {
   "cell_type": "markdown",
   "metadata": {},
   "source": [
    "## Vanilla MatrixIRLS for matrix completion (PCA)\n",
    "\n",
    "_**Note:** Vanilla = The weighted least squares step is calculated directly._\n",
    "\n",
    "### Sources\n",
    " - Preprint paper by Christian Kümmerle & Claudio Verdun: https://arxiv.org/pdf/0912.3599.pdf\n",
    " - GitHub repo of the preprint paper: https://github.com/ckuemmerle/MatrixIRLS"
   ]
  },
  {
   "cell_type": "markdown",
   "metadata": {},
   "source": [
    "### Algorithm\n",
    " - **Input:** Sampling operator $\\Phi$, observations $\\mathbf{y} \\in \\mathbb{C}^m$, rank estimate $\\tilde{r}$, iteration number $N$.\n",
    " - Initialize $k=0, \\epsilon_0 = \\infty, W^{(0)} = Id.$\n",
    " - **for $k=1$ to $N$ do**\n",
    "    1. **Solve weighted least squares:** Use a *conjugate gradient method* to solve $$\\mathbf{X}^{(k)} = argmin \\langle \\mathbf{X}, W^{(k-1)}(\\mathbf{X}) \\rangle \\text{ subject to } \\Phi(\\mathbf{X}) = \\mathbf{y}.$$\n",
    "    2. **Update smoothing:** Compute $\\tilde{r}+1$-th singular value of $\\mathbf{X}^{(k)}$ to update $$\\epsilon_k = min\\left(\\epsilon_{k-1}, \\sigma_{\\tilde{r}+1}(\\mathbf{X}^{(k)})\\right).$$\n",
    "    3. **Update weight operator:** For $r_k := \\left\\vert\\{i \\in [d] : \\sigma_i(\\mathbf{X}^{(k)}) > \\epsilon_k\\}\\right\\vert$, compute the first $r_k$ singular values $\\sigma_i^{(k)} := \\sigma_i^{(k)}(\\mathbf{X}^{(k)})$ and matrices $\\mathbf{U}^{(k)} \\in \\mathbb{R}^{d_1 \\times r_k}$ and $\\mathbf{V}^{(k)} \\in \\mathbb{R}^{d_2 \\times r_k}$ with leading $r_k$ left/right singular vectors of $\\mathbf{X}^{(k)}$ to update $W^{(k)}$: $$W^{(k)}(\\mathbf{Z}) = \\mathbf{U}^{(k)} \\left[ \\mathbf{H}_k \\circ (\\mathbf{U}^{(k)*} \\mathbf{Z} \\mathbf{V}^{(k)})\\right]\\mathbf{V}^{(k)*},$$ where $\\circ$ denotes the entrywise product of two matrices, and $\\mathbf{H}_k \\in \\mathbb{R}^{d_1 \\times d_2}$ matrix defined as $$(\\mathbf{H}_k)_{ij} := \\left(\\max(\\sigma_i^{(k)}, \\epsilon^{(k)}\\max(\\sigma_j^{(k)}, \\epsilon^{(k)}\\right)^{-1} : \\forall i \\in [d_1] \\text{ and } \\forall j \\in [d_2].$$\n",
    " - **end**\n",
    " - **Output**: $\\mathbf{X}^{(k)}$"
   ]
  },
  {
   "cell_type": "markdown",
   "metadata": {},
   "source": [
    "### Transformation of operator W\n",
    "\n",
    "Get matrix $\\mathbf{\\tilde{W}} \\in \\mathbb{C}^{d_1 d_2 \\times d_1 d_2}$ such that $\\left[\\mathbf{W}^{(k)}(\\mathbf{Z})\\right]_{vec} = \\mathbf{\\tilde{W}}^{(k)} \\mathbf{Z}_{vec}$, where $(\\cdot)_{vec}$ is the vectorization operator. To do so, we need the \"vec-trick\": $$(\\mathbf{AXB})_{vec} = (\\mathbf{B}^T \\otimes \\mathbf{A}) \\cdot (\\mathbf{X})_{vec}$$\n",
    "\n",
    "Applying it to our problem:\n",
    "$$\n",
    "\\begin{align}\n",
    "    \\left[\\mathbf{W}^{(k)}(\\mathbf{Z})\\right]_{vec} &= \\left[\\mathbf{U}^{(k)} \\left[ \\mathbf{H}_k \\circ (\\mathbf{U}^{(k)*} \\mathbf{Z} \\mathbf{V}^{(k)})\\right]\\mathbf{V}^{(k)*}\\right]_{vec} \\\\\n",
    "    &= (\\mathbf{\\bar{V}}^{(k)} \\otimes \\mathbf{U}^{(k)}) \\left[ \\mathbf{H}_k \\circ (\\mathbf{U}^{(k)*} \\mathbf{Z} \\mathbf{V}^{(k)})\\right]_{vec} \\\\\n",
    "    &= (\\mathbf{\\bar{V}}^{(k)} \\otimes \\mathbf{U}^{(k)}) diag\\left((\\mathbf{H}_k)_{vec}\\right) (\\mathbf{U}^{(k)*} \\mathbf{Z} \\mathbf{V}^{(k)})_{vec} \\\\\n",
    "    &= (\\mathbf{\\bar{V}}^{(k)} \\otimes \\mathbf{U}^{(k)}) diag\\left((\\mathbf{H}_k)_{vec}\\right) (\\mathbf{V}^{(k)T} \\otimes \\mathbf{U}^{(k)*}) \\mathbf{Z}_{vec} \\\\\n",
    "    \\mathbf{\\tilde{W}} &= (\\mathbf{\\bar{V}}^{(k)} \\otimes \\mathbf{U}^{(k)}) diag\\left((\\mathbf{H}_k)_{vec}\\right) (\\mathbf{V}^{(k)T} \\otimes \\mathbf{U}^{(k)*})\n",
    "\\end{align}\n",
    "$$\n",
    "\n",
    "_**Notation:** $\\otimes$ denotes Kronecker product, $diag$ operator creates a diagonal matrix form a vector, $(\\mathbf{X})_{vec}$ is the vectorization operator formed by stacking the columns of $\\mathbf{X}$ into a single column vector formed by stacking the columns of $\\mathbf{X}$ into a single column vector, and $\\mathbf{\\bar{V}}$ is the conjugate of matrix $\\mathbf{V}$._"
   ]
  },
  {
   "cell_type": "markdown",
   "metadata": {},
   "source": [
    "### Solution for weighted least squares\n",
    "\n",
    "Source of description below: [Linearly Constrained Least Squares (LLS)](https://lls.readthedocs.io/en/latest/math.html)\n",
    "\n",
    "**Linearly constrained least squares** (or LCLS) problems have the general form:\n",
    "$minimize \\Vert \\mathbf{Ax} - \\mathbf{b} \\Vert_2^2 \\text{ subject to } \\mathbf{Cx} = \\mathbf{d},$\n",
    "where the unknown variable $\\mathbf{x}$ is a vector of size $n$. The values for $\\mathbf{A}$, $\\mathbf{b}$, $\\mathbf{C}$, and $\\mathbf{d}$ are given and have sizes $m\\times n$, $m$, $p\\times n$, and $p$, respectively. There is a unique solution to the LCLS problem if and only if there is a unique solution to the following system of linear equations in the variable $\\mathbf{x}$ and a new variable $\\mathbf{z}$:\n",
    "$$\\begin{bmatrix} 2\\mathbf{A}^T\\mathbf{A} & \\mathbf{C}^* \\\\ \\mathbf{C} & \\mathbf{0} \\end{bmatrix}\n",
    "  \\begin{bmatrix} \\mathbf{x} \\\\ \\mathbf{z} \\end{bmatrix} =\n",
    "  \\begin{bmatrix} 2\\mathbf{A}^*\\mathbf{b} \\\\ \\mathbf{d} \\end{bmatrix};$$\n",
    "i.e., the matrix on the left is invertible. This occurs when the matrix $\\mathbf{C}$ has independent rows, and the matrix $\\begin{bmatrix} \\mathbf{A}\\\\ \\mathbf{C}\\end{bmatrix}$ has indepedent columns.\n",
    "\n",
    "In our case, $\\mathbf{A} = \\mathbf{\\tilde{W}}^{1/2}$, $\\mathbf{b} = \\mathbf{0}$, $\\mathbf{C} = \\Phi$, and $\\mathbf{d} = \\mathbf{y}$; therefore, $$min_{x} \\Vert \\mathbf{\\tilde{W}}^{1/2} \\mathbf{x} - \\mathbf{b} \\Vert_2 \\text{ s.t. } \\Phi \\mathbf{x} = \\mathbf{y}$$ can be solved as $$\\begin{bmatrix} 2 \\mathbf{\\tilde{W}} & \\Phi^*\\\\ \\Phi & \\mathbf{0} \\end{bmatrix} \\begin{bmatrix} \\mathbf{x} \\\\ \\mathbf{z} \\end{bmatrix} = \\begin{bmatrix} \\mathbf{0} \\\\ \\mathbf{y} \\end{bmatrix}.$$ "
   ]
  },
  {
   "cell_type": "markdown",
   "metadata": {},
   "source": [
    "### Technical details"
   ]
  },
  {
   "cell_type": "code",
   "execution_count": 34,
   "metadata": {},
   "outputs": [
    {
     "data": {
      "text/plain": [
       "vanilla_MatrixIRLS_for_PCA (generic function with 1 method)"
      ]
     },
     "execution_count": 34,
     "metadata": {},
     "output_type": "execute_result"
    }
   ],
   "source": [
    "function vanilla_MatrixIRLS_for_PCA(\n",
    "        Xᴳᵀ::AbstractArray,                     # ground truth for MSE evaluation\n",
    "        y::AbstractArray,                       # under-sampled data\n",
    "        Φ::AbstractArray;                       # sampling matrix\n",
    "        img_size::NTuple = size(Xᴳᵀ),           # size of output matrix\n",
    "        r̃::Int = 0,                             # rank estimate of solution\n",
    "        maxIter::Union{Int, Nothing} = nothing, # number of CG iteration steps\n",
    "        N::Int = 1000,                          # number of iterations\n",
    "        verbose::Bool = false)                  # print rank and loss value in each iteration\n",
    "    \n",
    "    # Initialize variables\n",
    "    dType = eltype(y)\n",
    "    d₁, d₂ = img_size\n",
    "    r̃ == 0 && (r̃ = rank(Xᴳᵀ))\n",
    "    maxIter = maxIter isa Nothing ? r̃*(r̃+d₁+d₂) : maxIter\n",
    "    ϵₖ = Inf\n",
    "    Xᵏ = reshape(Φ' * y, d₁, d₂) # Initial guess: fill missing values with zeros\n",
    "    σ, k = 0, 0                  # I just want them to be available outside of the loop\n",
    "    \n",
    "    verbose && (table = DebugTableModule.DebugTable(\n",
    "        (\"k\", () -> k, 3), (\"rank(Xᵏ)\", () -> rank(Xᵏ, atol=1e-3), 3),\n",
    "        (\"‖Xᴳᵀ - Xᵏ‖₂\", () -> opnorm(Xᴳᵀ - Xᵏ, 2), 3), (\"σ₁\", () -> σ[1]),\n",
    "        (\"σᵣ₊₁\", () -> σ[r̃+1]), (\"ϵₖ\", () -> ϵₖ)))\n",
    "    \n",
    "    while k <= N && ϵₖ > 1e-3\n",
    "        \n",
    "        # Find leading rₖ left/right singular vectors of Xᵏ and calculate all singular values\n",
    "        F = svd(Xᵏ)\n",
    "        Uᵏ, σ, Vᵏ = F.U, F.S, F.V\n",
    "        \n",
    "        # Print some info\n",
    "        verbose && printRow(table)\n",
    "        \n",
    "        # Step 2.\n",
    "        ϵₖ = min(ϵₖ, σ[r̃+1])\n",
    "        \n",
    "        # Step 3.\n",
    "        Hᵏ = [1 / (max(σ[i], ϵₖ) * max(σ[j], ϵₖ))  for i in 1:d₁, j in 1:d₂]\n",
    "        W̃ᵏ = kron(conj(Vᵏ), Uᵏ) * Diagonal(vec(Hᵏ)) * kron(transpose(Vᵏ), Uᵏ')\n",
    "        \n",
    "        # Step 1.\n",
    "        A = PseudoBlockArray{dType}(undef, [size(W̃ᵏ,1), size(Φ, 1)], [size(W̃ᵏ,1), size(Φ, 1)])\n",
    "            A[Block(1,1)] = 2W̃ᵏ\n",
    "            A[Block(2,1)] = Φ\n",
    "            A[Block(1,2)] = Φ'\n",
    "            A[Block(2,2)] .= 0\n",
    "        b = PseudoBlockArray{dType}(undef, [size(W̃ᵏ,1), size(Φ, 1)])\n",
    "            b[Block(1)] .= 0\n",
    "            b[Block(2)] = vec(y)\n",
    "        xz = PseudoBlockArray{dType}(undef, [size(W̃ᵏ,1), size(Φ, 1)])\n",
    "            xz[Block(1)] = vec(Xᵏ)\n",
    "            xz[Block(2)] .= 0\n",
    "        cg!(xz, A, b, maxiter = maxIter)\n",
    "        Xᵏ = reshape(xz[Block(1)], d₁, d₂)\n",
    "        \n",
    "        k += 1\n",
    "    end\n",
    "    \n",
    "    # Print some info\n",
    "    verbose && printRow(table, last = true)\n",
    "    \n",
    "    return Xᵏ\n",
    "end"
   ]
  },
  {
   "cell_type": "markdown",
   "metadata": {},
   "source": [
    "# Numerical Experiments\n",
    "\n",
    "### General parameters"
   ]
  },
  {
   "cell_type": "code",
   "execution_count": 5,
   "metadata": {},
   "outputs": [],
   "source": [
    "d₁, d₂ = 50, 50     # Matrix dimensions\n",
    "r = 7               # Desired rank\n",
    "dType = ComplexF64; # Type of matrix elements"
   ]
  },
  {
   "cell_type": "markdown",
   "metadata": {},
   "source": [
    "### Generate Model"
   ]
  },
  {
   "cell_type": "markdown",
   "metadata": {},
   "source": [
    "#### Sampling Mask ($\\Phi$)\n",
    "\n",
    "_**Requirement towards the sampling mask:** It must have at least $r$ non-zero entries in each row and each column._"
   ]
  },
  {
   "cell_type": "code",
   "execution_count": 6,
   "metadata": {},
   "outputs": [
    {
     "name": "stdout",
     "output_type": "stream",
     "text": [
      "r = 7\n",
      "minimum number of non-zero entries in each column: 9\n",
      "minimum number of non-zero entries in each column: 9\n"
     ]
    }
   ],
   "source": [
    "df = r * (d₁ + d₂ - r) # Number of degrees of freedom of the setting\n",
    "m = floor(Int, min(1.05 * df, d₁ * d₂))\n",
    "Φᴹ = generateΦ(d₁, d₂, r, m)\n",
    "Φ = HadamardProd_to_MatrixMult(Φᴹ)\n",
    "@show r\n",
    "println(\"minimum number of non-zero entries in each column: \", Int(minimum(sum(Φᴹ, dims=1))))\n",
    "println(\"minimum number of non-zero entries in each column: \", Int(minimum(sum(Φᴹ, dims=2))))"
   ]
  },
  {
   "cell_type": "markdown",
   "metadata": {},
   "source": [
    "### Generate Data"
   ]
  },
  {
   "cell_type": "markdown",
   "metadata": {},
   "source": [
    "Create a random rank-$r$ matrix $L_0 \\in \\mathbb{C}^{d_1 \\times d_2}$ such that $L_0 = U_0 V_0^*$, where $U_0 \\in \\mathbb{C}^{d_1 \\times r}$ and $V_0 \\in \\mathbb{C}^{d_2 \\times r}$, and then sub-sample this low-rank matrix."
   ]
  },
  {
   "cell_type": "code",
   "execution_count": 7,
   "metadata": {},
   "outputs": [
    {
     "name": "stdout",
     "output_type": "stream",
     "text": [
      "size(L₀) = (50, 50)\n",
      "rank(L₀) = 7\n",
      "size(y) = (683,)\n"
     ]
    }
   ],
   "source": [
    "L₀ = generateLowRankComponent_Christian(d₁, d₂, r, dType)\n",
    "@show size(L₀)\n",
    "@show rank(L₀)\n",
    "\n",
    "y = Φ * vec(L₀)\n",
    "@show size(y);"
   ]
  },
  {
   "cell_type": "markdown",
   "metadata": {},
   "source": [
    "### Running The Reconstruction"
   ]
  },
  {
   "cell_type": "code",
   "execution_count": 35,
   "metadata": {},
   "outputs": [
    {
     "name": "stdout",
     "output_type": "stream",
     "text": [
      "┌─────┬──────────┬─────────────┬──────────┬──────────┬──────────┐\n",
      "│  k  │ rank(Xᵏ) │ ‖Xᴳᵀ - Xᵏ‖₂ │    σ₁    │   σᵣ₊₁   │    ϵₖ    │\n",
      "├─────┼──────────┼─────────────┼──────────┼──────────┼──────────┤\n",
      "│   0 │       50 │      51.429 │   23.947 │   13.997 │      Inf │\n",
      "│   1 │       50 │      45.493 │   34.012 │   10.687 │   13.997 │\n",
      "│   2 │       50 │      39.913 │   46.980 │    8.003 │   10.687 │\n",
      "│   3 │       50 │      35.877 │   56.017 │    5.916 │    8.003 │\n",
      "│   4 │       50 │      32.801 │   60.756 │    4.561 │    5.916 │\n",
      "│   5 │       50 │      30.720 │   63.535 │    3.884 │    4.561 │\n",
      "│   6 │       50 │      29.202 │   65.422 │    3.326 │    3.884 │\n",
      "│   7 │       50 │      27.600 │   66.714 │    2.663 │    3.326 │\n",
      "│   8 │       50 │      25.752 │   67.623 │    1.930 │    2.663 │\n",
      "│   9 │       50 │      23.815 │   68.335 │    1.461 │    1.930 │\n",
      "│  10 │       50 │      22.146 │   68.809 │    1.126 │    1.461 │\n",
      "│  11 │       50 │      21.085 │   69.085 │    0.892 │    1.126 │\n",
      "│  12 │       50 │      20.067 │   69.214 │    0.746 │    0.892 │\n",
      "│  13 │       50 │      19.053 │   69.238 │    0.631 │    0.746 │\n",
      "│  14 │       50 │      18.058 │   69.198 │    0.537 │    0.631 │\n",
      "│  15 │       49 │      17.080 │   69.122 │    0.458 │    0.537 │\n",
      "│  16 │       50 │      16.116 │   69.027 │    0.393 │    0.458 │\n",
      "│  17 │       50 │      15.165 │   68.917 │    0.338 │    0.393 │\n",
      "│  18 │       50 │      14.233 │   68.795 │    0.293 │    0.338 │\n",
      "│  19 │       50 │      13.328 │   68.661 │    0.254 │    0.293 │\n",
      "│  20 │       49 │      12.454 │   68.517 │    0.222 │    0.254 │\n",
      "│  21 │       50 │      11.616 │   68.370 │    0.196 │    0.222 │\n",
      "│  22 │       50 │      10.813 │   68.224 │    0.175 │    0.196 │\n",
      "│  23 │       50 │      10.041 │   68.088 │    0.157 │    0.175 │\n",
      "│  24 │       49 │       9.292 │   67.967 │    0.142 │    0.157 │\n",
      "│  25 │       50 │       8.562 │   67.867 │    0.128 │    0.142 │\n",
      "│  26 │       50 │       7.846 │   67.791 │    0.114 │    0.128 │\n",
      "│  27 │       49 │       7.143 │   67.739 │    0.102 │    0.114 │\n",
      "│  28 │       49 │       6.453 │   67.710 │    0.090 │    0.102 │\n",
      "│  29 │       49 │       5.777 │   67.703 │    0.078 │    0.090 │\n",
      "│  30 │       49 │       5.116 │   67.714 │    0.067 │    0.078 │\n",
      "│  31 │       48 │       4.471 │   67.740 │    0.056 │    0.067 │\n",
      "│  32 │       48 │       3.844 │   67.777 │    0.047 │    0.056 │\n",
      "│  33 │       47 │       3.235 │   67.822 │    0.037 │    0.047 │\n",
      "│  34 │       47 │       2.641 │   67.871 │    0.029 │    0.037 │\n",
      "│  35 │       46 │       2.063 │   67.923 │    0.022 │    0.029 │\n",
      "│  36 │       45 │       1.510 │   67.972 │    0.015 │    0.022 │\n",
      "│  37 │       42 │       1.001 │   68.018 │ 9.78e-03 │    0.015 │\n",
      "│  38 │       35 │       0.567 │   68.052 │ 5.43e-03 │ 9.78e-03 │\n",
      "│  39 │       20 │       0.250 │   68.082 │ 2.31e-03 │ 5.43e-03 │\n",
      "│  40 │        7 │       0.114 │   68.087 │ 6.08e-04 │ 2.31e-03 │\n",
      "│  41 │        7 │       0.090 │   68.087 │ 6.08e-04 │ 6.08e-04 │\n",
      "└─────┴──────────┴─────────────┴──────────┴──────────┴──────────┘\n",
      "441.873566 seconds (5.55 M allocations: 25.582 GiB, 0.18% gc time)\n"
     ]
    }
   ],
   "source": [
    "@time vanilla_MatrixIRLS_for_PCA(L₀, y, Φ, verbose = true);"
   ]
  },
  {
   "cell_type": "code",
   "execution_count": null,
   "metadata": {},
   "outputs": [],
   "source": []
  }
 ],
 "metadata": {
  "kernelspec": {
   "display_name": "Julia 1.5.2",
   "language": "julia",
   "name": "julia-1.5"
  },
  "language_info": {
   "file_extension": ".jl",
   "mimetype": "application/julia",
   "name": "julia",
   "version": "1.5.2"
  }
 },
 "nbformat": 4,
 "nbformat_minor": 4
}
