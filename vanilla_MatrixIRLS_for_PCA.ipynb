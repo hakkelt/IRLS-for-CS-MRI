{
 "cells": [
  {
   "cell_type": "code",
   "execution_count": 1,
   "metadata": {},
   "outputs": [],
   "source": [
    "using LinearAlgebra, NBInclude, IterativeSolvers, FunctionOperators, Printf, Plots, LaTeXStrings,\n",
    "    BlockArrays, Crayons"
   ]
  },
  {
   "cell_type": "code",
   "execution_count": 2,
   "metadata": {},
   "outputs": [],
   "source": [
    "@nbinclude(\"helper_functions.ipynb\")"
   ]
  },
  {
   "cell_type": "code",
   "execution_count": 3,
   "metadata": {},
   "outputs": [],
   "source": [
    "Random.seed!(123);"
   ]
  },
  {
   "cell_type": "markdown",
   "metadata": {},
   "source": [
    "### Vanilla MatrixIRLS for matrix completion (PCA) with p = 0\n",
    "\n",
    "https://mediatum.ub.tum.de/doc/1521436/1521436.pdf\n",
    "\n",
    "_**Note:** Vanilla = Conjugate gradient step (2.90) is solved directly without reducing the problem to a lower-dimensional projection space via the Sherman-Morrison-Woodbury form._\n",
    "\n",
    "#### Solution for the minimization problem in the conjugate gradient step\n",
    "\n",
    "Source of description below: [Linearly Constrained Least Squares (LLS)](https://lls.readthedocs.io/en/latest/math.html)\n",
    "\n",
    "LLS solves **linearly constrained least squares** (or LCLS) problems, which have the form:\n",
    "$minimize \\Vert Ax - b \\Vert_2^2 \\text{ subject to } Cx = d,$\n",
    "where the unknown variable $x$ is a vector of size $n$. The values for $A$, $b$, $C$, and $d$ are given and have sizes $m\\times n$, $m$, $p\\times n$, and $p$, respectively. LLS finds a value for $x$ that satisfies the linear equality constraints $Cx = d$ and minimizes the objective, the sum of the squares of the entries of $Ax - b$.\n",
    "\n",
    "There is a unique solution to the LCLS problem if and only if there is a unique solution to the following system of linear equations in the variable $x$ and a new variable $z$:\n",
    "$$\\begin{bmatrix} 2A^TA & C^T \\\\ C & 0 \\end{bmatrix}\n",
    "  \\begin{bmatrix} x \\\\ z \\end{bmatrix} =\n",
    "  \\begin{bmatrix} 2A^Tb \\\\ d \\end{bmatrix};$$\n",
    "i.e., the matrix on the left is invertible. This occurs when the matrix $C$ has independent rows, and the matrix $\\begin{bmatrix} A\\\\ C\\end{bmatrix}$ has indepedent columns.\n",
    "\n",
    "In our case, $A = W^{1/2}$, $b = 0$, $C = \\Phi$, and $d = y$; therefore,\n",
    "$$min_x \\Vert W^{1/2} x - b \\Vert_2 \\text{ s.t. } \\Phi x = y$$ can be solved as $$\\begin{bmatrix} 2 W & \\Phi^*\\\\ \\Phi & 0 \\end{bmatrix} \\begin{bmatrix} x \\\\ z \\end{bmatrix} = \\begin{bmatrix} 0 \\\\ y \\end{bmatrix}.$$ This system has a unique solution when the matrix $\\Phi$ has independent rows (this is always true for sampling matrices), and the matrix $\\begin{bmatrix} W^{1/2} \\\\ \\Phi \\end{bmatrix}$ has indepedent columns (not true in general)."
   ]
  },
  {
   "cell_type": "code",
   "execution_count": 4,
   "metadata": {},
   "outputs": [
    {
     "data": {
      "text/plain": [
       "vanilla_MatrixIRLS_for_PCA (generic function with 1 method)"
      ]
     },
     "execution_count": 4,
     "metadata": {},
     "output_type": "execute_result"
    }
   ],
   "source": [
    "function vanilla_MatrixIRLS_for_PCA(\n",
    "        Xᴳᵀ::AbstractArray,                     # ground truth for MSE evaluation\n",
    "        y::AbstractArray,                       # under-sampled data\n",
    "        Φ::AbstractArray;                       # sampling matrix\n",
    "        img_size::NTuple = size(Xᴳᵀ),           # size of output matrix\n",
    "        r̃::Int = 0,                             # rank estimate of solution\n",
    "        maxIter::Union{Int, Nothing} = nothing, # number of CG iteration steps\n",
    "        N::Int = 10,                            # number of iterations\n",
    "        verbose::Bool = false)                  # print rank and loss value in each iteration\n",
    "    \n",
    "    # Initialize variables\n",
    "    dType = eltype(y)\n",
    "    d₁, d₂ = img_size\n",
    "    r̃ == 0 && (r̃ = rank(Xᴳᵀ))\n",
    "    maxIter = maxIter isa Nothing ? d₁*d₂+size(y,1) : maxIter #r̃*(r̃+d₁+d₂)\n",
    "    ϵᵏ = Inf\n",
    "    Xᵏ = reshape(Φ' * y, d₁, d₂)\n",
    "    σ, iter = 0, 2 # I just want to make them available outside of the loop\n",
    "    \n",
    "    table = DebugTableModule.DebugTable(\n",
    "        (\"k\", nothing, 3), (\"rank(Xᵏ)\", () -> rank(Xᵏ), 3),\n",
    "        (\"‖Xᴳᵀ - Xᵏ‖₂\", () -> opnorm(Xᴳᵀ - Xᵏ, 2), 3), (\"σ₁\", () -> σ[1]),\n",
    "        (\"σᵣ₊₁\", () -> σ[r̃+1]), (\"ϵᵏ\", () -> ϵᵏ))\n",
    "    \n",
    "    for k in 1:N\n",
    "\"\"\"\n",
    "    2. Find best rank-(r̃ + 1) approximation of Xᵏ to obtain\n",
    "        𝒯ᵣ(Xᵏ) = Uᵏ * diag(σᵢᵏ)ᵢ₌₁ʳ * Vᵏ' and σᵣ₊₁ᵏ \n",
    "\"\"\"\n",
    "        F = svd(Xᵏ)\n",
    "        Uᵏ, σ, Vᵏ = F.U[:, 1:r̃+1], F.S, F.V[:, 1:r̃+1]\n",
    "        \n",
    "\"\"\"     update smoothing:                                 (2.91) \"\"\"\n",
    "        ϵᵏ = min(ϵᵏ, σ[r̃+1])\n",
    "        \n",
    "\"\"\"\n",
    "    3. Update Wᵏ as in (2.57), using parameters ϵ = ϵᵏ and p in (2.58) and (2.59), and the\n",
    "        information Uᵏ , Vᵏ and σ₁ᵏ, ..., σᵣ₊₁ᵏ from item 2.\n",
    "\n",
    "        (Lines below are based on Remark 2.3.2, the special case for p = 0)\n",
    "\"\"\"\n",
    "        Hᵏ = [1 / (max(σ[i], ϵᵏ) * max(σ[j], ϵᵏ))  for i in 1:r̃+1, j in 1:r̃+1]\n",
    "        # Wᵏ = FunctionOperator{dType}(name = \"Wᵏ\", inDims = (d₁, d₂), outDims = (d₁, d₂),\n",
    "        #    forw = Z -> Uᵏ * (Hᵏ .* (Uᵏ' * Z * Vᵏ)) * Vᵏ')\n",
    "        Dᵏ = Diagonal(vec(Hᵏ))\n",
    "        Wᵏ = kron(Vᵏ, Uᵏ) * Dᵏ * kron(Vᵏ, Uᵏ)'\n",
    "        \n",
    "\"\"\"\n",
    "    1. Use a conjugate gradient method to solve linearly constrained quadratic program\n",
    "         Xᵏ = arg minₓ ⟨X,Wᵏ⁻¹(X)⟩ s.t. Φ(X) = y         (2.90)\n",
    "\"\"\"\n",
    "        if k == 1\n",
    "            checkingMatrix = PseudoBlockArray{dType}(undef,\n",
    "                [size(Wᵏ,1), size(Φ, 1)], [size(Wᵏ,1)])\n",
    "            checkingMatrix[Block(1,1)] = Wᵏ\n",
    "            checkingMatrix[Block(2,1)] = Φ\n",
    "            if rank(Array(checkingMatrix)) != size(Wᵏ,2) # We require full column-rank\n",
    "                println(crayon\"#ff0000\",\n",
    "                    \"Warning! The [Wᵏ; Φ] matrix doesn't have full column-rank \" * \n",
    "                    \"(rank = $(rank(Array(checkingMatrix))) instead of $(size(Wᵏ,2)))!\",\n",
    "                    crayon\"#000000\")\n",
    "            end\n",
    "        end\n",
    "        \n",
    "        # Print some info\n",
    "        verbose && DebugTableModule.printRow(table, \"k\" => k-1)\n",
    "        \n",
    "        A = PseudoBlockArray{dType}(undef, [size(Wᵏ,1), size(Φ, 1)], [size(Wᵏ,1), size(Φ, 1)])\n",
    "            A[Block(1,1)] = 2Wᵏ\n",
    "            A[Block(2,1)] = Φ\n",
    "            A[Block(1,2)] = Φ'\n",
    "            A[Block(2,2)] .= 0\n",
    "        b = PseudoBlockArray{dType}(undef, [size(Wᵏ,1), size(Φ, 1)])\n",
    "            b[Block(1)] .= 0\n",
    "            b[Block(2)] = vec(y)\n",
    "        xz = PseudoBlockArray{dType}(undef, [size(Wᵏ,1), size(Φ, 1)])\n",
    "            xz[Block(1)] = vec(Xᵏ)\n",
    "            xz[Block(2)] .= 0\n",
    "        cg!(xz, A, b, maxiter = maxIter)\n",
    "        Xᵏ = reshape(xz[Block(1)], d₁, d₂)\n",
    "        #println(crayon\"#00aa00\", \"\\tmax(z) = \",\n",
    "        #    @sprintf(\"%.5E\", maximum(abs, xz[Block(2)])), crayon\"#000000\")\n",
    "    end\n",
    "    \n",
    "    # Print some info\n",
    "    iter = N\n",
    "    verbose && DebugTableModule.printRow(table, \"k\" => N, last = true)\n",
    "    \n",
    "    Xᵏ\n",
    "end"
   ]
  },
  {
   "cell_type": "markdown",
   "metadata": {},
   "source": [
    "# Numerical Experiments\n",
    "\n",
    "### General parameters"
   ]
  },
  {
   "cell_type": "code",
   "execution_count": 5,
   "metadata": {},
   "outputs": [],
   "source": [
    "# Matrix dimensions\n",
    "d₁, d₂ = 20, 20\n",
    "n = min(d₁, d₂)\n",
    "# Rank and number of non-zero elements in sparse component\n",
    "r, k = 5, 0\n",
    "# Type of matrix elements\n",
    "dType = ComplexF64;"
   ]
  },
  {
   "cell_type": "markdown",
   "metadata": {},
   "source": [
    "## Understanding and Enhancing Data Recovery Algorithms\n",
    "\n",
    "*From Noise-Blind Sparse Recovery to Reweighted Methods for Low-Rank Matrix Optimization*\n",
    "\n",
    "*by Christian Kümmerle*\n",
    "\n",
    "https://mediatum.ub.tum.de/doc/1521436/1521436.pdf"
   ]
  },
  {
   "cell_type": "markdown",
   "metadata": {},
   "source": [
    "### Generate Data"
   ]
  },
  {
   "cell_type": "markdown",
   "metadata": {},
   "source": [
    "#### Gaussian Low Rank Matrix\n",
    "Corresponding Matlab function: https://github.com/ckuemmerle/hm_irls/blob/master/sample_X0_lowrank.m"
   ]
  },
  {
   "cell_type": "code",
   "execution_count": 6,
   "metadata": {},
   "outputs": [
    {
     "name": "stdout",
     "output_type": "stream",
     "text": [
      "size(L₀) = (20, 20)\n",
      "rank(L₀) = 5\n"
     ]
    }
   ],
   "source": [
    "L₀ = generateLowRankComponent_Christian(d₁, d₂, r, dType)\n",
    "@show size(L₀)\n",
    "@show rank(L₀);"
   ]
  },
  {
   "cell_type": "markdown",
   "metadata": {},
   "source": [
    "#### Sampling Mask ($\\Phi$)\n",
    "Corresponding Matlab function: https://github.com/ckuemmerle/hm_irls/blob/master/sample_phi_MatrixCompletion.m\n",
    "\n",
    "_**Note:** There is a difference in the way how the Christian's Matlab function and my Julia function satisfies the requirement of having at least $r$ non-zero entries in each row and each column._"
   ]
  },
  {
   "cell_type": "code",
   "execution_count": 7,
   "metadata": {},
   "outputs": [
    {
     "name": "stdout",
     "output_type": "stream",
     "text": [
      "minimum number of non-zero entries in each column: 7\n",
      "minimum number of non-zero entries in each column: 5\n"
     ]
    }
   ],
   "source": [
    "df = r * (d₁ + d₂ - r) # Number of degrees of freedom of the setting\n",
    "m = floor(Int, min(1.05 * df, d₁ * d₂))\n",
    "Φᴹ = generateΦ(d₁, d₂, r, m)\n",
    "Φ = maskToMatrix(Φᴹ)\n",
    "#Φ = FunctionOperator{dType}(name = \"Φ\", inDims = (d₁, d₂), outDims = (d₁, d₂),\n",
    "#    forw = (b,x) -> b .= Φᴹ .* x, backw = (b,x) -> b .= x)\n",
    "println(\"minimum number of non-zero entries in each column: \", Int(minimum(sum(Φᴹ, dims=1))))\n",
    "println(\"minimum number of non-zero entries in each column: \", Int(minimum(sum(Φᴹ, dims=2))))"
   ]
  },
  {
   "cell_type": "markdown",
   "metadata": {},
   "source": [
    "#### Subsampling The Ground Truth Matrix"
   ]
  },
  {
   "cell_type": "code",
   "execution_count": 8,
   "metadata": {},
   "outputs": [
    {
     "name": "stdout",
     "output_type": "stream",
     "text": [
      "size(y) = (183,)\n"
     ]
    }
   ],
   "source": [
    "y = Φ * vec(L₀)\n",
    "@show size(y)\n",
    "#@show rank(y);"
   ]
  },
  {
   "cell_type": "markdown",
   "metadata": {},
   "source": [
    "### Running The Reconstruction"
   ]
  },
  {
   "cell_type": "code",
   "execution_count": 9,
   "metadata": {},
   "outputs": [
    {
     "name": "stdout",
     "output_type": "stream",
     "text": [
      "\u001b[38;2;255;0;0mWarning! The [Wᵏ; Φ] matrix doesn't have full column-rank (rank = 219 instead of 400)!\u001b[38;2;0;0;0m\n",
      "┌─────┬──────────┬─────────────┬──────────┬──────────┬──────────┐\n",
      "│  k  │ rank(Xᵏ) │ ‖Xᴳᵀ - Xᵏ‖₂ │    σ₁    │   σᵣ₊₁   │    ϵᵏ    │\n",
      "├─────┼──────────┼─────────────┼──────────┼──────────┼──────────┤\n",
      "│   0 │       20 │      43.079 │   33.641 │   13.223 │   13.223 │\n",
      "│   1 │       20 │      80.429 │   69.245 │   38.241 │   13.223 │\n",
      "│   2 │       20 │      66.892 │   60.785 │   28.204 │   13.223 │\n",
      "│   3 │       20 │      57.237 │   52.834 │   25.777 │   13.223 │\n",
      "│   4 │       20 │      66.310 │   52.125 │   26.378 │   13.223 │\n",
      "│   5 │       20 │      58.920 │   49.377 │   23.177 │   13.223 │\n",
      "│   6 │       20 │      58.559 │   48.025 │   21.423 │   13.223 │\n",
      "│   7 │       20 │      60.558 │   48.611 │   24.072 │   13.223 │\n",
      "│   8 │       20 │      57.530 │   44.743 │   20.550 │   13.223 │\n",
      "│   9 │       20 │      55.568 │   47.369 │   20.904 │   13.223 │\n",
      "│  10 │       20 │      55.161 │   46.687 │   20.407 │   13.223 │\n",
      "│  11 │       20 │      52.541 │   49.443 │   20.209 │   13.223 │\n",
      "│  12 │       20 │      51.490 │   48.825 │   19.796 │   13.223 │\n",
      "│  13 │       20 │      49.433 │   51.791 │   20.124 │   13.223 │\n",
      "│  14 │       20 │      52.642 │   52.788 │   18.868 │   13.223 │\n",
      "│  15 │       20 │      50.777 │   51.970 │   19.240 │   13.223 │\n",
      "│  16 │       20 │      50.544 │   54.237 │   17.767 │   13.223 │\n",
      "│  17 │       20 │      53.565 │   50.034 │   19.831 │   13.223 │\n",
      "│  18 │       20 │      48.727 │   53.972 │   18.590 │   13.223 │\n",
      "│  19 │       20 │      56.346 │   49.391 │   18.257 │   13.223 │\n",
      "│  20 │       20 │      46.793 │   50.025 │   17.657 │   13.223 │\n",
      "│  21 │       20 │      52.840 │   51.351 │   19.832 │   13.223 │\n",
      "│  22 │       20 │      48.596 │   49.995 │   19.086 │   13.223 │\n",
      "│  23 │       20 │      52.357 │   51.794 │   19.303 │   13.223 │\n",
      "│  24 │       20 │      49.798 │   50.431 │   17.023 │   13.223 │\n",
      "│  25 │       20 │      53.984 │   50.585 │   18.549 │   13.223 │\n",
      "│  26 │       20 │      51.830 │   49.953 │   19.478 │   13.223 │\n",
      "│  27 │       20 │      51.510 │   50.670 │   18.244 │   13.223 │\n",
      "│  28 │       20 │      47.827 │   48.849 │   18.628 │   13.223 │\n",
      "│  29 │       20 │      53.390 │   47.879 │   18.957 │   13.223 │\n",
      "│  30 │       20 │      47.819 │   49.193 │   19.207 │   13.223 │\n",
      "│  31 │       20 │      50.899 │   51.021 │   19.079 │   13.223 │\n",
      "│  32 │       20 │      48.568 │   47.414 │   17.894 │   13.223 │\n",
      "│  33 │       20 │      48.166 │   49.215 │   19.032 │   13.223 │\n",
      "│  34 │       20 │      48.626 │   47.291 │   18.119 │   13.223 │\n",
      "│  35 │       20 │      46.103 │   52.451 │   17.953 │   13.223 │\n",
      "│  36 │       20 │      47.673 │   48.555 │   18.101 │   13.223 │\n",
      "│  37 │       20 │      45.818 │   48.674 │   18.798 │   13.223 │\n",
      "│  38 │       20 │      47.703 │   50.899 │   17.839 │   13.223 │\n",
      "│  39 │       20 │      45.627 │   50.525 │   18.417 │   13.223 │\n",
      "│  40 │       20 │      45.594 │   49.938 │   17.084 │   13.223 │\n",
      "│  41 │       20 │      51.965 │   50.943 │   20.689 │   13.223 │\n",
      "│  42 │       20 │      46.796 │   50.238 │   17.350 │   13.223 │\n",
      "│  43 │       20 │      48.646 │   51.158 │   18.992 │   13.223 │\n",
      "│  44 │       20 │      46.249 │   49.874 │   17.916 │   13.223 │\n",
      "│  45 │       20 │      45.441 │   52.806 │   18.711 │   13.223 │\n",
      "│  46 │       20 │      42.049 │   52.260 │   15.994 │   13.223 │\n",
      "│  47 │       20 │      45.006 │   54.805 │   17.545 │   13.223 │\n",
      "│  48 │       20 │      44.712 │   54.295 │   18.522 │   13.223 │\n",
      "│  49 │       20 │      47.455 │   53.011 │   18.459 │   13.223 │\n",
      "│  50 │       20 │      45.078 │   50.959 │   16.938 │   13.223 │\n",
      "│  51 │       20 │      46.049 │   55.128 │   16.808 │   13.223 │\n",
      "│  52 │       20 │      43.930 │   51.859 │   16.541 │   13.223 │\n",
      "│  53 │       20 │      46.432 │   54.339 │   17.546 │   13.223 │\n",
      "│  54 │       20 │      45.275 │   53.492 │   17.763 │   13.223 │\n",
      "│  55 │       20 │      49.278 │   48.295 │   18.634 │   13.223 │\n",
      "│  56 │       20 │      47.297 │   56.399 │   18.707 │   13.223 │\n",
      "│  57 │       20 │      51.566 │   50.020 │   19.967 │   13.223 │\n",
      "│  58 │       20 │      47.719 │   52.203 │   18.009 │   13.223 │\n",
      "│  59 │       20 │      50.832 │   49.174 │   16.463 │   13.223 │\n",
      "│  60 │       20 │      50.082 │   51.490 │   18.542 │   13.223 │\n",
      "│  61 │       20 │      51.171 │   46.433 │   19.227 │   13.223 │\n",
      "│  62 │       20 │      49.043 │   48.943 │   18.953 │   13.223 │\n",
      "│  63 │       20 │      51.600 │   46.191 │   17.149 │   13.223 │\n",
      "│  64 │       20 │      46.871 │   50.873 │   16.757 │   13.223 │\n",
      "│  65 │       20 │      50.812 │   48.020 │   17.910 │   13.223 │\n",
      "│  66 │       20 │      47.076 │   50.642 │   17.310 │   13.223 │\n",
      "│  67 │       20 │      52.178 │   52.014 │   19.040 │   13.223 │\n",
      "│  68 │       20 │      47.408 │   52.518 │   18.833 │   13.223 │\n",
      "│  69 │       20 │      49.206 │   51.201 │   18.786 │   13.223 │\n",
      "│  70 │       20 │      47.056 │   50.358 │   19.186 │   13.223 │\n",
      "│  71 │       20 │      48.080 │   50.052 │   17.643 │   13.223 │\n",
      "│  72 │       20 │      47.274 │   48.511 │   17.742 │   13.223 │\n",
      "│  73 │       20 │      47.835 │   47.652 │   17.057 │   13.223 │\n",
      "│  74 │       20 │      45.433 │   50.687 │   16.411 │   13.223 │\n",
      "│  75 │       20 │      46.907 │   50.032 │   17.676 │   13.223 │\n",
      "│  76 │       20 │      43.337 │   53.220 │   16.923 │   13.223 │\n",
      "│  77 │       20 │      47.592 │   52.904 │   16.703 │   13.223 │\n",
      "│  78 │       20 │      49.550 │   55.380 │   19.585 │   13.223 │\n",
      "│  79 │       20 │      48.037 │   52.375 │   17.603 │   13.223 │\n",
      "│  80 │       20 │      45.136 │   52.162 │   17.872 │   13.223 │\n",
      "│  81 │       20 │      47.647 │   53.514 │   16.475 │   13.223 │\n",
      "│  82 │       20 │      47.993 │   51.417 │   17.228 │   13.223 │\n",
      "│  83 │       20 │      46.915 │   51.159 │   17.710 │   13.223 │\n",
      "│  84 │       20 │      46.356 │   51.079 │   16.873 │   13.223 │\n",
      "│  85 │       20 │      46.345 │   50.119 │   16.504 │   13.223 │\n",
      "│  86 │       20 │      44.016 │   50.477 │   17.624 │   13.223 │\n",
      "│  87 │       20 │      47.108 │   51.702 │   16.897 │   13.223 │\n",
      "│  88 │       20 │      43.350 │   53.927 │   16.907 │   13.223 │\n",
      "│  89 │       20 │      47.807 │   52.403 │   18.449 │   13.223 │\n",
      "│  90 │       20 │      42.808 │   55.291 │   18.082 │   13.223 │\n",
      "│  91 │       20 │      45.656 │   50.878 │   17.972 │   13.223 │\n",
      "│  92 │       20 │      41.048 │   53.195 │   18.332 │   13.223 │\n",
      "│  93 │       20 │      45.930 │   49.816 │   19.361 │   13.223 │\n",
      "│  94 │       20 │      40.771 │   55.338 │   16.740 │   13.223 │\n",
      "│  95 │       20 │      50.106 │   51.477 │   19.003 │   13.223 │\n",
      "│  96 │       20 │      44.111 │   53.763 │   16.870 │   13.223 │\n",
      "│  97 │       20 │      46.364 │   52.845 │   16.779 │   13.223 │\n",
      "│  98 │       20 │      47.762 │   52.725 │   17.742 │   13.223 │\n",
      "│  99 │       20 │      48.034 │   52.612 │   16.463 │   13.223 │\n",
      "│ 100 │       20 │      45.789 │   52.612 │   16.463 │   13.223 │\n",
      "└─────┴──────────┴─────────────┴──────────┴──────────┴──────────┘\n",
      " 16.999713 seconds (12.47 M allocations: 1.697 GiB, 2.53% gc time)\n"
     ]
    }
   ],
   "source": [
    "@time vanilla_MatrixIRLS_for_PCA(L₀, y, Φ, N = 100, verbose = true);"
   ]
  },
  {
   "cell_type": "markdown",
   "metadata": {},
   "source": [
    "# Robust Principal Component Analysis?\n",
    "*by Emmanuel J. Candès, Xiaodong Li, Yi Ma, and John Wright*  \n",
    "https://arxiv.org/pdf/0912.3599.pdf\n",
    "\n",
    "#### 4.1 Exact recovery from varying fractions of error\n",
    "\n",
    "We first verify the correct recovery phenomenon of Theorem 1.1 on randomly generated problems. We consider square matrices of varying dimension $n = 500, \\ldots , 3000$. We generate a rank-$r$ matrix $L_0$ as a product $L_0 = XY^∗$ where $X$ and $Y$ are $n \\times r$ matrices with entries independently sampled\n",
    "from a $\\mathcal{N}(0,1/n)$ distribution. $S_0$ is generated by choosing a support set $\\Omega$ of size $k$ uniformly at random, and setting $S_0 = \\mathcal{P}_\\Omega E$, where $E$ is a matrix with independent Bernoulli $\\pm 1$ entries. Table 1 (top) reports the results with $r = rank(L_0) = 0.05 \\times n$ and $k = \\Vert S_0 \\Vert_0 = 0.05 \\times n^2$. Table 1 (bottom) reports the results for a more challenging scenario, $rank(L_0) = 0.05 \\times n$ and $k = 0.10 \\times n^2$. In all cases, we set $\\lambda = 1 \\cdot \\sqrt{n}$. Notice that in all cases, solving the convex PCP gives a result $(L, S)$ with the correct rank and sparsity. Moreover, the relative error $\\frac{\\Vert L - L_0 \\Vert_F}{\\Vert L_0 \\Vert_F}$ is small, less than $10^{-5}$ in all examples considered."
   ]
  },
  {
   "cell_type": "markdown",
   "metadata": {},
   "source": [
    "<center><img src=\"table_1.png\" /></center>"
   ]
  },
  {
   "cell_type": "markdown",
   "metadata": {},
   "source": [
    "### Generate Data\n",
    "\n",
    "_**Note:** In this notebook we deal only with PCA (simple matrix completion); therefore, there is no sparse component in the ground truth matrix._"
   ]
  },
  {
   "cell_type": "code",
   "execution_count": 13,
   "metadata": {},
   "outputs": [
    {
     "name": "stdout",
     "output_type": "stream",
     "text": [
      "size(L₀) = (20, 20)\n",
      "rank(L₀) = 5\n"
     ]
    }
   ],
   "source": [
    "L₀ = generateLowRankComponent_Candes(n, r, dType)\n",
    "@show size(L₀)\n",
    "@show rank(L₀);"
   ]
  },
  {
   "cell_type": "markdown",
   "metadata": {},
   "source": [
    "#### Sampling Mask ($\\Phi$)\n",
    "\n",
    "Using the earlier generated sampling mask"
   ]
  },
  {
   "cell_type": "markdown",
   "metadata": {},
   "source": [
    "#### Subsampling The Ground Truth Matrix"
   ]
  },
  {
   "cell_type": "code",
   "execution_count": 16,
   "metadata": {},
   "outputs": [
    {
     "name": "stdout",
     "output_type": "stream",
     "text": [
      "size(y) = (183,)\n"
     ]
    }
   ],
   "source": [
    "y = Φ * vec(L₀)\n",
    "@show size(y);"
   ]
  },
  {
   "cell_type": "markdown",
   "metadata": {},
   "source": [
    "### Running The Reconstruction"
   ]
  },
  {
   "cell_type": "code",
   "execution_count": 17,
   "metadata": {},
   "outputs": [
    {
     "name": "stdout",
     "output_type": "stream",
     "text": [
      "\u001b[38;2;255;0;0mWarning! The [Wᵏ; Φ] matrix doesn't have full column-rank (rank = 219 instead of 400)!\u001b[38;2;0;0;0m\n",
      "┌─────┬──────────┬─────────────┬──────────┬──────────┬──────────┐\n",
      "│  k  │ rank(Xᵏ) │ ‖Xᴳᵀ - Xᵏ‖₂ │    σ₁    │   σᵣ₊₁   │    ϵᵏ    │\n",
      "├─────┼──────────┼─────────────┼──────────┼──────────┼──────────┤\n",
      "│   0 │       20 │       0.077 │    0.071 │    0.035 │    0.035 │\n",
      "│   1 │       20 │       0.119 │    0.109 │    0.052 │    0.035 │\n",
      "│   2 │       20 │       0.095 │    0.103 │    0.050 │    0.035 │\n",
      "│   3 │       20 │       0.100 │    0.095 │    0.050 │    0.035 │\n",
      "│   4 │       20 │       0.101 │    0.092 │    0.048 │    0.035 │\n",
      "│   5 │       20 │       0.102 │    0.094 │    0.047 │    0.035 │\n",
      "│   6 │       20 │       0.093 │    0.098 │    0.046 │    0.035 │\n",
      "│   7 │       20 │       0.103 │    0.097 │    0.051 │    0.035 │\n",
      "│   8 │       20 │       0.099 │    0.095 │    0.047 │    0.035 │\n",
      "│   9 │       20 │       0.100 │    0.101 │    0.047 │    0.035 │\n",
      "│  10 │       20 │       0.100 │    0.102 │    0.048 │    0.035 │\n",
      "│  11 │       20 │       0.100 │    0.100 │    0.049 │    0.035 │\n",
      "│  12 │       20 │       0.097 │    0.105 │    0.049 │    0.035 │\n",
      "│  13 │       20 │       0.098 │    0.102 │    0.049 │    0.035 │\n",
      "│  14 │       20 │       0.095 │    0.103 │    0.052 │    0.035 │\n",
      "│  15 │       20 │       0.092 │    0.102 │    0.045 │    0.035 │\n",
      "│  16 │       20 │       0.089 │    0.106 │    0.046 │    0.035 │\n",
      "│  17 │       20 │       0.099 │    0.101 │    0.048 │    0.035 │\n",
      "│  18 │       20 │       0.089 │    0.102 │    0.044 │    0.035 │\n",
      "│  19 │       20 │       0.099 │    0.102 │    0.049 │    0.035 │\n",
      "│  20 │       20 │       0.094 │    0.102 │    0.045 │    0.035 │\n",
      "│  21 │       20 │       0.098 │    0.101 │    0.045 │    0.035 │\n",
      "│  22 │       20 │       0.090 │    0.104 │    0.047 │    0.035 │\n",
      "│  23 │       20 │       0.100 │    0.101 │    0.046 │    0.035 │\n",
      "│  24 │       20 │       0.094 │    0.106 │    0.044 │    0.035 │\n",
      "│  25 │       20 │       0.098 │    0.097 │    0.043 │    0.035 │\n",
      "│  26 │       20 │       0.090 │    0.104 │    0.046 │    0.035 │\n",
      "│  27 │       20 │       0.098 │    0.106 │    0.048 │    0.035 │\n",
      "│  28 │       20 │       0.093 │    0.099 │    0.043 │    0.035 │\n",
      "│  29 │       20 │       0.101 │    0.095 │    0.045 │    0.035 │\n",
      "│  30 │       20 │       0.092 │    0.095 │    0.046 │    0.035 │\n",
      "│  31 │       20 │       0.099 │    0.095 │    0.043 │    0.035 │\n",
      "│  32 │       20 │       0.095 │    0.098 │    0.046 │    0.035 │\n",
      "│  33 │       20 │       0.095 │    0.095 │    0.044 │    0.035 │\n",
      "│  34 │       20 │       0.090 │    0.099 │    0.045 │    0.035 │\n",
      "│  35 │       20 │       0.099 │    0.093 │    0.049 │    0.035 │\n",
      "│  36 │       20 │       0.091 │    0.097 │    0.049 │    0.035 │\n",
      "│  37 │       20 │       0.095 │    0.094 │    0.047 │    0.035 │\n",
      "│  38 │       20 │       0.096 │    0.089 │    0.048 │    0.035 │\n",
      "│  39 │       20 │       0.092 │    0.092 │    0.045 │    0.035 │\n",
      "│  40 │       20 │       0.091 │    0.094 │    0.047 │    0.035 │\n",
      "│  41 │       20 │       0.092 │    0.095 │    0.047 │    0.035 │\n",
      "│  42 │       20 │       0.091 │    0.088 │    0.052 │    0.035 │\n",
      "│  43 │       20 │       0.098 │    0.093 │    0.048 │    0.035 │\n",
      "│  44 │       20 │       0.094 │    0.092 │    0.049 │    0.035 │\n",
      "│  45 │       20 │       0.102 │    0.105 │    0.049 │    0.035 │\n",
      "│  46 │       20 │       0.101 │    0.096 │    0.049 │    0.035 │\n",
      "│  47 │       20 │       0.098 │    0.096 │    0.046 │    0.035 │\n",
      "│  48 │       20 │       0.101 │    0.096 │    0.049 │    0.035 │\n",
      "│  49 │       20 │       0.092 │    0.093 │    0.047 │    0.035 │\n",
      "│  50 │       20 │       0.093 │    0.087 │    0.046 │    0.035 │\n",
      "│  51 │       20 │       0.093 │    0.094 │    0.048 │    0.035 │\n",
      "│  52 │       20 │       0.088 │    0.092 │    0.048 │    0.035 │\n",
      "│  53 │       20 │       0.099 │    0.091 │    0.049 │    0.035 │\n",
      "│  54 │       20 │       0.094 │    0.087 │    0.045 │    0.035 │\n",
      "│  55 │       20 │       0.094 │    0.090 │    0.047 │    0.035 │\n",
      "│  56 │       20 │       0.098 │    0.089 │    0.049 │    0.035 │\n",
      "│  57 │       20 │       0.107 │    0.089 │    0.051 │    0.035 │\n",
      "│  58 │       20 │       0.095 │    0.086 │    0.047 │    0.035 │\n",
      "│  59 │       20 │       0.100 │    0.088 │    0.049 │    0.035 │\n",
      "│  60 │       20 │       0.101 │    0.088 │    0.048 │    0.035 │\n",
      "│  61 │       20 │       0.095 │    0.090 │    0.051 │    0.035 │\n",
      "│  62 │       20 │       0.098 │    0.086 │    0.049 │    0.035 │\n",
      "│  63 │       20 │       0.091 │    0.086 │    0.050 │    0.035 │\n",
      "│  64 │       20 │       0.100 │    0.090 │    0.050 │    0.035 │\n",
      "│  65 │       20 │       0.093 │    0.093 │    0.045 │    0.035 │\n",
      "│  66 │       20 │       0.092 │    0.092 │    0.043 │    0.035 │\n",
      "│  67 │       20 │       0.094 │    0.094 │    0.048 │    0.035 │\n",
      "│  68 │       20 │       0.092 │    0.089 │    0.045 │    0.035 │\n",
      "│  69 │       20 │       0.096 │    0.093 │    0.049 │    0.035 │\n",
      "│  70 │       20 │       0.089 │    0.089 │    0.050 │    0.035 │\n",
      "│  71 │       20 │       0.092 │    0.091 │    0.047 │    0.035 │\n",
      "│  72 │       20 │       0.089 │    0.093 │    0.047 │    0.035 │\n",
      "│  73 │       20 │       0.097 │    0.095 │    0.047 │    0.035 │\n",
      "│  74 │       20 │       0.089 │    0.092 │    0.045 │    0.035 │\n",
      "│  75 │       20 │       0.092 │    0.094 │    0.046 │    0.035 │\n",
      "│  76 │       20 │       0.089 │    0.092 │    0.042 │    0.035 │\n",
      "│  77 │       20 │       0.099 │    0.093 │    0.045 │    0.035 │\n",
      "│  78 │       20 │       0.089 │    0.096 │    0.044 │    0.035 │\n",
      "│  79 │       20 │       0.097 │    0.102 │    0.046 │    0.035 │\n",
      "│  80 │       20 │       0.094 │    0.102 │    0.046 │    0.035 │\n",
      "└─────┴──────────┴─────────────┴──────────┴──────────┴──────────┘\n",
      " 14.453537 seconds (2.78 M allocations: 1.018 GiB, 1.27% gc time)\n"
     ]
    }
   ],
   "source": [
    "@time vanilla_MatrixIRLS_for_PCA(L₀, y, Φ, N = 80, verbose = true);"
   ]
  },
  {
   "cell_type": "code",
   "execution_count": null,
   "metadata": {},
   "outputs": [],
   "source": []
  }
 ],
 "metadata": {
  "kernelspec": {
   "display_name": "Julia 1.5.2",
   "language": "julia",
   "name": "julia-1.5"
  },
  "language_info": {
   "file_extension": ".jl",
   "mimetype": "application/julia",
   "name": "julia",
   "version": "1.5.2"
  }
 },
 "nbformat": 4,
 "nbformat_minor": 4
}
