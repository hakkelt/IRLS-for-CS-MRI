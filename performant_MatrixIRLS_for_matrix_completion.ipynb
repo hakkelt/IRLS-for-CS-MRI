{
 "cells": [
  {
   "cell_type": "code",
   "execution_count": 1,
   "metadata": {},
   "outputs": [],
   "source": [
    "using LinearAlgebra, NBInclude, IterativeSolvers, FunctionOperators"
   ]
  },
  {
   "cell_type": "code",
   "execution_count": 2,
   "metadata": {},
   "outputs": [],
   "source": [
    "include(\"inplace_svd.jl\")\n",
    "@nbinclude(\"helper_functions.ipynb\")"
   ]
  },
  {
   "cell_type": "code",
   "execution_count": 3,
   "metadata": {},
   "outputs": [],
   "source": [
    "Random.seed!(0);"
   ]
  },
  {
   "cell_type": "markdown",
   "metadata": {},
   "source": [
    "## Performant MatrixIRLS for matrix completion\n",
    "\n",
    "_**Note:** Performant = It uses the same optimizations as the fancy version + optimize the implementation by inplace operations._\n",
    "\n",
    "### Sources\n",
    " - Preprint paper by Christian Kümmerle & Claudio Verdun: https://arxiv.org/pdf/0912.3599.pdf\n",
    " - GitHub repo of the preprint paper: https://github.com/ckuemmerle/MatrixIRLS"
   ]
  },
  {
   "cell_type": "markdown",
   "metadata": {},
   "source": [
    "### Algorithm\n",
    " - **Input:** Sampling operator $\\Phi$, observations $\\mathbf{y} \\in \\mathbb{C}^m$, rank estimate $\\tilde{r}$, iteration number $N$.\n",
    " - Initialize $k=0, \\epsilon_0 = \\infty, W^{(0)} = Id.$\n",
    " - **for $k=1$ to $N$ do**\n",
    "    1. **Solve weighted least squares:** Use a *conjugate gradient method* to solve $$\\mathbf{X}^{(k)} = argmin \\langle \\mathbf{X}, W^{(k-1)}(\\mathbf{X}) \\rangle \\text{ subject to } \\Phi(\\mathbf{X}) = \\mathbf{y}.$$\n",
    "    2. **Update smoothing:** Compute $\\tilde{r}+1$-th singular value of $\\mathbf{X}^{(k)}$ to update $$\\epsilon_k = min\\left(\\epsilon_{k-1}, \\sigma_{\\tilde{r}+1}(\\mathbf{X}^{(k)})\\right).$$\n",
    "    3. **Update weight operator:** For $r_k := \\left\\vert\\{i \\in [d] : \\sigma_i(\\mathbf{X}^{(k)}) > \\epsilon_k\\}\\right\\vert$, compute the first $r_k$ singular values $\\sigma_i^{(k)} := \\sigma_i^{(k)}(\\mathbf{X}^{(k)})$ and matrices $\\mathbf{U}^{(k)} \\in \\mathbb{C}^{d_1 \\times r_k}$ and $\\mathbf{V}^{(k)} \\in \\mathbb{C}^{d_2 \\times r_k}$ with leading $r_k$ left/right singular vectors of $\\mathbf{X}^{(k)}$ to update $W^{(k)}$: $$W^{(k)}(\\mathbf{Z}) = \\mathbf{U}^{(k)} \\left[ \\mathbf{H}_k \\circ (\\mathbf{U}^{(k)*} \\mathbf{Z} \\mathbf{V}^{(k)})\\right]\\mathbf{V}^{(k)*},$$ where $\\circ$ denotes the entrywise product of two matrices, and $\\mathbf{H}_k \\in \\mathbb{C}^{d_1 \\times d_2}$ matrix defined as $$(\\mathbf{H}_k)_{ij} := \\left(\\max(\\sigma_i^{(k)}, \\epsilon^{(k)}\\max(\\sigma_j^{(k)}, \\epsilon^{(k)}\\right)^{-1} : \\forall i \\in [d_1] \\text{ and } \\forall j \\in [d_2].$$\n",
    " - **end**\n",
    " - **Output**: $\\mathbf{X}^{(k)}$"
   ]
  },
  {
   "cell_type": "markdown",
   "metadata": {},
   "source": [
    "### Technical details"
   ]
  },
  {
   "cell_type": "markdown",
   "metadata": {},
   "source": [
    "#### Optimization of the computation of the weighted least squares\n",
    "In order to reduce the computational complexity, the weighted least squares step in the algorithm above is computed in a lower dimensional space.\n",
    " - For a given rank rk, we recall that the best rank-$r_k$ approximation of a matrix $X(k)$ can be written such that $$\\mathcal{T}_{r_k}(\\mathbf{X}^{(k)}) := \\underset{\\mathbf{Z}:rank(\\mathbf{Z}) < r_k}{\\arg\\min} \\Vert\\mathbf{Z} - \\mathbf{Z}^{(k)} \\Vert = \\mathbf{U}^{(k)} \\boldsymbol{\\Sigma}^{(k)} \\mathbf{V}^{(k)*},$$ where $\\Vert \\cdot \\Vert$ can be any unitary invarian norm.\n",
    " - Let now $$T_k := T_{\\mathcal{T}_{r_k}(\\mathbf{X}^{(k)})}\\mathcal{M}_{r_k} :=  \\left\\{\\mathbf{U}^{(k)} \\Gamma_1 \\mathbf{V}^{(k)*} + \\mathbf{U}^{(k)} \\Gamma_2 (\\mathbf{I} - \\mathbf{V}^{(k)} \\mathbf{V}^{(k)*}) + (\\mathbf{I} - \\mathbf{U}^{(k)} \\mathbf{U}^{(k)*}) \\Gamma_3 \\mathbf{V}^{(k)*} : \\\\ \\Gamma_1 \\in \\mathbb{C}^{r_k \\times r_k}, \\Gamma_2 \\in \\mathbb{C}^{r_k \\times d_2}, \\Gamma_2 \\mathbf{V}^{(k)} = \\mathbf{0}, \\Gamma_3 \\in \\mathbb{C}^{d_1 \\times r_k}, \\mathbf{U}^{(k)*}\\Gamma_3 = \\mathbf{0}\\right\\}$$ be the tangent space of the manifold of rank-$r_k$ matrices $\\mathcal{M}_{r_k}$ of dimension $(d_1 \\times d_2)$ at $\\mathcal{T}_{r_k}(\\mathbf{X}^{(k)})$.\n",
    " - For practical considerations we need to introduce vector space $$S_k := \\left\\{ \\gamma = (\\gamma_1^T, \\gamma_2^T, \\gamma_3^T)^T \\in \\mathbb{C}^{d_1 + d_2 + r_k} : \\Gamma_1 = (\\gamma_1)_{mat} \\in \\mathbb{C}^{r_k \\times r_k}, \\Gamma_2 = (\\gamma_2)_{mat} \\in \\mathbb{C}^{r_k \\times d_2}, \\Gamma_2 \\mathbf{V}^{(k)} = \\mathbf{0}, \\Gamma_3 = (\\gamma_3)_{mat} \\in \\mathbb{C}^{d_1 \\times r_k}, \\mathbf{U}^{(k)*}\\Gamma_3 = \\mathbf{0}\\right\\} \\subset \\mathbb{C}^{r_k(d_1 + d_2 + r_k)},$$ where $mat$ is the matricization operator of appropriate dimension that stacks column after column according to the desired dimensions.\n",
    " - We can now identify a structure in $W^{(k)}$ that enables us to write it more compactly: Let $P_{T_k}: S_k \\rightarrow T_k$ be the parametrization operator such that $$P_{T_k}(\\gamma) := \\mathbf{U}^{(k)} \\Gamma_1 \\mathbf{V}^{(k)*} + \\mathbf{U}^{(k)} \\Gamma_2 (\\mathbf{I} - \\mathbf{V}^{(k)} \\mathbf{V}^{(k)*}) + (\\mathbf{I} - \\mathbf{U}^{(k)} \\mathbf{U}^{(k)*}) \\Gamma_3 \\mathbf{V}^{(k)*} : \\gamma \\in S_k$$.\n",
    " - As we know that $\\Gamma_2 \\mathbf{V}^{(k)} = \\mathbf{0}$, and $\\mathbf{U}^{(k)*}\\Gamma_3 = \\mathbf{0}$, we can simplify the parametrization operator: $$P_{T_k}(\\gamma) = \\mathbf{U}^{(k)} \\Gamma_1 \\mathbf{V}^{(k)*} + \\mathbf{U}^{(k)} \\Gamma_2 + \\Gamma_3 \\mathbf{V}^{(k)*}$$\n",
    " - Its adjoint operator $$P_{T_k}^*(\\mathbf{Z}) = \\left((\\mathbf{U}^{(k)*} \\mathbf{Z} \\mathbf{V}^{(k)})_{vec}^T, (\\mathbf{U}^{(k)*} Z (\\mathbf{I} - \\mathbf{V}^{(k)} \\mathbf{V}^{(k)*}))_{vec}^T, ((\\mathbf{I} - \\mathbf{U}^{(k)} \\mathbf{U}^{(k)*}) \\mathbf{Z} \\mathbf{V}^{(k)*})_{vec}^T\\right)^T : \\mathbf{Z} \\in \\mathbb{C}^{d_1 \\times d_2}$$. "
   ]
  },
  {
   "cell_type": "markdown",
   "metadata": {},
   "source": [
    " - Let us divide matrix $\\mathbf{H}^{(k)}$ into four blocks $$\\mathbf{H}^{(k)} = \\begin{bmatrix}\\mathbf{H}^{(k)}_{1,1} & \\mathbf{H}^{(k)}_{1,2} \\\\ \\mathbf{H}^{(k)}_{2,1} & \\epsilon_k^{-2} \\mathbf{1}\\end{bmatrix},$$ such that $\\mathbf{H}^{(k)}_{1,1} \\in \\mathbb{C}^{r_k \\times r_k}$ with $$(\\mathbf{H}^{(k)}_{1,1})_{i,j} = \\left(\\sigma_i \\sigma_j \\right)^{-1},$$ and define diagonal matrix $\\mathbf{D}^{(k)} \\in \\mathbb{C}^{r_k \\times r_k}$ as $$\\mathbf{D}_{i,i}^{(k)} := \\left(\\sigma_i^{(k)} \\epsilon_k \\right)^{-1}.$$\n",
    " - As all columns of $\\mathbf{H}^{(k)}_{1,2}$ / all rows of $\\mathbf{H}^{(k)}_{2,1}$ has the same values as the diagonal of $\\mathbf{D}^{(k)}$, we can replace the element-wise multiplication by block $\\mathbf{H}^{(k)}_{1,2}$ / $\\mathbf{H}^{(k)}_{2,1}$ with left / right matrix multiplication by $\\mathbf{D}^{(k)}$: $$\\begin{equation*}\n",
    "\\begin{split}\n",
    "W^{(k)}(\\mathbf{Z}) &= \\mathbf{U}_k \\left[\\mathbf{H}_k \\circ (\\mathbf{U}_k^{*} \\mathbf{Z} \\mathbf{V}_k)\\right] \\mathbf{V}_k^{*} \\\\\n",
    "&=\\begin{bmatrix} \n",
    "    \\mathbf{U}^{(k)} & \\mathbf{U}_{\\perp}^{(k)}\n",
    "\\end{bmatrix}\n",
    "\\left(\\mathbf{H}_k\n",
    "\\circ\n",
    "\\begin{bmatrix}\n",
    "\\mathbf{U}^{(k)*} \\mathbf{Z} \\mathbf{V}^{(k)} &  \\mathbf{U}^{(k)*} \\mathbf{Z} \\mathbf{V}_{\\perp}^{(k)} \\\\\n",
    "\\mathbf{U}_{\\perp}^{(k)*} \\mathbf{Z} \\mathbf{V}^{(k)} & \\mathbf{U}_{\\perp}^{(k)*} \\mathbf{Z} \\mathbf{V}_{\\perp}^{(k)} \n",
    "\\end{bmatrix}\n",
    "\\right)\n",
    "\\begin{bmatrix} \n",
    "    \\mathbf{V}^{(k)*} \\\\ \\mathbf{V}_{\\perp}^{(k)*}\n",
    "\\end{bmatrix} \\\\\n",
    "&= \\begin{bmatrix} \n",
    "    \\mathbf{U}^{(k)} & \\mathbf{U}_{\\perp}^{(k)}\n",
    "\\end{bmatrix}\n",
    "\\left(\n",
    "\\begin{bmatrix}\n",
    "\\mathbf{H}^{(k)} &  \\mathbf{H}_{1,2}^{(k)} \\\\\n",
    "\\mathbf{H}_{2,1}^{(k)} & \\epsilon_k^{-2} \\mathbf{1}\n",
    "\\end{bmatrix} \n",
    "\\circ \n",
    "\\begin{bmatrix}\n",
    "\\mathbf{U}^{(k)*} \\mathbf{Z} \\mathbf{V}^{(k)} &  \\mathbf{U}^{(k)*} \\mathbf{Z} \\mathbf{V}_{\\perp}^{(k)} \\\\\n",
    "\\mathbf{U}_{\\perp}^{(k)*} \\mathbf{Z} \\mathbf{V}^{(k)} & \\mathbf{U}_{\\perp}^{(k)*} \\mathbf{Z} \\mathbf{V}_{\\perp}^{(k)} \n",
    "\\end{bmatrix}\n",
    "\\right)\n",
    "\\begin{bmatrix} \n",
    "    \\mathbf{V}^{(k)*} \\\\ \\mathbf{V}_{\\perp}^{(k)*}\n",
    "\\end{bmatrix}  \\\\\n",
    "&=\n",
    "\\begin{bmatrix} \n",
    "    \\mathbf{U}^{(k)} & \\mathbf{U}_{\\perp}^{(k)}\n",
    "\\end{bmatrix}\n",
    "\\begin{bmatrix}\n",
    "\\mathbf{H}^{(k)} \\circ \\left(\\mathbf{U}^{(k)*} \\mathbf{Z} \\mathbf{V}^{(k)}\\right) &  \\mathbf{D}^{(k)} \\mathbf{U}^{(k)*} \\mathbf{Z} \\mathbf{V}_{\\perp}^{(k)} \\\\\n",
    "\\mathbf{U}_{\\perp}^{(k)*} \\mathbf{Z} \\mathbf{V}^{(k)}\\mathbf{D}^{(k)}  & \\epsilon_k^{-2} \\mathbf{U}_{\\perp}^{(k)*} \\mathbf{Z} \\mathbf{V}_{\\perp}^{(k)} \n",
    "\\end{bmatrix}\n",
    "\\begin{bmatrix} \n",
    "    \\mathbf{V}^{(k)*} \\\\ \\mathbf{V}_{\\perp}^{(k)*}\n",
    "\\end{bmatrix},\n",
    "\\end{split}\n",
    "\\end{equation*}$$\n",
    " - Finally, we define $\\mathbf{D}_{S_k} \\in \\mathbb{C}^{r_k(d_1 + d_2 + r_k) \\times r_k(d_1 + d_2 + r_k)}$ as a diagonal matrix with diagonal entries that are equal to entries of $\\mathbf{H}^{(k)}_{1,1}$ or $\\mathbf{D}^{(k)}$: $$\\mathbf{D}_{S_k} = \\begin{bmatrix} diag\\left((\\mathbf{H}^{(k)}_{1,1})_{vec}\\right) & & 0 \\\\ & \\mathbf{D}^{(k)} \\otimes \\mathbf{I}_{(d_1 \\times d_1)} & \\\\ 0 & & \\mathbf{I}_{(d_2 \\times d_2)} \\otimes \\mathbf{D}^{(k)}\\end{bmatrix},$$ where $diag$ transforms a vector to a diagonal matrix, $\\otimes$ denotes the Kronecker-product, and $\\mathbf{I}_{(d_1 \\times d_1)}, \\mathbf{I}_{(d_2 \\times d_2)}$ are identity matrices of size $(d_1 \\times d_1)$ and $(d_2 \\times d_2)$.\n",
    "   - It's easy to see that $diag\\left((\\mathbf{H}^{(k)}_{1,1})_{vec}\\right) (\\mathbf{M})_{vec} = \\left(\\mathbf{H}^{(k)}_{1,1} \\circ \\mathbf{M}\\right)_{vec}$.\n",
    "   - Kronecker-product is needed to transform diagonal-matrix&ndash;matrix multiplication to diagonal-matrix&ndash;vectorized-matrix multiplication. E.g. $\\mathbf{AB} = (\\mathbf{I} \\otimes \\mathbf{A})\\mathbf{B}$ when $\\mathbf{A}$ is a diagonal matrix, and $\\mathbf{AB} = (\\mathbf{B}^* \\otimes \\mathbf{I})\\mathbf{A}$ when $\\mathbf{B}$ is a diagonal matrix."
   ]
  },
  {
   "cell_type": "markdown",
   "metadata": {},
   "source": [
    " - Using the definitions above, we can re-formulate $\\mathbf{W}^{(k)}$ as $$\\mathbf{W}^{(k)} = P_{T_k} \\left(\\mathbf{D}_{S_k} - \\epsilon_k^{-2} \\mathbf{I}_{S_k}\\right)P_{T_k}^* + \\epsilon_k^{-2} \\mathbf{I},$$ and we can summarize the optimized implementation of the conjugate gradient step for matrix completion:\n",
    "   1. Calculate $P^*_{T_k} \\Phi^*(\\mathbf{y}) \\in S_k$\n",
    "   2. Solve $\\left(\\frac{\\epsilon_k^2 \\mathbf{I}_{S_k}}{\\mathbf{D}_{S_k}^{-1} - \\epsilon_k^2 \\mathbf{I}_{S_k}} + P^*_{T_k} \\Phi^* \\Phi P_{T_k}\\right)\\gamma_k = P^*_{T_k} \\Phi^*(\\mathbf{y})$ for $\\gamma_k \\in S_k$ by conjugate gradient method.\n",
    "   3. Calculate residual $\\mathbf{r}_k := y - \\Phi P_{T_k} \\gamma_k \\in \\mathbb{C}^m$\n",
    "   4. Calculate $\\tilde{\\gamma}_k = \\left(\\frac{\\mathbf{D}_{S_k}^{-1}}{\\mathbf{D}_{S_k}^{-1} - \\epsilon_k^2 \\mathbf{I}_{S_k}}\\right)\\gamma_k - P^*_{T_k} \\Phi^*(r_k) \\in S_k$.\n",
    "   5. Obtain an implicit representation of the new iterate $\\mathbf{X}^{(k+1)} \\in \\mathbb{C}^{d_1 \\times d_2}$ such that $\\mathbf{X}^{(k+1)} = \\Phi^*(\\mathbf{r}_k) + P_{T_k}(\\tilde{\\gamma}_k)$. "
   ]
  },
  {
   "cell_type": "code",
   "execution_count": 4,
   "metadata": {},
   "outputs": [
    {
     "data": {
      "text/plain": [
       "split (generic function with 1 method)"
      ]
     },
     "execution_count": 4,
     "metadata": {},
     "output_type": "execute_result"
    }
   ],
   "source": [
    "function update_H!(H, σ)\n",
    "    for ind in CartesianIndices(H)\n",
    "        i, j = ind[1], ind[2]\n",
    "        H[ind] = 1 / (σ[i] * σ[j])\n",
    "    end\n",
    "end\n",
    "\n",
    "function update_D!(D, σ, ϵᵏ)\n",
    "    for j in eachindex(D)\n",
    "        D[j] = 1 / (σ[j] * ϵᵏ)\n",
    "    end\n",
    "end\n",
    "\n",
    "split(γ, r̃, d₁, d₂) = @views begin\n",
    "    γ₁ = reshape(γ[1:r̃^2], r̃, r̃)\n",
    "    γ₂ = reshape(γ[r̃^2+1:r̃*(r̃+d₂)], r̃, d₂)\n",
    "    γ₃ = reshape(γ[r̃*(r̃+d₂)+1:r̃*(r̃+d₁+d₂)], d₁, r̃)\n",
    "    γ₁, γ₂, γ₃\n",
    "end"
   ]
  },
  {
   "cell_type": "code",
   "execution_count": 5,
   "metadata": {},
   "outputs": [
    {
     "data": {
      "text/plain": [
       "get_P_operator (generic function with 1 method)"
      ]
     },
     "execution_count": 5,
     "metadata": {},
     "output_type": "execute_result"
    }
   ],
   "source": [
    "function get_P_operator(Uᵏ, Vᵏ, Vtᵏ, tempᵈ¹ˣᵈ²)\n",
    "    \n",
    "    r̃ = size(Uᵏ, 2)\n",
    "    d₁, d₂ = size(tempᵈ¹ˣᵈ²)\n",
    "    tempᵈ¹ˣʳ, tempʳˣᵈ² = similar(Uᵏ, d₁, r̃), similar(Uᵏ, r̃, d₂)\n",
    "    \n",
    "    I_VV, I_UU = similar(Uᵏ, d₂, d₂), similar(Uᵏ, d₁, d₁)\n",
    "    Iᵈ¹ˣᵈ¹, Iᵈ²ˣᵈ² = Diagonal(ones(d₁)), Diagonal(ones(d₂))\n",
    "    \n",
    "    Pᵏ = FunctionOperator{dType}(name=\"Pᵏ\", inDims = (r̃*(r̃+d₁+d₂),), outDims = (d₁, d₂),\n",
    "        forw = (b,γ) -> begin\n",
    "                γ₁, γ₂, γ₃ = split(γ, r̃, d₁, d₂)\n",
    "                # (Uᵏ * γ₁ + γ₃) * Vᵏ' + Uᵏ * γ₂\n",
    "                mul!(tempᵈ¹ˣʳ, Uᵏ, γ₁)\n",
    "                tempᵈ¹ˣʳ .+= γ₃\n",
    "                mul!(b, tempᵈ¹ˣʳ, Vtᵏ)\n",
    "                mul!(tempᵈ¹ˣᵈ², Uᵏ, γ₂)\n",
    "                b .+= tempᵈ¹ˣᵈ²\n",
    "            end,\n",
    "        backw = (γ,Φᵃy) -> begin\n",
    "                γ₁, γ₂, γ₃ = split(γ, r̃, d₁, d₂)\n",
    "                # γ₁ .= Uᵏ' * Φᵃy * Vᵏ\n",
    "                mul!(tempᵈ¹ˣʳ, Φᵃy, Vᵏ)\n",
    "                mul!(γ₁, Uᵏ', tempᵈ¹ˣʳ)\n",
    "                # γ₃ .= (I - Uᵏ*Uᵏ') * Φᵃy * Vᵏ\n",
    "                I_UU .= Iᵈ¹ˣᵈ¹ .- mul!(I_UU, Uᵏ, Uᵏ')\n",
    "                mul!(γ₃, I_UU, tempᵈ¹ˣʳ)\n",
    "                # γ₂ .= Uᵏ' * Φᵃy * (I - Vᵏ*Vᵏ')\n",
    "                mul!(tempʳˣᵈ², Uᵏ', Φᵃy)\n",
    "                I_VV .= Iᵈ²ˣᵈ² .- mul!(I_VV, Vᵏ, Vtᵏ)\n",
    "                mul!(γ₂, tempʳˣᵈ², I_VV)\n",
    "                #γ = vcat(vec(γ₁), vec(γ₂), vec(γ₃)) # we don't need this line as γ₁, γ₂, γ₃ are views\n",
    "                γ\n",
    "            end)\n",
    "    \n",
    "    Pᵏ\n",
    "end"
   ]
  },
  {
   "cell_type": "code",
   "execution_count": 6,
   "metadata": {},
   "outputs": [
    {
     "data": {
      "text/plain": [
       "get_CG_operator_function (generic function with 1 method)"
      ]
     },
     "execution_count": 6,
     "metadata": {},
     "output_type": "execute_result"
    }
   ],
   "source": [
    "function get_CG_operator_function(PᵃΦᵃΦP, Hᵏ₁₁, Dᵏ, tempʳ⁽ʳ⁺ᵈ¹⁺ᵈ²⁾, tempʳˣʳ, d₁, d₂)\n",
    "    r̃ = size(Hᵏ₁₁, 1)\n",
    "    tempʳ = @view tempʳˣʳ[1:r̃]\n",
    "    (Hᵏ₁₁, Dᵏ, ϵₖ) ->\n",
    "        FunctionOperator{dType}(name = \"CG_op\", inDims = (r̃*(r̃+d₁+d₂),), outDims = (r̃*(r̃+d₁+d₂),),\n",
    "            forw = (b, γ) ->  begin\n",
    "                #=I⁽ᵈ¹ˣᵈ¹⁾, I⁽ᵈ²ˣᵈ²⁾ = Diagonal(ones(d₁)), Diagonal(ones(d₂))\n",
    "                D_Sₖ = Diagonal( vcat( vec(Hᵏ₁₁), diag(kron(Diagonal(Dᵏ), I⁽ᵈ¹ˣᵈ¹⁾)), diag(kron(I⁽ᵈ²ˣᵈ²⁾, Diagonal(Dᵏ))) ) )\n",
    "                D_Sₖ⁻¹ = I / D_Sₖ\n",
    "                b .= (ϵₖ^2 * I / (D_Sₖ⁻¹ - ϵₖ^2 * I)) * γ + PᵃΦᵃΦP * γ=#\n",
    "                # An efficient implementation for:\n",
    "                # b .= (ϵₖ^2 * I / (D_Sₖ⁻¹ - ϵₖ^2 * I)) * γ + Pᵏ' * Φ' * Φ * Pᵏ * γ\n",
    "                mul!(tempʳ⁽ʳ⁺ᵈ¹⁺ᵈ²⁾, PᵃΦᵃΦP, γ)\n",
    "                γ₁, γ₂, γ₃ = split(γ, r̃, d₁, d₂)\n",
    "                b₁, b₂, b₃ = split(b, r̃, d₁, d₂)\n",
    "                tempʳˣʳ .= ϵₖ^2 ./ (1 ./ Hᵏ₁₁ .- ϵₖ^2)\n",
    "                b₁ .= tempʳˣʳ .* γ₁\n",
    "                tempʳ .= ϵₖ^2 ./ (1 ./ Dᵏ .- ϵₖ^2)\n",
    "                b₂ .= reshape(tempʳ, :, 1) .* γ₂ # broadcasting\n",
    "                b₃ .= reshape(tempʳ, 1, :) .* γ₃ # broadcasting\n",
    "                # b₁, b₂, b₃ are views, so they update b\n",
    "                b .+= tempʳ⁽ʳ⁺ᵈ¹⁺ᵈ²⁾\n",
    "            end)\n",
    "end"
   ]
  },
  {
   "cell_type": "code",
   "execution_count": 7,
   "metadata": {},
   "outputs": [
    {
     "data": {
      "text/plain": [
       "get_map_to_γ̃ₖ_function (generic function with 1 method)"
      ]
     },
     "execution_count": 7,
     "metadata": {},
     "output_type": "execute_result"
    }
   ],
   "source": [
    "function get_map_to_γ̃ₖ_function(PᵃΦᵃ, Hᵏ₁₁, Dᵏ, tempʳ⁽ʳ⁺ᵈ¹⁺ᵈ²⁾, tempʳˣʳ, d₁, d₂)\n",
    "    r̃ = size(Hᵏ₁₁, 1)\n",
    "    tempʳ = @view tempʳˣʳ[1:r̃]\n",
    "    (γᵏ, rᵏ, ϵₖ) -> begin\n",
    "        # An efficient implementation for:\n",
    "        # γ̃ₖ = (D_Sₖ⁻¹ / (D_Sₖ⁻¹ - ϵₖ^2 * I)) * γᵏ - Pᵏ' * Φ' * rᵏ\n",
    "        mul!(tempʳ⁽ʳ⁺ᵈ¹⁺ᵈ²⁾, PᵃΦᵃ, rᵏ)\n",
    "        γ₁, γ₂, γ₃ = split(γᵏ, r̃, d₁, d₂)\n",
    "        tempʳˣʳ .= (1 ./ Hᵏ₁₁) ./ (1 ./ Hᵏ₁₁ .- ϵₖ^2)\n",
    "        γ₁ .= tempʳˣʳ .* γ₁\n",
    "        tempʳ .= (1 ./ Dᵏ) ./ (1 ./ Dᵏ .- ϵₖ^2)\n",
    "        γ₂ .*= reshape(tempʳ, :, 1) # broadcasting\n",
    "        γ₃ .*= reshape(tempʳ, 1, :) # broadcasting\n",
    "        # γ₁, γ₂, γ₃ are views, so they update γᵏ\n",
    "        γᵏ .-= tempʳ⁽ʳ⁺ᵈ¹⁺ᵈ²⁾\n",
    "        γᵏ\n",
    "    end\n",
    "end"
   ]
  },
  {
   "cell_type": "code",
   "execution_count": 8,
   "metadata": {},
   "outputs": [
    {
     "data": {
      "text/plain": [
       "performant_MatrixIRLS_for_PCA (generic function with 1 method)"
      ]
     },
     "execution_count": 8,
     "metadata": {},
     "output_type": "execute_result"
    }
   ],
   "source": [
    "function performant_MatrixIRLS_for_PCA(\n",
    "        Xᴳᵀ::AbstractArray,                     # ground truth for MSE evaluation\n",
    "        y::AbstractArray,                       # under-sampled data\n",
    "        Φ::FunctionOperator;                    # sampling operator\n",
    "        img_size::NTuple = size(Xᴳᵀ),           # size of output matrix\n",
    "        r̃::Int = 0,                             # rank estimate of solution\n",
    "        maxIter::Union{Int, Nothing} = nothing, # number of CG iteration steps\n",
    "        N::Int = 1000,                          # number of iterations\n",
    "        verbose::Bool = false)                  # print rank and loss value in each iteration\n",
    "    \n",
    "    # Initialize variables\n",
    "    dType = eltype(y)\n",
    "    d₁, d₂ = img_size\n",
    "    r̃ == 0 && (r̃ = rank(Xᴳᵀ))\n",
    "    maxIter = maxIter isa Nothing ? r̃*(r̃+d₁+d₂) : maxIter\n",
    "    ϵₖ = Inf\n",
    "    Xᵏ = Φ' * y # Initial guess: fill missing values with zeros\n",
    "    σ, k = 0, 0 # I just want them to be available outside of the loop\n",
    "    \n",
    "    # Preallocate arrays\n",
    "    F = svd(Xᵏ)\n",
    "    Uᵏ, σ, Vᵏ, Vtᵏ = F.U[:, 1:r̃], F.S, F.V[:, 1:r̃], F.Vt[1:r̃, :]\n",
    "    Hᵏ₁₁, Dᵏ = similar(y, real(dType), r̃, r̃), similar(y, real(dType), r̃)\n",
    "    rᵏ, tempᵈ¹ˣᵈ², tempʳˣʳ = similar(y), similar(y, d₁, d₂), similar(Hᵏ₁₁)\n",
    "    b, γᵏ, tempʳ⁽ʳ⁺ᵈ¹⁺ᵈ²⁾ = [Vector{dType}(undef, r̃*(r̃+d₁+d₂)) for _ in 1:4]\n",
    "    statevars = IterativeSolvers.CGStateVariables(similar(γᵏ), similar(γᵏ), similar(γᵏ))\n",
    "    \n",
    "    # Create operators\n",
    "    Pᵏ = get_P_operator(Uᵏ, Vᵏ, Vtᵏ, tempᵈ¹ˣᵈ²)\n",
    "    PᵃΦᵃΦP, ΦP, PᵃΦᵃ = Pᵏ' * Φ' * Φ * Pᵏ, Φ * Pᵏ, Pᵏ' * Φ'\n",
    "    get_CG_op = get_CG_operator_function(PᵃΦᵃΦP, Hᵏ₁₁, Dᵏ, tempʳ⁽ʳ⁺ᵈ¹⁺ᵈ²⁾, tempʳˣʳ, d₁, d₂)\n",
    "    map_to_γ̃ₖ = get_map_to_γ̃ₖ_function(PᵃΦᵃ, Hᵏ₁₁, Dᵏ, tempʳ⁽ʳ⁺ᵈ¹⁺ᵈ²⁾, tempʳˣʳ, d₁, d₂)\n",
    "    \n",
    "    verbose && (table = DebugTableModule.DebugTable(\n",
    "        (\"k\", () -> k, 3), (\"rank(Xᵏ)\", () -> rank(Xᵏ, atol=1e-3), 3),\n",
    "        (\"‖Xᴳᵀ - Xᵏ‖₂\", () -> opnorm(Xᴳᵀ - Xᵏ, 2), 3), (\"σ₁\", () -> σ[1]),\n",
    "        (\"σᵣ₊₁\", () -> σ[r̃+1]), (\"ϵₖ\", () -> ϵₖ)))\n",
    "    \n",
    "    while k <= N && ϵₖ > 1e-3\n",
    "        \n",
    "        # Find leading rₖ left/right singular vectors of Xᵏ and calculate all singular values\n",
    "        svd!(tempᵈ¹ˣᵈ² .= Xᵏ, F)\n",
    "        @views begin Uᵏ .= F.U[:, 1:r̃]; Vᵏ .=  F.V[:, 1:r̃]; Vtᵏ .= F.Vt[1:r̃, :]; end\n",
    "        \n",
    "        # Print some info\n",
    "        verbose && DebugTableModule.printRow(table)\n",
    "        \n",
    "        # Step 2.\n",
    "        ϵₖ = min(ϵₖ, σ[r̃+1])\n",
    "        \n",
    "        # Step 3.\n",
    "        # We skip calculating Wᵏ in favour of the optimized implementation:\n",
    "        update_H!(Hᵏ₁₁, σ)\n",
    "        update_D!(Dᵏ, σ, ϵₖ)\n",
    "        \n",
    "        # Pᵏ, PᵃΦᵃΦP, ΦP, PᵃΦᵃ operators will be automatically updated\n",
    "        # as they are linked to Hᵏ₁₁ and Dᵏ, so they always use the most recent values\n",
    "        CG_op = get_CG_op(Hᵏ₁₁, Dᵏ, ϵₖ)\n",
    "        \n",
    "        # Step 1.\n",
    "        mul!(b, PᵃΦᵃ, y)             # right hand side for CG\n",
    "        mul!(γᵏ, Pᵏ', Xᵏ)            # initial value for CG\n",
    "        cg!(γᵏ, CG_op, b, maxiter = maxIter, statevars = statevars)\n",
    "        rᵏ .= y .- mul!(rᵏ, ΦP,  γᵏ) # rᵏ = y - Φ * Pᵏ * γᵏ\n",
    "        # Xᵏ = Φ' * rᵏ + Pᵏ * γ̃ₖ\n",
    "        mul!(Xᵏ, Pᵏ, map_to_γ̃ₖ(γᵏ, rᵏ, ϵₖ))\n",
    "        Xᵏ .+= mul!(tempᵈ¹ˣᵈ², Φ', rᵏ)\n",
    "        \n",
    "        k += 1\n",
    "    end\n",
    "    \n",
    "    # Print some info\n",
    "    verbose && DebugTableModule.printRow(table, last = true)\n",
    "    \n",
    "    return Xᵏ\n",
    "end"
   ]
  },
  {
   "cell_type": "markdown",
   "metadata": {},
   "source": [
    "# Numerical Experiments\n",
    "\n",
    "### General parameters"
   ]
  },
  {
   "cell_type": "code",
   "execution_count": 9,
   "metadata": {},
   "outputs": [],
   "source": [
    "d₁, d₂ = 50, 50     # Matrix dimensions\n",
    "r = 7               # Desired rank\n",
    "dType = ComplexF64; # Type of matrix elements"
   ]
  },
  {
   "cell_type": "markdown",
   "metadata": {},
   "source": [
    "### Generate Model"
   ]
  },
  {
   "cell_type": "markdown",
   "metadata": {},
   "source": [
    "#### Sampling Mask ($\\Phi$)\n",
    "\n",
    "_**Requirement towards the sampling mask:** It must have at least $r$ non-zero entries in each row and each column._"
   ]
  },
  {
   "cell_type": "code",
   "execution_count": 10,
   "metadata": {},
   "outputs": [
    {
     "name": "stdout",
     "output_type": "stream",
     "text": [
      "r = 7\n",
      "minimum number of non-zero entries in each column: 9\n",
      "minimum number of non-zero entries in each column: 9\n"
     ]
    }
   ],
   "source": [
    "df = r * (d₁ + d₂ - r) # Number of degrees of freedom of the setting\n",
    "m = floor(Int, min(1.05 * df, d₁ * d₂))\n",
    "Φᴹ = generateΦ(d₁, d₂, r, m)\n",
    "Φ = FunctionOperator{dType}(name = \"Φ\", inDims = (d₁, d₂), outDims = (d₁, d₂),\n",
    "    forw = (b,x) -> b .= Φᴹ .* x, backw = (b,x) -> b .= x)\n",
    "@show r\n",
    "println(\"minimum number of non-zero entries in each column: \", Int(minimum(sum(Φᴹ, dims=1))))\n",
    "println(\"minimum number of non-zero entries in each column: \", Int(minimum(sum(Φᴹ, dims=2))))"
   ]
  },
  {
   "cell_type": "markdown",
   "metadata": {},
   "source": [
    "### Generate Data"
   ]
  },
  {
   "cell_type": "markdown",
   "metadata": {},
   "source": [
    "Create a random rank-$r$ matrix $L_0 \\in \\mathbb{C}^{d_1 \\times d_2}$ such that $L_0 = U_0 V_0^*$, where $U_0 \\in \\mathbb{C}^{d_1 \\times r}$ and $V_0 \\in \\mathbb{C}^{d_2 \\times r}$, and then sub-sample this low-rank matrix."
   ]
  },
  {
   "cell_type": "code",
   "execution_count": 11,
   "metadata": {},
   "outputs": [
    {
     "name": "stdout",
     "output_type": "stream",
     "text": [
      "size(L₀) = (50, 50)\n",
      "rank(L₀) = 7\n",
      "rank(y) = 50\n"
     ]
    }
   ],
   "source": [
    "L₀ = generateLowRankComponent_Christian(d₁, d₂, r, dType)\n",
    "@show size(L₀)\n",
    "@show rank(L₀)\n",
    "\n",
    "y = Φ * L₀\n",
    "@show rank(y);"
   ]
  },
  {
   "cell_type": "markdown",
   "metadata": {},
   "source": [
    "### Running The Reconstruction"
   ]
  },
  {
   "cell_type": "code",
   "execution_count": 13,
   "metadata": {},
   "outputs": [
    {
     "name": "stdout",
     "output_type": "stream",
     "text": [
      "┌─────┬──────────┬─────────────┬──────────┬──────────┬──────────┐\n",
      "│  k  │ rank(Xᵏ) │ ‖Xᴳᵀ - Xᵏ‖₂ │    σ₁    │   σᵣ₊₁   │    ϵₖ    │\n",
      "├─────┼──────────┼─────────────┼──────────┼──────────┼──────────┤\n",
      "│   0 │       50 │      51.429 │   23.947 │   13.997 │      Inf │\n",
      "│   1 │       50 │      45.493 │   34.012 │   10.687 │   13.997 │\n",
      "│   2 │       50 │      39.913 │   46.980 │    8.003 │   10.687 │\n",
      "│   3 │       50 │      35.877 │   56.017 │    5.916 │    8.003 │\n",
      "│   4 │       50 │      32.801 │   60.756 │    4.561 │    5.916 │\n",
      "│   5 │       50 │      30.720 │   63.535 │    3.884 │    4.561 │\n",
      "│   6 │       50 │      29.202 │   65.422 │    3.326 │    3.884 │\n",
      "│   7 │       50 │      27.600 │   66.714 │    2.663 │    3.326 │\n",
      "│   8 │       50 │      25.752 │   67.623 │    1.930 │    2.663 │\n",
      "│   9 │       50 │      23.815 │   68.335 │    1.461 │    1.930 │\n",
      "│  10 │       50 │      22.146 │   68.809 │    1.126 │    1.461 │\n",
      "│  11 │       50 │      21.085 │   69.085 │    0.892 │    1.126 │\n",
      "│  12 │       50 │      20.067 │   69.214 │    0.746 │    0.892 │\n",
      "│  13 │       50 │      19.053 │   69.238 │    0.631 │    0.746 │\n",
      "│  14 │       50 │      18.058 │   69.198 │    0.537 │    0.631 │\n",
      "│  15 │       49 │      17.080 │   69.122 │    0.458 │    0.537 │\n",
      "│  16 │       50 │      16.116 │   69.027 │    0.393 │    0.458 │\n",
      "│  17 │       50 │      15.165 │   68.917 │    0.338 │    0.393 │\n",
      "│  18 │       50 │      14.233 │   68.795 │    0.293 │    0.338 │\n",
      "│  19 │       50 │      13.328 │   68.661 │    0.254 │    0.293 │\n",
      "│  20 │       49 │      12.454 │   68.517 │    0.222 │    0.254 │\n",
      "│  21 │       50 │      11.616 │   68.370 │    0.196 │    0.222 │\n",
      "│  22 │       50 │      10.813 │   68.224 │    0.175 │    0.196 │\n",
      "│  23 │       50 │      10.041 │   68.088 │    0.157 │    0.175 │\n",
      "│  24 │       49 │       9.292 │   67.967 │    0.142 │    0.157 │\n",
      "│  25 │       50 │       8.562 │   67.867 │    0.128 │    0.142 │\n",
      "│  26 │       50 │       7.846 │   67.791 │    0.114 │    0.128 │\n",
      "│  27 │       49 │       7.143 │   67.739 │    0.102 │    0.114 │\n",
      "│  28 │       49 │       6.453 │   67.710 │    0.090 │    0.102 │\n",
      "│  29 │       49 │       5.777 │   67.703 │    0.078 │    0.090 │\n",
      "│  30 │       49 │       5.116 │   67.714 │    0.067 │    0.078 │\n",
      "│  31 │       48 │       4.471 │   67.740 │    0.056 │    0.067 │\n",
      "│  32 │       48 │       3.844 │   67.777 │    0.047 │    0.056 │\n",
      "│  33 │       47 │       3.235 │   67.822 │    0.037 │    0.047 │\n",
      "│  34 │       47 │       2.641 │   67.871 │    0.029 │    0.037 │\n",
      "│  35 │       46 │       2.064 │   67.923 │    0.022 │    0.029 │\n",
      "│  36 │       45 │       1.511 │   67.973 │    0.015 │    0.022 │\n",
      "│  37 │       42 │       1.001 │   68.017 │ 9.82e-03 │    0.015 │\n",
      "│  38 │       36 │       0.567 │   68.052 │ 5.51e-03 │ 9.82e-03 │\n",
      "│  39 │       21 │       0.246 │   68.074 │ 2.41e-03 │ 5.51e-03 │\n",
      "│  40 │        7 │       0.065 │   68.085 │ 6.51e-04 │ 2.41e-03 │\n",
      "│  41 │        7 │    6.16e-03 │   68.085 │ 6.51e-04 │ 6.51e-04 │\n",
      "└─────┴──────────┴─────────────┴──────────┴──────────┴──────────┘\n",
      "  1.943320 seconds (178.84 k allocations: 26.870 MiB)\n"
     ]
    }
   ],
   "source": [
    "@time performant_MatrixIRLS_for_PCA(L₀, y, Φ, verbose = true);"
   ]
  },
  {
   "cell_type": "code",
   "execution_count": null,
   "metadata": {},
   "outputs": [],
   "source": []
  }
 ],
 "metadata": {
  "kernelspec": {
   "display_name": "Julia 1.5.2",
   "language": "julia",
   "name": "julia-1.5"
  },
  "language_info": {
   "file_extension": ".jl",
   "mimetype": "application/julia",
   "name": "julia",
   "version": "1.5.2"
  }
 },
 "nbformat": 4,
 "nbformat_minor": 4
}
